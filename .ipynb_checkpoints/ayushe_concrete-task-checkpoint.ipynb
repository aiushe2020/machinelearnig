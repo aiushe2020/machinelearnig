{
 "cells": [
  {
   "cell_type": "code",
   "execution_count": 1,
   "metadata": {},
   "outputs": [],
   "source": [
    "import numpy as np \r\n",
    "import pandas as pd \r\n",
    "import matplotlib.pyplot as plt\r\n",
    "import seaborn as sns"
   ]
  },
  {
   "cell_type": "code",
   "execution_count": 2,
   "metadata": {},
   "outputs": [
    {
     "name": "stdout",
     "output_type": "stream",
     "text": [
      "Requirement already satisfied: xlrd in c:\\users\\user\\appdata\\local\\programs\\python\\python39\\lib\\site-packages (2.0.1)"
     ]
    },
    {
     "name": "stderr",
     "output_type": "stream",
     "text": [
      "WARNING: You are using pip version 21.2.2; however, version 21.2.4 is available.\n",
      "You should consider upgrading via the 'c:\\users\\user\\appdata\\local\\programs\\python\\python39\\python.exe -m pip install --upgrade pip' command.\n"
     ]
    },
    {
     "name": "stdout",
     "output_type": "stream",
     "text": [
      "\n"
     ]
    }
   ],
   "source": [
    "! pip install xlrd"
   ]
  },
  {
   "cell_type": "code",
   "execution_count": 3,
   "metadata": {},
   "outputs": [],
   "source": [
    "data = pd.read_excel('C:\\\\Users\\\\user\\\\Downloads\\\\Concrete_Data.xls')"
   ]
  },
  {
   "cell_type": "code",
   "execution_count": 4,
   "metadata": {},
   "outputs": [
    {
     "name": "stdout",
     "output_type": "stream",
     "text": [
      "<class 'pandas.core.frame.DataFrame'>\n",
      "RangeIndex: 1030 entries, 0 to 1029\n",
      "Data columns (total 9 columns):\n",
      " #   Column                                                 Non-Null Count  Dtype  \n",
      "---  ------                                                 --------------  -----  \n",
      " 0   Cement (component 1)(kg in a m^3 mixture)              1030 non-null   float64\n",
      " 1   Blast Furnace Slag (component 2)(kg in a m^3 mixture)  1030 non-null   float64\n",
      " 2   Fly Ash (component 3)(kg in a m^3 mixture)             1030 non-null   float64\n",
      " 3   Water  (component 4)(kg in a m^3 mixture)              1030 non-null   float64\n",
      " 4   Superplasticizer (component 5)(kg in a m^3 mixture)    1030 non-null   float64\n",
      " 5   Coarse Aggregate  (component 6)(kg in a m^3 mixture)   1030 non-null   float64\n",
      " 6   Fine Aggregate (component 7)(kg in a m^3 mixture)      1030 non-null   float64\n",
      " 7   Age (day)                                              1030 non-null   int64  \n",
      " 8   Concrete compressive strength(MPa, megapascals)        1030 non-null   float64\n",
      "dtypes: float64(8), int64(1)\n",
      "memory usage: 72.5 KB\n"
     ]
    }
   ],
   "source": [
    "data.info()"
   ]
  },
  {
   "cell_type": "code",
   "execution_count": 5,
   "metadata": {},
   "outputs": [
    {
     "data": {
      "text/plain": [
       "Index(['Cement (component 1)(kg in a m^3 mixture)',\n",
       "       'Blast Furnace Slag (component 2)(kg in a m^3 mixture)',\n",
       "       'Fly Ash (component 3)(kg in a m^3 mixture)',\n",
       "       'Water  (component 4)(kg in a m^3 mixture)',\n",
       "       'Superplasticizer (component 5)(kg in a m^3 mixture)',\n",
       "       'Coarse Aggregate  (component 6)(kg in a m^3 mixture)',\n",
       "       'Fine Aggregate (component 7)(kg in a m^3 mixture)', 'Age (day)',\n",
       "       'Concrete compressive strength(MPa, megapascals) '],\n",
       "      dtype='object')"
      ]
     },
     "execution_count": 5,
     "metadata": {},
     "output_type": "execute_result"
    }
   ],
   "source": [
    "data.columns"
   ]
  },
  {
   "cell_type": "code",
   "execution_count": 6,
   "metadata": {},
   "outputs": [],
   "source": [
    "data.columns = ['Cement',\r\n",
    "       'Blast_Furnace_Slag',\r\n",
    "       'Fly_Ash',\r\n",
    "       'Water',\r\n",
    "       'Superplasticizer',\r\n",
    "       'Coarse_Aggregate',\r\n",
    "       'Fine_Aggregate', 'Age',\r\n",
    "       'Concrete_compressive_strength']"
   ]
  },
  {
   "cell_type": "code",
   "execution_count": 7,
   "metadata": {},
   "outputs": [
    {
     "data": {
      "text/plain": [
       "Index(['Cement', 'Blast_Furnace_Slag', 'Fly_Ash', 'Water', 'Superplasticizer',\n",
       "       'Coarse_Aggregate', 'Fine_Aggregate', 'Age',\n",
       "       'Concrete_compressive_strength'],\n",
       "      dtype='object')"
      ]
     },
     "execution_count": 7,
     "metadata": {},
     "output_type": "execute_result"
    }
   ],
   "source": [
    "data.columns"
   ]
  },
  {
   "cell_type": "code",
   "execution_count": 8,
   "metadata": {},
   "outputs": [
    {
     "data": {
      "text/html": [
       "<div>\n",
       "<style scoped>\n",
       "    .dataframe tbody tr th:only-of-type {\n",
       "        vertical-align: middle;\n",
       "    }\n",
       "\n",
       "    .dataframe tbody tr th {\n",
       "        vertical-align: top;\n",
       "    }\n",
       "\n",
       "    .dataframe thead th {\n",
       "        text-align: right;\n",
       "    }\n",
       "</style>\n",
       "<table border=\"1\" class=\"dataframe\">\n",
       "  <thead>\n",
       "    <tr style=\"text-align: right;\">\n",
       "      <th></th>\n",
       "      <th>Cement</th>\n",
       "      <th>Blast_Furnace_Slag</th>\n",
       "      <th>Fly_Ash</th>\n",
       "      <th>Water</th>\n",
       "      <th>Superplasticizer</th>\n",
       "      <th>Coarse_Aggregate</th>\n",
       "      <th>Fine_Aggregate</th>\n",
       "      <th>Age</th>\n",
       "      <th>Concrete_compressive_strength</th>\n",
       "    </tr>\n",
       "  </thead>\n",
       "  <tbody>\n",
       "    <tr>\n",
       "      <th>1025</th>\n",
       "      <td>276.4</td>\n",
       "      <td>116.0</td>\n",
       "      <td>90.3</td>\n",
       "      <td>179.6</td>\n",
       "      <td>8.9</td>\n",
       "      <td>870.1</td>\n",
       "      <td>768.3</td>\n",
       "      <td>28</td>\n",
       "      <td>44.284354</td>\n",
       "    </tr>\n",
       "    <tr>\n",
       "      <th>1026</th>\n",
       "      <td>322.2</td>\n",
       "      <td>0.0</td>\n",
       "      <td>115.6</td>\n",
       "      <td>196.0</td>\n",
       "      <td>10.4</td>\n",
       "      <td>817.9</td>\n",
       "      <td>813.4</td>\n",
       "      <td>28</td>\n",
       "      <td>31.178794</td>\n",
       "    </tr>\n",
       "    <tr>\n",
       "      <th>1027</th>\n",
       "      <td>148.5</td>\n",
       "      <td>139.4</td>\n",
       "      <td>108.6</td>\n",
       "      <td>192.7</td>\n",
       "      <td>6.1</td>\n",
       "      <td>892.4</td>\n",
       "      <td>780.0</td>\n",
       "      <td>28</td>\n",
       "      <td>23.696601</td>\n",
       "    </tr>\n",
       "    <tr>\n",
       "      <th>1028</th>\n",
       "      <td>159.1</td>\n",
       "      <td>186.7</td>\n",
       "      <td>0.0</td>\n",
       "      <td>175.6</td>\n",
       "      <td>11.3</td>\n",
       "      <td>989.6</td>\n",
       "      <td>788.9</td>\n",
       "      <td>28</td>\n",
       "      <td>32.768036</td>\n",
       "    </tr>\n",
       "    <tr>\n",
       "      <th>1029</th>\n",
       "      <td>260.9</td>\n",
       "      <td>100.5</td>\n",
       "      <td>78.3</td>\n",
       "      <td>200.6</td>\n",
       "      <td>8.6</td>\n",
       "      <td>864.5</td>\n",
       "      <td>761.5</td>\n",
       "      <td>28</td>\n",
       "      <td>32.401235</td>\n",
       "    </tr>\n",
       "  </tbody>\n",
       "</table>\n",
       "</div>"
      ],
      "text/plain": [
       "      Cement  Blast_Furnace_Slag  Fly_Ash  Water  Superplasticizer  \\\n",
       "1025   276.4               116.0     90.3  179.6               8.9   \n",
       "1026   322.2                 0.0    115.6  196.0              10.4   \n",
       "1027   148.5               139.4    108.6  192.7               6.1   \n",
       "1028   159.1               186.7      0.0  175.6              11.3   \n",
       "1029   260.9               100.5     78.3  200.6               8.6   \n",
       "\n",
       "      Coarse_Aggregate  Fine_Aggregate  Age  Concrete_compressive_strength  \n",
       "1025             870.1           768.3   28                      44.284354  \n",
       "1026             817.9           813.4   28                      31.178794  \n",
       "1027             892.4           780.0   28                      23.696601  \n",
       "1028             989.6           788.9   28                      32.768036  \n",
       "1029             864.5           761.5   28                      32.401235  "
      ]
     },
     "execution_count": 8,
     "metadata": {},
     "output_type": "execute_result"
    }
   ],
   "source": [
    "data.head(5)\r\n",
    "data.tail(5)"
   ]
  },
  {
   "cell_type": "code",
   "execution_count": 9,
   "metadata": {},
   "outputs": [],
   "source": [
    "from sklearn.model_selection import train_test_split\r\n",
    "from sklearn.metrics import mean_absolute_percentage_error, mean_squared_error, r2_score"
   ]
  },
  {
   "cell_type": "code",
   "execution_count": 10,
   "metadata": {},
   "outputs": [
    {
     "data": {
      "text/html": [
       "<div>\n",
       "<style scoped>\n",
       "    .dataframe tbody tr th:only-of-type {\n",
       "        vertical-align: middle;\n",
       "    }\n",
       "\n",
       "    .dataframe tbody tr th {\n",
       "        vertical-align: top;\n",
       "    }\n",
       "\n",
       "    .dataframe thead th {\n",
       "        text-align: right;\n",
       "    }\n",
       "</style>\n",
       "<table border=\"1\" class=\"dataframe\">\n",
       "  <thead>\n",
       "    <tr style=\"text-align: right;\">\n",
       "      <th></th>\n",
       "      <th>Cement</th>\n",
       "      <th>Blast_Furnace_Slag</th>\n",
       "      <th>Fly_Ash</th>\n",
       "      <th>Water</th>\n",
       "      <th>Superplasticizer</th>\n",
       "      <th>Coarse_Aggregate</th>\n",
       "      <th>Fine_Aggregate</th>\n",
       "      <th>Age</th>\n",
       "      <th>Concrete_compressive_strength</th>\n",
       "    </tr>\n",
       "  </thead>\n",
       "  <tbody>\n",
       "    <tr>\n",
       "      <th>Cement</th>\n",
       "      <td>1.000000</td>\n",
       "      <td>-0.275193</td>\n",
       "      <td>-0.397475</td>\n",
       "      <td>-0.081544</td>\n",
       "      <td>0.092771</td>\n",
       "      <td>-0.109356</td>\n",
       "      <td>-0.222720</td>\n",
       "      <td>0.081947</td>\n",
       "      <td>0.497833</td>\n",
       "    </tr>\n",
       "    <tr>\n",
       "      <th>Blast_Furnace_Slag</th>\n",
       "      <td>-0.275193</td>\n",
       "      <td>1.000000</td>\n",
       "      <td>-0.323569</td>\n",
       "      <td>0.107286</td>\n",
       "      <td>0.043376</td>\n",
       "      <td>-0.283998</td>\n",
       "      <td>-0.281593</td>\n",
       "      <td>-0.044246</td>\n",
       "      <td>0.134824</td>\n",
       "    </tr>\n",
       "    <tr>\n",
       "      <th>Fly_Ash</th>\n",
       "      <td>-0.397475</td>\n",
       "      <td>-0.323569</td>\n",
       "      <td>1.000000</td>\n",
       "      <td>-0.257044</td>\n",
       "      <td>0.377340</td>\n",
       "      <td>-0.009977</td>\n",
       "      <td>0.079076</td>\n",
       "      <td>-0.154370</td>\n",
       "      <td>-0.105753</td>\n",
       "    </tr>\n",
       "    <tr>\n",
       "      <th>Water</th>\n",
       "      <td>-0.081544</td>\n",
       "      <td>0.107286</td>\n",
       "      <td>-0.257044</td>\n",
       "      <td>1.000000</td>\n",
       "      <td>-0.657464</td>\n",
       "      <td>-0.182312</td>\n",
       "      <td>-0.450635</td>\n",
       "      <td>0.277604</td>\n",
       "      <td>-0.289613</td>\n",
       "    </tr>\n",
       "    <tr>\n",
       "      <th>Superplasticizer</th>\n",
       "      <td>0.092771</td>\n",
       "      <td>0.043376</td>\n",
       "      <td>0.377340</td>\n",
       "      <td>-0.657464</td>\n",
       "      <td>1.000000</td>\n",
       "      <td>-0.266303</td>\n",
       "      <td>0.222501</td>\n",
       "      <td>-0.192717</td>\n",
       "      <td>0.366102</td>\n",
       "    </tr>\n",
       "    <tr>\n",
       "      <th>Coarse_Aggregate</th>\n",
       "      <td>-0.109356</td>\n",
       "      <td>-0.283998</td>\n",
       "      <td>-0.009977</td>\n",
       "      <td>-0.182312</td>\n",
       "      <td>-0.266303</td>\n",
       "      <td>1.000000</td>\n",
       "      <td>-0.178506</td>\n",
       "      <td>-0.003016</td>\n",
       "      <td>-0.164928</td>\n",
       "    </tr>\n",
       "    <tr>\n",
       "      <th>Fine_Aggregate</th>\n",
       "      <td>-0.222720</td>\n",
       "      <td>-0.281593</td>\n",
       "      <td>0.079076</td>\n",
       "      <td>-0.450635</td>\n",
       "      <td>0.222501</td>\n",
       "      <td>-0.178506</td>\n",
       "      <td>1.000000</td>\n",
       "      <td>-0.156094</td>\n",
       "      <td>-0.167249</td>\n",
       "    </tr>\n",
       "    <tr>\n",
       "      <th>Age</th>\n",
       "      <td>0.081947</td>\n",
       "      <td>-0.044246</td>\n",
       "      <td>-0.154370</td>\n",
       "      <td>0.277604</td>\n",
       "      <td>-0.192717</td>\n",
       "      <td>-0.003016</td>\n",
       "      <td>-0.156094</td>\n",
       "      <td>1.000000</td>\n",
       "      <td>0.328877</td>\n",
       "    </tr>\n",
       "    <tr>\n",
       "      <th>Concrete_compressive_strength</th>\n",
       "      <td>0.497833</td>\n",
       "      <td>0.134824</td>\n",
       "      <td>-0.105753</td>\n",
       "      <td>-0.289613</td>\n",
       "      <td>0.366102</td>\n",
       "      <td>-0.164928</td>\n",
       "      <td>-0.167249</td>\n",
       "      <td>0.328877</td>\n",
       "      <td>1.000000</td>\n",
       "    </tr>\n",
       "  </tbody>\n",
       "</table>\n",
       "</div>"
      ],
      "text/plain": [
       "                                 Cement  Blast_Furnace_Slag   Fly_Ash  \\\n",
       "Cement                         1.000000           -0.275193 -0.397475   \n",
       "Blast_Furnace_Slag            -0.275193            1.000000 -0.323569   \n",
       "Fly_Ash                       -0.397475           -0.323569  1.000000   \n",
       "Water                         -0.081544            0.107286 -0.257044   \n",
       "Superplasticizer               0.092771            0.043376  0.377340   \n",
       "Coarse_Aggregate              -0.109356           -0.283998 -0.009977   \n",
       "Fine_Aggregate                -0.222720           -0.281593  0.079076   \n",
       "Age                            0.081947           -0.044246 -0.154370   \n",
       "Concrete_compressive_strength  0.497833            0.134824 -0.105753   \n",
       "\n",
       "                                  Water  Superplasticizer  Coarse_Aggregate  \\\n",
       "Cement                        -0.081544          0.092771         -0.109356   \n",
       "Blast_Furnace_Slag             0.107286          0.043376         -0.283998   \n",
       "Fly_Ash                       -0.257044          0.377340         -0.009977   \n",
       "Water                          1.000000         -0.657464         -0.182312   \n",
       "Superplasticizer              -0.657464          1.000000         -0.266303   \n",
       "Coarse_Aggregate              -0.182312         -0.266303          1.000000   \n",
       "Fine_Aggregate                -0.450635          0.222501         -0.178506   \n",
       "Age                            0.277604         -0.192717         -0.003016   \n",
       "Concrete_compressive_strength -0.289613          0.366102         -0.164928   \n",
       "\n",
       "                               Fine_Aggregate       Age  \\\n",
       "Cement                              -0.222720  0.081947   \n",
       "Blast_Furnace_Slag                  -0.281593 -0.044246   \n",
       "Fly_Ash                              0.079076 -0.154370   \n",
       "Water                               -0.450635  0.277604   \n",
       "Superplasticizer                     0.222501 -0.192717   \n",
       "Coarse_Aggregate                    -0.178506 -0.003016   \n",
       "Fine_Aggregate                       1.000000 -0.156094   \n",
       "Age                                 -0.156094  1.000000   \n",
       "Concrete_compressive_strength       -0.167249  0.328877   \n",
       "\n",
       "                               Concrete_compressive_strength  \n",
       "Cement                                              0.497833  \n",
       "Blast_Furnace_Slag                                  0.134824  \n",
       "Fly_Ash                                            -0.105753  \n",
       "Water                                              -0.289613  \n",
       "Superplasticizer                                    0.366102  \n",
       "Coarse_Aggregate                                   -0.164928  \n",
       "Fine_Aggregate                                     -0.167249  \n",
       "Age                                                 0.328877  \n",
       "Concrete_compressive_strength                       1.000000  "
      ]
     },
     "execution_count": 10,
     "metadata": {},
     "output_type": "execute_result"
    }
   ],
   "source": [
    "data.corr()"
   ]
  },
  {
   "cell_type": "code",
   "execution_count": 11,
   "metadata": {},
   "outputs": [],
   "source": [
    "#sns.pairplot(data)"
   ]
  },
  {
   "cell_type": "code",
   "execution_count": 12,
   "metadata": {},
   "outputs": [],
   "source": [
    "#Xtrain, Ytrain, Xtest, Ytest = train_test_split(X, Y, test_size= 0.2, random_state= 0)"
   ]
  },
  {
   "cell_type": "code",
   "execution_count": 13,
   "metadata": {},
   "outputs": [],
   "source": [
    "from sklearn.linear_model import LinearRegression"
   ]
  },
  {
   "cell_type": "markdown",
   "metadata": {},
   "source": [
    "K-Fold Algorithm"
   ]
  },
  {
   "cell_type": "code",
   "execution_count": 14,
   "metadata": {},
   "outputs": [
    {
     "name": "stdout",
     "output_type": "stream",
     "text": [
      "Fold1\n",
      "=-=-=-=-=-=-\n",
      "MSE: 227.46785525628374\n",
      "MAE: 65.6635936176358\n",
      "R2-Score: 0.10544738482506966\n",
      "*************\n",
      "Fold2\n",
      "=-=-=-=-=-=-\n",
      "MSE: 202.20938824624537\n",
      "MAE: 63.69761061091201\n",
      "R2-Score: -1.1494408891485617\n",
      "*************\n",
      "Fold3\n",
      "=-=-=-=-=-=-\n",
      "MSE: 128.48208724999972\n",
      "MAE: 72.83743045176782\n",
      "R2-Score: -2.27708062620875\n",
      "*************\n"
     ]
    }
   ],
   "source": [
    "from sklearn.model_selection import KFold\r\n",
    "X = data[['Cement','Blast_Furnace_Slag','Superplasticizer']]\r\n",
    "Y = data[['Concrete_compressive_strength']]\r\n",
    "Xtrain, Ytrain, Xtest, Ytest = train_test_split(X, Y, test_size= 0.2, random_state= 0)\r\n",
    "low = 0\r\n",
    "up = data.shape[0]\r\n",
    "folds = KFold(n_splits= 3)\r\n",
    "fold = 0\r\n",
    "for train, test in folds.split(range(low, up)):\r\n",
    "    x = X.iloc[train]\r\n",
    "    y  = Y.iloc[train]\r\n",
    "\r\n",
    "    xt = X.iloc[test]\r\n",
    "    yt = Y.iloc[test]\r\n",
    "    model = LinearRegression()\r\n",
    "    model.fit(x,y)\r\n",
    "    yhat= model.predict(xt.values)\r\n",
    "    fold += 1\r\n",
    "    print(f'Fold{fold}')\r\n",
    "    print('=-=-=-=-=-=-')\r\n",
    "    print('MSE:', mean_squared_error(yhat,yt))\r\n",
    "    print('MAE:',100- mean_absolute_percentage_error(yhat, yt)*100)\r\n",
    "    print('R2-Score:', r2_score(yhat, yt))\r\n",
    "    print('*************')\r\n",
    "\r\n",
    "\r\n"
   ]
  },
  {
   "cell_type": "code",
   "execution_count": 15,
   "metadata": {},
   "outputs": [
    {
     "name": "stdout",
     "output_type": "stream",
     "text": [
      "=-=-=-Fold1=-=-=-\n",
      "MSE: 416.82994356094576\n",
      "MAE: 49.267141156304426\n",
      "R2-Score: -501.79712121965423\n",
      "*************\n",
      "=-=-=-Fold2=-=-=-\n",
      "MSE: 369.90645445098033\n",
      "MAE: 52.62529398749117\n",
      "R2-Score: -8.142712410396635\n",
      "*************\n",
      "=-=-=-Fold3=-=-=-\n",
      "MSE: 280.6140156801155\n",
      "MAE: 64.43291073631076\n",
      "R2-Score: -8.051382429884795\n",
      "*************\n"
     ]
    }
   ],
   "source": [
    "X = data[['Fly_Ash','Coarse_Aggregate']]\r\n",
    "Y = data[['Concrete_compressive_strength']]\r\n",
    "low = 0\r\n",
    "up = data.shape[0]\r\n",
    "folds = KFold(n_splits=3)\r\n",
    "fold = 0\r\n",
    "for train, test in folds.split(range(low,up)):\r\n",
    "    x = X.iloc[train]\r\n",
    "    y = Y.iloc[train]\r\n",
    "    xt = X.iloc[test]\r\n",
    "    yt = Y.iloc[test]\r\n",
    "    model = LinearRegression()\r\n",
    "    model.fit(x,y)\r\n",
    "    yhat = model.predict(xt.values)\r\n",
    "    fold += 1\r\n",
    "    print(f'=-=-=-Fold{fold}=-=-=-')\r\n",
    "    print('MSE:', mean_squared_error(yhat,yt))\r\n",
    "    print('MAE:',100- mean_absolute_percentage_error(yhat, yt)*100)\r\n",
    "    print('R2-Score:', r2_score(yhat, yt))\r\n",
    "    print('*************')\r\n"
   ]
  },
  {
   "cell_type": "markdown",
   "metadata": {},
   "source": [
    "KNN Algorithm"
   ]
  },
  {
   "cell_type": "code",
   "execution_count": 16,
   "metadata": {},
   "outputs": [
    {
     "name": "stdout",
     "output_type": "stream",
     "text": [
      "=-=-=-k=1=-=-=-\n",
      "MSE: 225.31153268172486\n",
      "MAE: 55.42755741968452\n",
      "R2-Score: 0.21151694721229974\n",
      "*************\n",
      "=-=-=-k=3=-=-=-\n",
      "MSE: 142.36961136463344\n",
      "MAE: 71.52057360543304\n",
      "R2-Score: 0.22007807962569093\n",
      "*************\n",
      "=-=-=-k=5=-=-=-\n",
      "MSE: 122.94567467579924\n",
      "MAE: 73.55894449039216\n",
      "R2-Score: 0.21053362177621615\n",
      "*************\n",
      "=-=-=-k=7=-=-=-\n",
      "MSE: 125.11404679282717\n",
      "MAE: 73.23657351651244\n",
      "R2-Score: 0.16366858849736365\n",
      "*************\n"
     ]
    }
   ],
   "source": [
    "from sklearn.neighbors import KNeighborsRegressor\r\n",
    "Xtrain, Ytrain, Xtest, Ytest = train_test_split(X, Y, test_size= 0.2, random_state= 0)\r\n",
    "X = data[['Cement','Blast_Furnace_Slag','Superplasticizer']]\r\n",
    "Y = data[['Concrete_compressive_strength']]\r\n",
    "ks = [1,3,5,7]\r\n",
    "for k in ks:\r\n",
    "    model = KNeighborsRegressor(n_neighbors= k)\r\n",
    "    model.fit(X.values, Y.values)\r\n",
    "    yhat = model.predict(X.values)\r\n",
    "    print(f'=-=-=-k={k}=-=-=-')\r\n",
    "    print('MSE:', mean_squared_error(yhat,Y.values))\r\n",
    "    print('MAE:',100- mean_absolute_percentage_error(yhat, Y.values)*100)\r\n",
    "    print('R2-Score:', r2_score(yhat, Y.values))\r\n",
    "    print('*************')\r\n",
    "    "
   ]
  },
  {
   "cell_type": "code",
   "execution_count": 17,
   "metadata": {},
   "outputs": [
    {
     "name": "stdout",
     "output_type": "stream",
     "text": [
      "MSE: 147.22230517228076\n",
      "MAE: 70.38225837285054\n",
      "R2_Score: 0.06687958099021307\n"
     ]
    }
   ],
   "source": [
    "X = data[['Cement']]\r\n",
    "Y = data[['Concrete_compressive_strength']]\r\n",
    "# ks = [3,5,7]\r\n",
    "# for k in ks:\r\n",
    "model = KNeighborsRegressor() #n_neighbors=k)\r\n",
    "model.fit(X.values, Y.values)\r\n",
    "yhat= model.predict(X.values)\r\n",
    "#print(f'=-=-=-k={k}=-=-=')\r\n",
    "print('MSE:', mean_squared_error(yhat, Y.values))\r\n",
    "print('MAE:', 100- mean_absolute_percentage_error(yhat, Y.values)*100)\r\n",
    "print('R2_Score:', r2_score(yhat, Y.values))"
   ]
  },
  {
   "cell_type": "code",
   "execution_count": 18,
   "metadata": {},
   "outputs": [
    {
     "name": "stdout",
     "output_type": "stream",
     "text": [
      "MSE: 124.02913581902216\n",
      "MAE: 72.78614344115962\n",
      "R2_Score: 0.20243118685491635\n"
     ]
    }
   ],
   "source": [
    "X = data[['Superplasticizer','Cement']]\r\n",
    "Y = data[['Concrete_compressive_strength']]\r\n",
    "model = KNeighborsRegressor()\r\n",
    "model.fit(X.values, Y.values)\r\n",
    "yhat = model.predict(X.values)\r\n",
    "print('MSE:', mean_squared_error(yhat, Y.values))\r\n",
    "print('MAE:', 100- mean_absolute_percentage_error(yhat, Y.values)*100)\r\n",
    "print('R2_Score:', r2_score(yhat, Y.values))"
   ]
  },
  {
   "cell_type": "code",
   "execution_count": 19,
   "metadata": {},
   "outputs": [
    {
     "name": "stdout",
     "output_type": "stream",
     "text": [
      "MSE: 144.35596692165169\n",
      "MAE: 71.2300007482408\n",
      "R2_Score: 0.003266469901325064\n"
     ]
    }
   ],
   "source": [
    "X= data[['Coarse_Aggregate','Fine_Aggregate']]\r\n",
    "Y = data[['Concrete_compressive_strength']]\r\n",
    "model = KNeighborsRegressor()\r\n",
    "model.fit(X, Y)\r\n",
    "yhat = model.predict(X.values)\r\n",
    "print('MSE:', mean_squared_error(yhat, Y.values))\r\n",
    "print('MAE:', 100- mean_absolute_percentage_error(yhat, Y.values)*100)\r\n",
    "print('R2_Score:', r2_score(yhat, Y.values))"
   ]
  },
  {
   "cell_type": "markdown",
   "metadata": {},
   "source": [
    "Decision Tree Algorithm"
   ]
  },
  {
   "cell_type": "code",
   "execution_count": 20,
   "metadata": {},
   "outputs": [
    {
     "name": "stdout",
     "output_type": "stream",
     "text": [
      "MSE: 229.34407098247001\n",
      "MAE: 64.66163676255859\n",
      "R2_Score: -3.6365205155342046\n"
     ]
    }
   ],
   "source": [
    "X= data[['Superplasticizer']]\r\n",
    "Y = data[['Concrete_compressive_strength']]\r\n",
    "from sklearn import tree\r\n",
    "model = tree.DecisionTreeRegressor(criterion='mse', max_features='log2',max_depth=3, max_leaf_nodes=int(np.sqrt(np.array([860]))))\r\n",
    "model.fit(X, Y)\r\n",
    "yhat = model.predict(X.values)\r\n",
    "print('MSE:', mean_squared_error(yhat, Y.values))\r\n",
    "print('MAE:', 100- mean_absolute_percentage_error(yhat, Y.values)*100)\r\n",
    "print('R2_Score:', r2_score(yhat, Y.values))"
   ]
  },
  {
   "cell_type": "code",
   "execution_count": 21,
   "metadata": {},
   "outputs": [
    {
     "name": "stdout",
     "output_type": "stream",
     "text": [
      "\u001b[1;31mInit signature:\u001b[0m\n",
      "\u001b[0mtree\u001b[0m\u001b[1;33m.\u001b[0m\u001b[0mDecisionTreeRegressor\u001b[0m\u001b[1;33m(\u001b[0m\u001b[1;33m\n",
      "\u001b[0m    \u001b[1;33m*\u001b[0m\u001b[1;33m,\u001b[0m\u001b[1;33m\n",
      "\u001b[0m    \u001b[0mcriterion\u001b[0m\u001b[1;33m=\u001b[0m\u001b[1;34m'mse'\u001b[0m\u001b[1;33m,\u001b[0m\u001b[1;33m\n",
      "\u001b[0m    \u001b[0msplitter\u001b[0m\u001b[1;33m=\u001b[0m\u001b[1;34m'best'\u001b[0m\u001b[1;33m,\u001b[0m\u001b[1;33m\n",
      "\u001b[0m    \u001b[0mmax_depth\u001b[0m\u001b[1;33m=\u001b[0m\u001b[1;32mNone\u001b[0m\u001b[1;33m,\u001b[0m\u001b[1;33m\n",
      "\u001b[0m    \u001b[0mmin_samples_split\u001b[0m\u001b[1;33m=\u001b[0m\u001b[1;36m2\u001b[0m\u001b[1;33m,\u001b[0m\u001b[1;33m\n",
      "\u001b[0m    \u001b[0mmin_samples_leaf\u001b[0m\u001b[1;33m=\u001b[0m\u001b[1;36m1\u001b[0m\u001b[1;33m,\u001b[0m\u001b[1;33m\n",
      "\u001b[0m    \u001b[0mmin_weight_fraction_leaf\u001b[0m\u001b[1;33m=\u001b[0m\u001b[1;36m0.0\u001b[0m\u001b[1;33m,\u001b[0m\u001b[1;33m\n",
      "\u001b[0m    \u001b[0mmax_features\u001b[0m\u001b[1;33m=\u001b[0m\u001b[1;32mNone\u001b[0m\u001b[1;33m,\u001b[0m\u001b[1;33m\n",
      "\u001b[0m    \u001b[0mrandom_state\u001b[0m\u001b[1;33m=\u001b[0m\u001b[1;32mNone\u001b[0m\u001b[1;33m,\u001b[0m\u001b[1;33m\n",
      "\u001b[0m    \u001b[0mmax_leaf_nodes\u001b[0m\u001b[1;33m=\u001b[0m\u001b[1;32mNone\u001b[0m\u001b[1;33m,\u001b[0m\u001b[1;33m\n",
      "\u001b[0m    \u001b[0mmin_impurity_decrease\u001b[0m\u001b[1;33m=\u001b[0m\u001b[1;36m0.0\u001b[0m\u001b[1;33m,\u001b[0m\u001b[1;33m\n",
      "\u001b[0m    \u001b[0mmin_impurity_split\u001b[0m\u001b[1;33m=\u001b[0m\u001b[1;32mNone\u001b[0m\u001b[1;33m,\u001b[0m\u001b[1;33m\n",
      "\u001b[0m    \u001b[0mccp_alpha\u001b[0m\u001b[1;33m=\u001b[0m\u001b[1;36m0.0\u001b[0m\u001b[1;33m,\u001b[0m\u001b[1;33m\n",
      "\u001b[0m\u001b[1;33m)\u001b[0m\u001b[1;33m\u001b[0m\u001b[1;33m\u001b[0m\u001b[0m\n",
      "\u001b[1;31mDocstring:\u001b[0m     \n",
      "A decision tree regressor.\n",
      "\n",
      "Read more in the :ref:`User Guide <tree>`.\n",
      "\n",
      "Parameters\n",
      "----------\n",
      "criterion : {\"mse\", \"friedman_mse\", \"mae\", \"poisson\"}, default=\"mse\"\n",
      "    The function to measure the quality of a split. Supported criteria\n",
      "    are \"mse\" for the mean squared error, which is equal to variance\n",
      "    reduction as feature selection criterion and minimizes the L2 loss\n",
      "    using the mean of each terminal node, \"friedman_mse\", which uses mean\n",
      "    squared error with Friedman's improvement score for potential splits,\n",
      "    \"mae\" for the mean absolute error, which minimizes the L1 loss using\n",
      "    the median of each terminal node, and \"poisson\" which uses reduction in\n",
      "    Poisson deviance to find splits.\n",
      "\n",
      "    .. versionadded:: 0.18\n",
      "       Mean Absolute Error (MAE) criterion.\n",
      "\n",
      "    .. versionadded:: 0.24\n",
      "        Poisson deviance criterion.\n",
      "\n",
      "splitter : {\"best\", \"random\"}, default=\"best\"\n",
      "    The strategy used to choose the split at each node. Supported\n",
      "    strategies are \"best\" to choose the best split and \"random\" to choose\n",
      "    the best random split.\n",
      "\n",
      "max_depth : int, default=None\n",
      "    The maximum depth of the tree. If None, then nodes are expanded until\n",
      "    all leaves are pure or until all leaves contain less than\n",
      "    min_samples_split samples.\n",
      "\n",
      "min_samples_split : int or float, default=2\n",
      "    The minimum number of samples required to split an internal node:\n",
      "\n",
      "    - If int, then consider `min_samples_split` as the minimum number.\n",
      "    - If float, then `min_samples_split` is a fraction and\n",
      "      `ceil(min_samples_split * n_samples)` are the minimum\n",
      "      number of samples for each split.\n",
      "\n",
      "    .. versionchanged:: 0.18\n",
      "       Added float values for fractions.\n",
      "\n",
      "min_samples_leaf : int or float, default=1\n",
      "    The minimum number of samples required to be at a leaf node.\n",
      "    A split point at any depth will only be considered if it leaves at\n",
      "    least ``min_samples_leaf`` training samples in each of the left and\n",
      "    right branches.  This may have the effect of smoothing the model,\n",
      "    especially in regression.\n",
      "\n",
      "    - If int, then consider `min_samples_leaf` as the minimum number.\n",
      "    - If float, then `min_samples_leaf` is a fraction and\n",
      "      `ceil(min_samples_leaf * n_samples)` are the minimum\n",
      "      number of samples for each node.\n",
      "\n",
      "    .. versionchanged:: 0.18\n",
      "       Added float values for fractions.\n",
      "\n",
      "min_weight_fraction_leaf : float, default=0.0\n",
      "    The minimum weighted fraction of the sum total of weights (of all\n",
      "    the input samples) required to be at a leaf node. Samples have\n",
      "    equal weight when sample_weight is not provided.\n",
      "\n",
      "max_features : int, float or {\"auto\", \"sqrt\", \"log2\"}, default=None\n",
      "    The number of features to consider when looking for the best split:\n",
      "\n",
      "    - If int, then consider `max_features` features at each split.\n",
      "    - If float, then `max_features` is a fraction and\n",
      "      `int(max_features * n_features)` features are considered at each\n",
      "      split.\n",
      "    - If \"auto\", then `max_features=n_features`.\n",
      "    - If \"sqrt\", then `max_features=sqrt(n_features)`.\n",
      "    - If \"log2\", then `max_features=log2(n_features)`.\n",
      "    - If None, then `max_features=n_features`.\n",
      "\n",
      "    Note: the search for a split does not stop until at least one\n",
      "    valid partition of the node samples is found, even if it requires to\n",
      "    effectively inspect more than ``max_features`` features.\n",
      "\n",
      "random_state : int, RandomState instance or None, default=None\n",
      "    Controls the randomness of the estimator. The features are always\n",
      "    randomly permuted at each split, even if ``splitter`` is set to\n",
      "    ``\"best\"``. When ``max_features < n_features``, the algorithm will\n",
      "    select ``max_features`` at random at each split before finding the best\n",
      "    split among them. But the best found split may vary across different\n",
      "    runs, even if ``max_features=n_features``. That is the case, if the\n",
      "    improvement of the criterion is identical for several splits and one\n",
      "    split has to be selected at random. To obtain a deterministic behaviour\n",
      "    during fitting, ``random_state`` has to be fixed to an integer.\n",
      "    See :term:`Glossary <random_state>` for details.\n",
      "\n",
      "max_leaf_nodes : int, default=None\n",
      "    Grow a tree with ``max_leaf_nodes`` in best-first fashion.\n",
      "    Best nodes are defined as relative reduction in impurity.\n",
      "    If None then unlimited number of leaf nodes.\n",
      "\n",
      "min_impurity_decrease : float, default=0.0\n",
      "    A node will be split if this split induces a decrease of the impurity\n",
      "    greater than or equal to this value.\n",
      "\n",
      "    The weighted impurity decrease equation is the following::\n",
      "\n",
      "        N_t / N * (impurity - N_t_R / N_t * right_impurity\n",
      "                            - N_t_L / N_t * left_impurity)\n",
      "\n",
      "    where ``N`` is the total number of samples, ``N_t`` is the number of\n",
      "    samples at the current node, ``N_t_L`` is the number of samples in the\n",
      "    left child, and ``N_t_R`` is the number of samples in the right child.\n",
      "\n",
      "    ``N``, ``N_t``, ``N_t_R`` and ``N_t_L`` all refer to the weighted sum,\n",
      "    if ``sample_weight`` is passed.\n",
      "\n",
      "    .. versionadded:: 0.19\n",
      "\n",
      "min_impurity_split : float, default=0\n",
      "    Threshold for early stopping in tree growth. A node will split\n",
      "    if its impurity is above the threshold, otherwise it is a leaf.\n",
      "\n",
      "    .. deprecated:: 0.19\n",
      "       ``min_impurity_split`` has been deprecated in favor of\n",
      "       ``min_impurity_decrease`` in 0.19. The default value of\n",
      "       ``min_impurity_split`` has changed from 1e-7 to 0 in 0.23 and it\n",
      "       will be removed in 1.0 (renaming of 0.25).\n",
      "       Use ``min_impurity_decrease`` instead.\n",
      "\n",
      "ccp_alpha : non-negative float, default=0.0\n",
      "    Complexity parameter used for Minimal Cost-Complexity Pruning. The\n",
      "    subtree with the largest cost complexity that is smaller than\n",
      "    ``ccp_alpha`` will be chosen. By default, no pruning is performed. See\n",
      "    :ref:`minimal_cost_complexity_pruning` for details.\n",
      "\n",
      "    .. versionadded:: 0.22\n",
      "\n",
      "Attributes\n",
      "----------\n",
      "feature_importances_ : ndarray of shape (n_features,)\n",
      "    The feature importances.\n",
      "    The higher, the more important the feature.\n",
      "    The importance of a feature is computed as the\n",
      "    (normalized) total reduction of the criterion brought\n",
      "    by that feature. It is also known as the Gini importance [4]_.\n",
      "\n",
      "    Warning: impurity-based feature importances can be misleading for\n",
      "    high cardinality features (many unique values). See\n",
      "    :func:`sklearn.inspection.permutation_importance` as an alternative.\n",
      "\n",
      "max_features_ : int\n",
      "    The inferred value of max_features.\n",
      "\n",
      "n_features_ : int\n",
      "    The number of features when ``fit`` is performed.\n",
      "\n",
      "n_outputs_ : int\n",
      "    The number of outputs when ``fit`` is performed.\n",
      "\n",
      "tree_ : Tree instance\n",
      "    The underlying Tree object. Please refer to\n",
      "    ``help(sklearn.tree._tree.Tree)`` for attributes of Tree object and\n",
      "    :ref:`sphx_glr_auto_examples_tree_plot_unveil_tree_structure.py`\n",
      "    for basic usage of these attributes.\n",
      "\n",
      "See Also\n",
      "--------\n",
      "DecisionTreeClassifier : A decision tree classifier.\n",
      "\n",
      "Notes\n",
      "-----\n",
      "The default values for the parameters controlling the size of the trees\n",
      "(e.g. ``max_depth``, ``min_samples_leaf``, etc.) lead to fully grown and\n",
      "unpruned trees which can potentially be very large on some data sets. To\n",
      "reduce memory consumption, the complexity and size of the trees should be\n",
      "controlled by setting those parameter values.\n",
      "\n",
      "References\n",
      "----------\n",
      "\n",
      ".. [1] https://en.wikipedia.org/wiki/Decision_tree_learning\n",
      "\n",
      ".. [2] L. Breiman, J. Friedman, R. Olshen, and C. Stone, \"Classification\n",
      "       and Regression Trees\", Wadsworth, Belmont, CA, 1984.\n",
      "\n",
      ".. [3] T. Hastie, R. Tibshirani and J. Friedman. \"Elements of Statistical\n",
      "       Learning\", Springer, 2009.\n",
      "\n",
      ".. [4] L. Breiman, and A. Cutler, \"Random Forests\",\n",
      "       https://www.stat.berkeley.edu/~breiman/RandomForests/cc_home.htm\n",
      "\n",
      "Examples\n",
      "--------\n",
      ">>> from sklearn.datasets import load_diabetes\n",
      ">>> from sklearn.model_selection import cross_val_score\n",
      ">>> from sklearn.tree import DecisionTreeRegressor\n",
      ">>> X, y = load_diabetes(return_X_y=True)\n",
      ">>> regressor = DecisionTreeRegressor(random_state=0)\n",
      ">>> cross_val_score(regressor, X, y, cv=10)\n",
      "...                    # doctest: +SKIP\n",
      "...\n",
      "array([-0.39..., -0.46...,  0.02...,  0.06..., -0.50...,\n",
      "       0.16...,  0.11..., -0.73..., -0.30..., -0.00...])\n",
      "\u001b[1;31mFile:\u001b[0m           c:\\users\\user\\appdata\\local\\programs\\python\\python39\\lib\\site-packages\\sklearn\\tree\\_classes.py\n",
      "\u001b[1;31mType:\u001b[0m           ABCMeta\n",
      "\u001b[1;31mSubclasses:\u001b[0m     ExtraTreeRegressor\n"
     ]
    }
   ],
   "source": [
    "model = tree.DecisionTreeRegressor?"
   ]
  },
  {
   "cell_type": "code",
   "execution_count": null,
   "metadata": {},
   "outputs": [],
   "source": [
    "model = tree.DecisionTreeRegressor"
   ]
  },
  {
   "cell_type": "code",
   "execution_count": 22,
   "metadata": {},
   "outputs": [],
   "source": [
    "model = tree.DecisionTreeRegressor"
   ]
  },
  {
   "cell_type": "code",
   "execution_count": 23,
   "metadata": {},
   "outputs": [],
   "source": [
    "model = tree.DecisionTreeRegressor"
   ]
  },
  {
   "cell_type": "code",
   "execution_count": 24,
   "metadata": {},
   "outputs": [
    {
     "data": {
      "text/html": [
       "<div>\n",
       "<style scoped>\n",
       "    .dataframe tbody tr th:only-of-type {\n",
       "        vertical-align: middle;\n",
       "    }\n",
       "\n",
       "    .dataframe tbody tr th {\n",
       "        vertical-align: top;\n",
       "    }\n",
       "\n",
       "    .dataframe thead th {\n",
       "        text-align: right;\n",
       "    }\n",
       "</style>\n",
       "<table border=\"1\" class=\"dataframe\">\n",
       "  <thead>\n",
       "    <tr style=\"text-align: right;\">\n",
       "      <th></th>\n",
       "      <th>Cement</th>\n",
       "      <th>Blast_Furnace_Slag</th>\n",
       "      <th>Fly_Ash</th>\n",
       "      <th>Water</th>\n",
       "      <th>Superplasticizer</th>\n",
       "      <th>Coarse_Aggregate</th>\n",
       "      <th>Fine_Aggregate</th>\n",
       "      <th>Age</th>\n",
       "      <th>Concrete_compressive_strength</th>\n",
       "    </tr>\n",
       "  </thead>\n",
       "  <tbody>\n",
       "    <tr>\n",
       "      <th>Cement</th>\n",
       "      <td>1.000000</td>\n",
       "      <td>-0.275193</td>\n",
       "      <td>-0.397475</td>\n",
       "      <td>-0.081544</td>\n",
       "      <td>0.092771</td>\n",
       "      <td>-0.109356</td>\n",
       "      <td>-0.222720</td>\n",
       "      <td>0.081947</td>\n",
       "      <td>0.497833</td>\n",
       "    </tr>\n",
       "    <tr>\n",
       "      <th>Blast_Furnace_Slag</th>\n",
       "      <td>-0.275193</td>\n",
       "      <td>1.000000</td>\n",
       "      <td>-0.323569</td>\n",
       "      <td>0.107286</td>\n",
       "      <td>0.043376</td>\n",
       "      <td>-0.283998</td>\n",
       "      <td>-0.281593</td>\n",
       "      <td>-0.044246</td>\n",
       "      <td>0.134824</td>\n",
       "    </tr>\n",
       "    <tr>\n",
       "      <th>Fly_Ash</th>\n",
       "      <td>-0.397475</td>\n",
       "      <td>-0.323569</td>\n",
       "      <td>1.000000</td>\n",
       "      <td>-0.257044</td>\n",
       "      <td>0.377340</td>\n",
       "      <td>-0.009977</td>\n",
       "      <td>0.079076</td>\n",
       "      <td>-0.154370</td>\n",
       "      <td>-0.105753</td>\n",
       "    </tr>\n",
       "    <tr>\n",
       "      <th>Water</th>\n",
       "      <td>-0.081544</td>\n",
       "      <td>0.107286</td>\n",
       "      <td>-0.257044</td>\n",
       "      <td>1.000000</td>\n",
       "      <td>-0.657464</td>\n",
       "      <td>-0.182312</td>\n",
       "      <td>-0.450635</td>\n",
       "      <td>0.277604</td>\n",
       "      <td>-0.289613</td>\n",
       "    </tr>\n",
       "    <tr>\n",
       "      <th>Superplasticizer</th>\n",
       "      <td>0.092771</td>\n",
       "      <td>0.043376</td>\n",
       "      <td>0.377340</td>\n",
       "      <td>-0.657464</td>\n",
       "      <td>1.000000</td>\n",
       "      <td>-0.266303</td>\n",
       "      <td>0.222501</td>\n",
       "      <td>-0.192717</td>\n",
       "      <td>0.366102</td>\n",
       "    </tr>\n",
       "    <tr>\n",
       "      <th>Coarse_Aggregate</th>\n",
       "      <td>-0.109356</td>\n",
       "      <td>-0.283998</td>\n",
       "      <td>-0.009977</td>\n",
       "      <td>-0.182312</td>\n",
       "      <td>-0.266303</td>\n",
       "      <td>1.000000</td>\n",
       "      <td>-0.178506</td>\n",
       "      <td>-0.003016</td>\n",
       "      <td>-0.164928</td>\n",
       "    </tr>\n",
       "    <tr>\n",
       "      <th>Fine_Aggregate</th>\n",
       "      <td>-0.222720</td>\n",
       "      <td>-0.281593</td>\n",
       "      <td>0.079076</td>\n",
       "      <td>-0.450635</td>\n",
       "      <td>0.222501</td>\n",
       "      <td>-0.178506</td>\n",
       "      <td>1.000000</td>\n",
       "      <td>-0.156094</td>\n",
       "      <td>-0.167249</td>\n",
       "    </tr>\n",
       "    <tr>\n",
       "      <th>Age</th>\n",
       "      <td>0.081947</td>\n",
       "      <td>-0.044246</td>\n",
       "      <td>-0.154370</td>\n",
       "      <td>0.277604</td>\n",
       "      <td>-0.192717</td>\n",
       "      <td>-0.003016</td>\n",
       "      <td>-0.156094</td>\n",
       "      <td>1.000000</td>\n",
       "      <td>0.328877</td>\n",
       "    </tr>\n",
       "    <tr>\n",
       "      <th>Concrete_compressive_strength</th>\n",
       "      <td>0.497833</td>\n",
       "      <td>0.134824</td>\n",
       "      <td>-0.105753</td>\n",
       "      <td>-0.289613</td>\n",
       "      <td>0.366102</td>\n",
       "      <td>-0.164928</td>\n",
       "      <td>-0.167249</td>\n",
       "      <td>0.328877</td>\n",
       "      <td>1.000000</td>\n",
       "    </tr>\n",
       "  </tbody>\n",
       "</table>\n",
       "</div>"
      ],
      "text/plain": [
       "                                 Cement  Blast_Furnace_Slag   Fly_Ash  \\\n",
       "Cement                         1.000000           -0.275193 -0.397475   \n",
       "Blast_Furnace_Slag            -0.275193            1.000000 -0.323569   \n",
       "Fly_Ash                       -0.397475           -0.323569  1.000000   \n",
       "Water                         -0.081544            0.107286 -0.257044   \n",
       "Superplasticizer               0.092771            0.043376  0.377340   \n",
       "Coarse_Aggregate              -0.109356           -0.283998 -0.009977   \n",
       "Fine_Aggregate                -0.222720           -0.281593  0.079076   \n",
       "Age                            0.081947           -0.044246 -0.154370   \n",
       "Concrete_compressive_strength  0.497833            0.134824 -0.105753   \n",
       "\n",
       "                                  Water  Superplasticizer  Coarse_Aggregate  \\\n",
       "Cement                        -0.081544          0.092771         -0.109356   \n",
       "Blast_Furnace_Slag             0.107286          0.043376         -0.283998   \n",
       "Fly_Ash                       -0.257044          0.377340         -0.009977   \n",
       "Water                          1.000000         -0.657464         -0.182312   \n",
       "Superplasticizer              -0.657464          1.000000         -0.266303   \n",
       "Coarse_Aggregate              -0.182312         -0.266303          1.000000   \n",
       "Fine_Aggregate                -0.450635          0.222501         -0.178506   \n",
       "Age                            0.277604         -0.192717         -0.003016   \n",
       "Concrete_compressive_strength -0.289613          0.366102         -0.164928   \n",
       "\n",
       "                               Fine_Aggregate       Age  \\\n",
       "Cement                              -0.222720  0.081947   \n",
       "Blast_Furnace_Slag                  -0.281593 -0.044246   \n",
       "Fly_Ash                              0.079076 -0.154370   \n",
       "Water                               -0.450635  0.277604   \n",
       "Superplasticizer                     0.222501 -0.192717   \n",
       "Coarse_Aggregate                    -0.178506 -0.003016   \n",
       "Fine_Aggregate                       1.000000 -0.156094   \n",
       "Age                                 -0.156094  1.000000   \n",
       "Concrete_compressive_strength       -0.167249  0.328877   \n",
       "\n",
       "                               Concrete_compressive_strength  \n",
       "Cement                                              0.497833  \n",
       "Blast_Furnace_Slag                                  0.134824  \n",
       "Fly_Ash                                            -0.105753  \n",
       "Water                                              -0.289613  \n",
       "Superplasticizer                                    0.366102  \n",
       "Coarse_Aggregate                                   -0.164928  \n",
       "Fine_Aggregate                                     -0.167249  \n",
       "Age                                                 0.328877  \n",
       "Concrete_compressive_strength                       1.000000  "
      ]
     },
     "execution_count": 24,
     "metadata": {},
     "output_type": "execute_result"
    }
   ],
   "source": [
    "data.corr()"
   ]
  },
  {
   "cell_type": "code",
   "execution_count": 25,
   "metadata": {},
   "outputs": [
    {
     "name": "stdout",
     "output_type": "stream",
     "text": [
      "MSE: 194.4069796730429\n",
      "MAE: 67.50110218867091\n",
      "R2-Score: -0.9738651520657218\n"
     ]
    }
   ],
   "source": [
    "from sklearn import tree\r\n",
    "X = data[['Cement']]\r\n",
    "Y = data[['Concrete_compressive_strength']]\r\n",
    "dt_model = tree.DecisionTreeRegressor(criterion = 'mae', max_depth=4, max_features='log2', max_leaf_nodes = 8)\r\n",
    "dt_model.fit(X, Y)\r\n",
    "yhat = dt_model.predict(X.values)\r\n",
    "print('MSE:', mean_squared_error(yhat, Y.values))\r\n",
    "print('MAE:', 100 - mean_absolute_percentage_error(yhat, Y.values)*100)\r\n",
    "print('R2-Score:', r2_score(yhat, Y.values))"
   ]
  },
  {
   "cell_type": "code",
   "execution_count": 26,
   "metadata": {},
   "outputs": [
    {
     "name": "stdout",
     "output_type": "stream",
     "text": [
      "MSE: 235.43306420353474\n",
      "MAE: 99.64687958452586\n",
      "R2_score: -4.4277638654716\n"
     ]
    }
   ],
   "source": [
    "X = data[['Blast_Furnace_Slag']]\r\n",
    "Y = data[['Concrete_compressive_strength']]\r\n",
    "dt_model = tree.DecisionTreeRegressor(criterion='mse', max_features='auto',max_depth=4, max_leaf_nodes=int(np.sqrt(np.array([210]))))\r\n",
    "dt_model.fit(X , Y)\r\n",
    "yhat = dt_model.predict(X.values)\r\n",
    "print('MSE:', mean_squared_error(yhat, Y.values))\r\n",
    "print('MAE:', 100 - mean_absolute_percentage_error(yhat, Y.values))\r\n",
    "print('R2_score:', r2_score(yhat, Y.values))\r\n"
   ]
  },
  {
   "cell_type": "markdown",
   "metadata": {},
   "source": [
    "Random Forest Regressor"
   ]
  },
  {
   "cell_type": "code",
   "execution_count": 27,
   "metadata": {},
   "outputs": [
    {
     "name": "stdout",
     "output_type": "stream",
     "text": [
      "MSE: 9.940779611346548\n",
      "MAE: 99.92840487028217\n",
      "R2_score: 0.9603519096631465\n"
     ]
    }
   ],
   "source": [
    "from sklearn import tree\r\n",
    "from sklearn.ensemble import RandomForestRegressor\r\n",
    "xtrain = data[['Cement', 'Superplasticizer', 'Age']]\r\n",
    "ytrain = data[['Concrete_compressive_strength']].values.ravel()\r\n",
    "xtest = data[['Cement', 'Superplasticizer', 'Age']]\r\n",
    "ytest = data[['Concrete_compressive_strength']].values.ravel()\r\n",
    "rf_model = RandomForestRegressor(random_state=0, n_estimators=100)\r\n",
    "rf_model.fit(xtrain, ytrain)\r\n",
    "yhat = rf_model.predict(xtest)\r\n",
    "print('MSE:', mean_squared_error(yhat,ytest))\r\n",
    "print('MAE:', 100 - mean_absolute_percentage_error(yhat, ytest))\r\n",
    "print('R2_score:', r2_score(yhat,ytest))\r\n"
   ]
  },
  {
   "cell_type": "code",
   "execution_count": 28,
   "metadata": {},
   "outputs": [
    {
     "name": "stdout",
     "output_type": "stream",
     "text": [
      "MSE: 22.990737906473797\n",
      "MAE: 99.89471199053874\n",
      "R2_score: 0.9025884781342924\n"
     ]
    }
   ],
   "source": [
    "xtrain = data[['Cement','Age']]\r\n",
    "ytrain = data[['Concrete_compressive_strength']].values.ravel()\r\n",
    "xtest = data[['Cement', 'Age']]\r\n",
    "ytest = data[['Concrete_compressive_strength']].values.ravel()\r\n",
    "rf_model = RandomForestRegressor(random_state=0, n_estimators=100)\r\n",
    "rf_model.fit(xtrain,ytrain)\r\n",
    "yhat = rf_model.predict(xtest)\r\n",
    "print('MSE:', mean_squared_error(yhat,ytest))\r\n",
    "print('MAE:', 100 - mean_absolute_percentage_error(yhat, ytest))\r\n",
    "print('R2_score:', r2_score(yhat,ytest))\r\n"
   ]
  },
  {
   "cell_type": "code",
   "execution_count": 29,
   "metadata": {},
   "outputs": [
    {
     "name": "stdout",
     "output_type": "stream",
     "text": [
      "MSE: 70.35228275363686\n",
      "MAE: 99.81080012256399\n",
      "R2_score: 0.6384339599262587\n"
     ]
    }
   ],
   "source": [
    "xtrain = data[['Superplasticizer', 'Age']]\r\n",
    "ytrain = data[['Concrete_compressive_strength']].values.ravel()\r\n",
    "xtest = data[['Superplasticizer', 'Age']]\r\n",
    "ytest = data[['Concrete_compressive_strength']].values.ravel()\r\n",
    "rf_model = RandomForestRegressor(random_state=0, n_estimators=100)\r\n",
    "rf_model.fit(xtrain,ytrain)\r\n",
    "yhat = rf_model.predict(xtest)\r\n",
    "print('MSE:', mean_squared_error(yhat,ytest))\r\n",
    "print('MAE:', 100 - mean_absolute_percentage_error(yhat, ytest))\r\n",
    "print('R2_score:', r2_score(yhat,ytest))"
   ]
  },
  {
   "cell_type": "code",
   "execution_count": 30,
   "metadata": {},
   "outputs": [
    {
     "name": "stdout",
     "output_type": "stream",
     "text": [
      "MSE: 105.46500086328754\n",
      "MAE: 99.76511995045557\n",
      "R2_score: 0.3660804647439859\n"
     ]
    }
   ],
   "source": [
    "xtrain = data[['Cement', 'Blast_Furnace_Slag']]\r\n",
    "ytrain = data[['Concrete_compressive_strength']].values.ravel()\r\n",
    "xtest = data[['Cement', 'Blast_Furnace_Slag']]\r\n",
    "ytest = data[['Concrete_compressive_strength']].values.ravel()\r\n",
    "rf_model = RandomForestRegressor(random_state=0, n_estimators=100)\r\n",
    "rf_model.fit(xtrain,ytrain)\r\n",
    "yhat = rf_model.predict(xtest)\r\n",
    "print('MSE:', mean_squared_error(yhat,ytest))\r\n",
    "print('MAE:', 100 - mean_absolute_percentage_error(yhat, ytest))\r\n",
    "print('R2_score:', r2_score(yhat,ytest))"
   ]
  },
  {
   "cell_type": "markdown",
   "metadata": {},
   "source": [
    "Support Vector Regression"
   ]
  },
  {
   "cell_type": "code",
   "execution_count": 31,
   "metadata": {},
   "outputs": [],
   "source": [
    "X = data[['Cement', 'Superplasticizer', 'Age']]\r\n",
    "Y = data[['Concrete_compressive_strength']]\r\n",
    "\r\n",
    "from sklearn.svm import SVR\r\n",
    "\r\n",
    "from sklearn.model_selection import train_test_split\r\n",
    "xtrain, xtest, ytrain, ytest = train_test_split(X, Y, test_size=0.2, random_state=1)\r\n",
    "\r\n",
    "## Model Init\r\n",
    "from sklearn.svm import SVR\r\n",
    "\r\n",
    "svrR = SVR()\r\n",
    "svrL = SVR(kernel='linear', C=150, epsilon=8)\r\n",
    "svrP = SVR(kernel='poly', degree=1)\r\n",
    "## Training\r\n",
    "svrR.fit(xtrain, ytrain.values.ravel())\r\n",
    "svrL.fit(xtrain, ytrain.values.ravel())\r\n",
    "svrP.fit(xtrain, ytrain.values.ravel())\r\n",
    "\r\n",
    "## Test Prediction\r\n",
    "yhatR = svrR.predict(xtest)\r\n",
    "yhatL = svrL.predict(xtest)\r\n",
    "yhatP = svrP.predict(xtest)\r\n",
    "## Evaluation\r\n",
    "from sklearn.metrics import mean_squared_error, r2_score\r\n",
    "print(f\"========== RBF ==============\")\r\n",
    "print(\"MSE: \", mean_squared_error(yhatR,ytest.values.ravel()))\r\n",
    "print(\"RS Score: \", r2_score(yhatR, ytest.values.ravel()))\r\n",
    "print(f\"========== Linear ==============\")\r\n",
    "print(\"MSE: \", mean_squared_error(yhatL,ytest.values.ravel()))\r\n",
    "print(\"RS Score: \", r2_score(yhatL, ytest.values.ravel()))\r\n",
    "print(f\"========== Polynomial ==============\")\r\n",
    "print(\"MSE: \", mean_squared_error(yhatP,ytest.values.ravel()))\r\n",
    "print(\"RS Score: \", r2_score(yhatP, ytest.values.ravel()))\r\n",
    "\r\n",
    "\r\n",
    "\r\n"
   ]
  }
 ],
 "metadata": {
  "interpreter": {
   "hash": "247ab06e135bb35fa78c5eff31b2a9a0050dcb5fb773c2631d2a29ac689eeccb"
  },
  "kernelspec": {
   "display_name": "Python 3.9.5 64-bit",
   "name": "python3"
  },
  "language_info": {
   "codemirror_mode": {
    "name": "ipython",
    "version": 3
   },
   "file_extension": ".py",
   "mimetype": "text/x-python",
   "name": "python",
   "nbconvert_exporter": "python",
   "pygments_lexer": "ipython3",
   "version": "3.9.5"
  }
 },
 "nbformat": 4,
 "nbformat_minor": 2
}
