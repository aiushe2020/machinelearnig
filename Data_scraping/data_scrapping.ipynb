{
 "cells": [
  {
   "cell_type": "code",
   "execution_count": null,
   "metadata": {},
   "outputs": [],
   "source": []
  },
  {
   "cell_type": "code",
   "execution_count": 1,
   "metadata": {},
   "outputs": [
    {
     "name": "stdout",
     "output_type": "stream",
     "text": [
      "Requirement already satisfied: requests in c:\\users\\user\\appdata\\local\\programs\\python\\python39\\lib\\site-packages (2.26.0)"
     ]
    },
    {
     "name": "stderr",
     "output_type": "stream",
     "text": [
      "WARNING: You are using pip version 21.2.2; however, version 21.3 is available.\n",
      "You should consider upgrading via the 'c:\\users\\user\\appdata\\local\\programs\\python\\python39\\python.exe -m pip install --upgrade pip' command.\n"
     ]
    },
    {
     "name": "stdout",
     "output_type": "stream",
     "text": [
      "\n",
      "Requirement already satisfied: certifi>=2017.4.17 in c:\\users\\user\\appdata\\local\\programs\\python\\python39\\lib\\site-packages (from requests) (2021.10.8)\n",
      "Requirement already satisfied: idna<4,>=2.5 in c:\\users\\user\\appdata\\local\\programs\\python\\python39\\lib\\site-packages (from requests) (3.3)\n",
      "Requirement already satisfied: urllib3<1.27,>=1.21.1 in c:\\users\\user\\appdata\\local\\programs\\python\\python39\\lib\\site-packages (from requests) (1.26.7)\n",
      "Requirement already satisfied: charset-normalizer~=2.0.0 in c:\\users\\user\\appdata\\local\\programs\\python\\python39\\lib\\site-packages (from requests) (2.0.7)\n"
     ]
    }
   ],
   "source": [
    "! pip install requests"
   ]
  },
  {
   "cell_type": "code",
   "execution_count": 2,
   "metadata": {},
   "outputs": [
    {
     "data": {
      "text/plain": [
       "200"
      ]
     },
     "execution_count": 2,
     "metadata": {},
     "output_type": "execute_result"
    }
   ],
   "source": [
    "import requests\n",
    "url = r'http://quotes.toscrape.com/'\n",
    "response = requests.get(url)\n",
    "response.status_code"
   ]
  },
  {
   "cell_type": "code",
   "execution_count": 3,
   "metadata": {},
   "outputs": [
    {
     "data": {
      "text/plain": [
       "'<!DOCTYPE html>\\n<html lang=\"en\">\\n<head>\\n\\t<meta charset=\"UTF-8\">\\n\\t<title>Quotes to Scrape</title>\\n    <link rel=\"stylesheet\" href=\"/static/bootstrap.min.css\">\\n    <link rel=\"stylesheet\" href=\"/static/main.css\">\\n</head>\\n<body>\\n    <div class=\"container\">\\n        <div class=\"row header-box\">\\n            <div class=\"col-md-8\">\\n                <h1>\\n                    <a href=\"/\" style=\"text-decoration: none\">Quotes to Scrape</a>\\n                </h1>\\n            </div>\\n            <div class=\"col-md-4\">\\n                <p>\\n                \\n                    <a href=\"/login\">Login</a>\\n                \\n                </p>\\n            </div>\\n        </div>\\n    \\n\\n<div class=\"row\">\\n    <div class=\"col-md-8\">\\n\\n    <div class=\"quote\" itemscope itemtype=\"http://schema.org/CreativeWork\">\\n        <span class=\"text\" itemprop=\"text\">“The world as we have created it is a process of our thinking. It cannot be changed without changing our thinking.”</span>\\n        <span>by <small class=\"author\" itemprop=\"author\">Albert Einstein</small>\\n        <a href=\"/author/Albert-Einstein\">(about)</a>\\n        </span>\\n        <div class=\"tags\">\\n            Tags:\\n            <meta class=\"keywords\" itemprop=\"keywords\" content=\"change,deep-thoughts,thinking,world\" /    > \\n            \\n            <a class=\"tag\" href=\"/tag/change/page/1/\">change</a>\\n            \\n            <a class=\"tag\" href=\"/tag/deep-thoughts/page/1/\">deep-thoughts</a>\\n            \\n            <a class=\"tag\" href=\"/tag/thinking/page/1/\">thinking</a>\\n            \\n            <a class=\"tag\" href=\"/tag/world/page/1/\">world</a>\\n            \\n        </div>\\n    </div>\\n\\n    <div class=\"quote\" itemscope itemtype=\"http://schema.org/CreativeWork\">\\n        <span class=\"text\" itemprop=\"text\">“It is our choices, Harry, that show what we truly are, far more than our abilities.”</span>\\n        <span>by <small class=\"author\" itemprop=\"author\">J.K. Rowling</small>\\n        <a href=\"/author/J-K-Rowling\">(about)</a>\\n        </span>\\n        <div class=\"tags\">\\n            Tags:\\n            <meta class=\"keywords\" itemprop=\"keywords\" content=\"abilities,choices\" /    > \\n            \\n            <a class=\"tag\" href=\"/tag/abilities/page/1/\">abilities</a>\\n            \\n            <a class=\"tag\" href=\"/tag/choices/page/1/\">choices</a>\\n            \\n        </div>\\n    </div>\\n\\n    <div class=\"quote\" itemscope itemtype=\"http://schema.org/CreativeWork\">\\n        <span class=\"text\" itemprop=\"text\">“There are only two ways to live your life. One is as though nothing is a miracle. The other is as though everything is a miracle.”</span>\\n        <span>by <small class=\"author\" itemprop=\"author\">Albert Einstein</small>\\n        <a href=\"/author/Albert-Einstein\">(about)</a>\\n        </span>\\n        <div class=\"tags\">\\n            Tags:\\n            <meta class=\"keywords\" itemprop=\"keywords\" content=\"inspirational,life,live,miracle,miracles\" /    > \\n            \\n            <a class=\"tag\" href=\"/tag/inspirational/page/1/\">inspirational</a>\\n            \\n            <a class=\"tag\" href=\"/tag/life/page/1/\">life</a>\\n            \\n            <a class=\"tag\" href=\"/tag/live/page/1/\">live</a>\\n            \\n            <a class=\"tag\" href=\"/tag/miracle/page/1/\">miracle</a>\\n            \\n            <a class=\"tag\" href=\"/tag/miracles/page/1/\">miracles</a>\\n            \\n        </div>\\n    </div>\\n\\n    <div class=\"quote\" itemscope itemtype=\"http://schema.org/CreativeWork\">\\n        <span class=\"text\" itemprop=\"text\">“The person, be it gentleman or lady, who has not pleasure in a good novel, must be intolerably stupid.”</span>\\n        <span>by <small class=\"author\" itemprop=\"author\">Jane Austen</small>\\n        <a href=\"/author/Jane-Austen\">(about)</a>\\n        </span>\\n        <div class=\"tags\">\\n            Tags:\\n            <meta class=\"keywords\" itemprop=\"keywords\" content=\"aliteracy,books,classic,humor\" /    > \\n            \\n            <a class=\"tag\" href=\"/tag/aliteracy/page/1/\">aliteracy</a>\\n            \\n            <a class=\"tag\" href=\"/tag/books/page/1/\">books</a>\\n            \\n            <a class=\"tag\" href=\"/tag/classic/page/1/\">classic</a>\\n            \\n            <a class=\"tag\" href=\"/tag/humor/page/1/\">humor</a>\\n            \\n        </div>\\n    </div>\\n\\n    <div class=\"quote\" itemscope itemtype=\"http://schema.org/CreativeWork\">\\n        <span class=\"text\" itemprop=\"text\">“Imperfection is beauty, madness is genius and it&#39;s better to be absolutely ridiculous than absolutely boring.”</span>\\n        <span>by <small class=\"author\" itemprop=\"author\">Marilyn Monroe</small>\\n        <a href=\"/author/Marilyn-Monroe\">(about)</a>\\n        </span>\\n        <div class=\"tags\">\\n            Tags:\\n            <meta class=\"keywords\" itemprop=\"keywords\" content=\"be-yourself,inspirational\" /    > \\n            \\n            <a class=\"tag\" href=\"/tag/be-yourself/page/1/\">be-yourself</a>\\n            \\n            <a class=\"tag\" href=\"/tag/inspirational/page/1/\">inspirational</a>\\n            \\n        </div>\\n    </div>\\n\\n    <div class=\"quote\" itemscope itemtype=\"http://schema.org/CreativeWork\">\\n        <span class=\"text\" itemprop=\"text\">“Try not to become a man of success. Rather become a man of value.”</span>\\n        <span>by <small class=\"author\" itemprop=\"author\">Albert Einstein</small>\\n        <a href=\"/author/Albert-Einstein\">(about)</a>\\n        </span>\\n        <div class=\"tags\">\\n            Tags:\\n            <meta class=\"keywords\" itemprop=\"keywords\" content=\"adulthood,success,value\" /    > \\n            \\n            <a class=\"tag\" href=\"/tag/adulthood/page/1/\">adulthood</a>\\n            \\n            <a class=\"tag\" href=\"/tag/success/page/1/\">success</a>\\n            \\n            <a class=\"tag\" href=\"/tag/value/page/1/\">value</a>\\n            \\n        </div>\\n    </div>\\n\\n    <div class=\"quote\" itemscope itemtype=\"http://schema.org/CreativeWork\">\\n        <span class=\"text\" itemprop=\"text\">“It is better to be hated for what you are than to be loved for what you are not.”</span>\\n        <span>by <small class=\"author\" itemprop=\"author\">André Gide</small>\\n        <a href=\"/author/Andre-Gide\">(about)</a>\\n        </span>\\n        <div class=\"tags\">\\n            Tags:\\n            <meta class=\"keywords\" itemprop=\"keywords\" content=\"life,love\" /    > \\n            \\n            <a class=\"tag\" href=\"/tag/life/page/1/\">life</a>\\n            \\n            <a class=\"tag\" href=\"/tag/love/page/1/\">love</a>\\n            \\n        </div>\\n    </div>\\n\\n    <div class=\"quote\" itemscope itemtype=\"http://schema.org/CreativeWork\">\\n        <span class=\"text\" itemprop=\"text\">“I have not failed. I&#39;ve just found 10,000 ways that won&#39;t work.”</span>\\n        <span>by <small class=\"author\" itemprop=\"author\">Thomas A. Edison</small>\\n        <a href=\"/author/Thomas-A-Edison\">(about)</a>\\n        </span>\\n        <div class=\"tags\">\\n            Tags:\\n            <meta class=\"keywords\" itemprop=\"keywords\" content=\"edison,failure,inspirational,paraphrased\" /    > \\n            \\n            <a class=\"tag\" href=\"/tag/edison/page/1/\">edison</a>\\n            \\n            <a class=\"tag\" href=\"/tag/failure/page/1/\">failure</a>\\n            \\n            <a class=\"tag\" href=\"/tag/inspirational/page/1/\">inspirational</a>\\n            \\n            <a class=\"tag\" href=\"/tag/paraphrased/page/1/\">paraphrased</a>\\n            \\n        </div>\\n    </div>\\n\\n    <div class=\"quote\" itemscope itemtype=\"http://schema.org/CreativeWork\">\\n        <span class=\"text\" itemprop=\"text\">“A woman is like a tea bag; you never know how strong it is until it&#39;s in hot water.”</span>\\n        <span>by <small class=\"author\" itemprop=\"author\">Eleanor Roosevelt</small>\\n        <a href=\"/author/Eleanor-Roosevelt\">(about)</a>\\n        </span>\\n        <div class=\"tags\">\\n            Tags:\\n            <meta class=\"keywords\" itemprop=\"keywords\" content=\"misattributed-eleanor-roosevelt\" /    > \\n            \\n            <a class=\"tag\" href=\"/tag/misattributed-eleanor-roosevelt/page/1/\">misattributed-eleanor-roosevelt</a>\\n            \\n        </div>\\n    </div>\\n\\n    <div class=\"quote\" itemscope itemtype=\"http://schema.org/CreativeWork\">\\n        <span class=\"text\" itemprop=\"text\">“A day without sunshine is like, you know, night.”</span>\\n        <span>by <small class=\"author\" itemprop=\"author\">Steve Martin</small>\\n        <a href=\"/author/Steve-Martin\">(about)</a>\\n        </span>\\n        <div class=\"tags\">\\n            Tags:\\n            <meta class=\"keywords\" itemprop=\"keywords\" content=\"humor,obvious,simile\" /    > \\n            \\n            <a class=\"tag\" href=\"/tag/humor/page/1/\">humor</a>\\n            \\n            <a class=\"tag\" href=\"/tag/obvious/page/1/\">obvious</a>\\n            \\n            <a class=\"tag\" href=\"/tag/simile/page/1/\">simile</a>\\n            \\n        </div>\\n    </div>\\n\\n    <nav>\\n        <ul class=\"pager\">\\n            \\n            \\n            <li class=\"next\">\\n                <a href=\"/page/2/\">Next <span aria-hidden=\"true\">&rarr;</span></a>\\n            </li>\\n            \\n        </ul>\\n    </nav>\\n    </div>\\n    <div class=\"col-md-4 tags-box\">\\n        \\n            <h2>Top Ten tags</h2>\\n            \\n            <span class=\"tag-item\">\\n            <a class=\"tag\" style=\"font-size: 28px\" href=\"/tag/love/\">love</a>\\n            </span>\\n            \\n            <span class=\"tag-item\">\\n            <a class=\"tag\" style=\"font-size: 26px\" href=\"/tag/inspirational/\">inspirational</a>\\n            </span>\\n            \\n            <span class=\"tag-item\">\\n            <a class=\"tag\" style=\"font-size: 26px\" href=\"/tag/life/\">life</a>\\n            </span>\\n            \\n            <span class=\"tag-item\">\\n            <a class=\"tag\" style=\"font-size: 24px\" href=\"/tag/humor/\">humor</a>\\n            </span>\\n            \\n            <span class=\"tag-item\">\\n            <a class=\"tag\" style=\"font-size: 22px\" href=\"/tag/books/\">books</a>\\n            </span>\\n            \\n            <span class=\"tag-item\">\\n            <a class=\"tag\" style=\"font-size: 14px\" href=\"/tag/reading/\">reading</a>\\n            </span>\\n            \\n            <span class=\"tag-item\">\\n            <a class=\"tag\" style=\"font-size: 10px\" href=\"/tag/friendship/\">friendship</a>\\n            </span>\\n            \\n            <span class=\"tag-item\">\\n            <a class=\"tag\" style=\"font-size: 8px\" href=\"/tag/friends/\">friends</a>\\n            </span>\\n            \\n            <span class=\"tag-item\">\\n            <a class=\"tag\" style=\"font-size: 8px\" href=\"/tag/truth/\">truth</a>\\n            </span>\\n            \\n            <span class=\"tag-item\">\\n            <a class=\"tag\" style=\"font-size: 6px\" href=\"/tag/simile/\">simile</a>\\n            </span>\\n            \\n        \\n    </div>\\n</div>\\n\\n    </div>\\n    <footer class=\"footer\">\\n        <div class=\"container\">\\n            <p class=\"text-muted\">\\n                Quotes by: <a href=\"https://www.goodreads.com/quotes\">GoodReads.com</a>\\n            </p>\\n            <p class=\"copyright\">\\n                Made with <span class=\\'sh-red\\'>❤</span> by <a href=\"https://scrapinghub.com\">Scrapinghub</a>\\n            </p>\\n        </div>\\n    </footer>\\n</body>\\n</html>'"
      ]
     },
     "execution_count": 3,
     "metadata": {},
     "output_type": "execute_result"
    }
   ],
   "source": [
    "response.text"
   ]
  },
  {
   "cell_type": "code",
   "execution_count": 4,
   "metadata": {},
   "outputs": [
    {
     "data": {
      "text/plain": [
       "b'<!DOCTYPE html>\\n<html lang=\"en\">\\n<head>\\n\\t<meta charset=\"UTF-8\">\\n\\t<title>Quotes to Scrape</title>\\n    <link rel=\"stylesheet\" href=\"/static/bootstrap.min.css\">\\n    <link rel=\"stylesheet\" href=\"/static/main.css\">\\n</head>\\n<body>\\n    <div class=\"container\">\\n        <div class=\"row header-box\">\\n            <div class=\"col-md-8\">\\n                <h1>\\n                    <a href=\"/\" style=\"text-decoration: none\">Quotes to Scrape</a>\\n                </h1>\\n            </div>\\n            <div class=\"col-md-4\">\\n                <p>\\n                \\n                    <a href=\"/login\">Login</a>\\n                \\n                </p>\\n            </div>\\n        </div>\\n    \\n\\n<div class=\"row\">\\n    <div class=\"col-md-8\">\\n\\n    <div class=\"quote\" itemscope itemtype=\"http://schema.org/CreativeWork\">\\n        <span class=\"text\" itemprop=\"text\">\\xe2\\x80\\x9cThe world as we have created it is a process of our thinking. It cannot be changed without changing our thinking.\\xe2\\x80\\x9d</span>\\n        <span>by <small class=\"author\" itemprop=\"author\">Albert Einstein</small>\\n        <a href=\"/author/Albert-Einstein\">(about)</a>\\n        </span>\\n        <div class=\"tags\">\\n            Tags:\\n            <meta class=\"keywords\" itemprop=\"keywords\" content=\"change,deep-thoughts,thinking,world\" /    > \\n            \\n            <a class=\"tag\" href=\"/tag/change/page/1/\">change</a>\\n            \\n            <a class=\"tag\" href=\"/tag/deep-thoughts/page/1/\">deep-thoughts</a>\\n            \\n            <a class=\"tag\" href=\"/tag/thinking/page/1/\">thinking</a>\\n            \\n            <a class=\"tag\" href=\"/tag/world/page/1/\">world</a>\\n            \\n        </div>\\n    </div>\\n\\n    <div class=\"quote\" itemscope itemtype=\"http://schema.org/CreativeWork\">\\n        <span class=\"text\" itemprop=\"text\">\\xe2\\x80\\x9cIt is our choices, Harry, that show what we truly are, far more than our abilities.\\xe2\\x80\\x9d</span>\\n        <span>by <small class=\"author\" itemprop=\"author\">J.K. Rowling</small>\\n        <a href=\"/author/J-K-Rowling\">(about)</a>\\n        </span>\\n        <div class=\"tags\">\\n            Tags:\\n            <meta class=\"keywords\" itemprop=\"keywords\" content=\"abilities,choices\" /    > \\n            \\n            <a class=\"tag\" href=\"/tag/abilities/page/1/\">abilities</a>\\n            \\n            <a class=\"tag\" href=\"/tag/choices/page/1/\">choices</a>\\n            \\n        </div>\\n    </div>\\n\\n    <div class=\"quote\" itemscope itemtype=\"http://schema.org/CreativeWork\">\\n        <span class=\"text\" itemprop=\"text\">\\xe2\\x80\\x9cThere are only two ways to live your life. One is as though nothing is a miracle. The other is as though everything is a miracle.\\xe2\\x80\\x9d</span>\\n        <span>by <small class=\"author\" itemprop=\"author\">Albert Einstein</small>\\n        <a href=\"/author/Albert-Einstein\">(about)</a>\\n        </span>\\n        <div class=\"tags\">\\n            Tags:\\n            <meta class=\"keywords\" itemprop=\"keywords\" content=\"inspirational,life,live,miracle,miracles\" /    > \\n            \\n            <a class=\"tag\" href=\"/tag/inspirational/page/1/\">inspirational</a>\\n            \\n            <a class=\"tag\" href=\"/tag/life/page/1/\">life</a>\\n            \\n            <a class=\"tag\" href=\"/tag/live/page/1/\">live</a>\\n            \\n            <a class=\"tag\" href=\"/tag/miracle/page/1/\">miracle</a>\\n            \\n            <a class=\"tag\" href=\"/tag/miracles/page/1/\">miracles</a>\\n            \\n        </div>\\n    </div>\\n\\n    <div class=\"quote\" itemscope itemtype=\"http://schema.org/CreativeWork\">\\n        <span class=\"text\" itemprop=\"text\">\\xe2\\x80\\x9cThe person, be it gentleman or lady, who has not pleasure in a good novel, must be intolerably stupid.\\xe2\\x80\\x9d</span>\\n        <span>by <small class=\"author\" itemprop=\"author\">Jane Austen</small>\\n        <a href=\"/author/Jane-Austen\">(about)</a>\\n        </span>\\n        <div class=\"tags\">\\n            Tags:\\n            <meta class=\"keywords\" itemprop=\"keywords\" content=\"aliteracy,books,classic,humor\" /    > \\n            \\n            <a class=\"tag\" href=\"/tag/aliteracy/page/1/\">aliteracy</a>\\n            \\n            <a class=\"tag\" href=\"/tag/books/page/1/\">books</a>\\n            \\n            <a class=\"tag\" href=\"/tag/classic/page/1/\">classic</a>\\n            \\n            <a class=\"tag\" href=\"/tag/humor/page/1/\">humor</a>\\n            \\n        </div>\\n    </div>\\n\\n    <div class=\"quote\" itemscope itemtype=\"http://schema.org/CreativeWork\">\\n        <span class=\"text\" itemprop=\"text\">\\xe2\\x80\\x9cImperfection is beauty, madness is genius and it&#39;s better to be absolutely ridiculous than absolutely boring.\\xe2\\x80\\x9d</span>\\n        <span>by <small class=\"author\" itemprop=\"author\">Marilyn Monroe</small>\\n        <a href=\"/author/Marilyn-Monroe\">(about)</a>\\n        </span>\\n        <div class=\"tags\">\\n            Tags:\\n            <meta class=\"keywords\" itemprop=\"keywords\" content=\"be-yourself,inspirational\" /    > \\n            \\n            <a class=\"tag\" href=\"/tag/be-yourself/page/1/\">be-yourself</a>\\n            \\n            <a class=\"tag\" href=\"/tag/inspirational/page/1/\">inspirational</a>\\n            \\n        </div>\\n    </div>\\n\\n    <div class=\"quote\" itemscope itemtype=\"http://schema.org/CreativeWork\">\\n        <span class=\"text\" itemprop=\"text\">\\xe2\\x80\\x9cTry not to become a man of success. Rather become a man of value.\\xe2\\x80\\x9d</span>\\n        <span>by <small class=\"author\" itemprop=\"author\">Albert Einstein</small>\\n        <a href=\"/author/Albert-Einstein\">(about)</a>\\n        </span>\\n        <div class=\"tags\">\\n            Tags:\\n            <meta class=\"keywords\" itemprop=\"keywords\" content=\"adulthood,success,value\" /    > \\n            \\n            <a class=\"tag\" href=\"/tag/adulthood/page/1/\">adulthood</a>\\n            \\n            <a class=\"tag\" href=\"/tag/success/page/1/\">success</a>\\n            \\n            <a class=\"tag\" href=\"/tag/value/page/1/\">value</a>\\n            \\n        </div>\\n    </div>\\n\\n    <div class=\"quote\" itemscope itemtype=\"http://schema.org/CreativeWork\">\\n        <span class=\"text\" itemprop=\"text\">\\xe2\\x80\\x9cIt is better to be hated for what you are than to be loved for what you are not.\\xe2\\x80\\x9d</span>\\n        <span>by <small class=\"author\" itemprop=\"author\">Andr\\xc3\\xa9 Gide</small>\\n        <a href=\"/author/Andre-Gide\">(about)</a>\\n        </span>\\n        <div class=\"tags\">\\n            Tags:\\n            <meta class=\"keywords\" itemprop=\"keywords\" content=\"life,love\" /    > \\n            \\n            <a class=\"tag\" href=\"/tag/life/page/1/\">life</a>\\n            \\n            <a class=\"tag\" href=\"/tag/love/page/1/\">love</a>\\n            \\n        </div>\\n    </div>\\n\\n    <div class=\"quote\" itemscope itemtype=\"http://schema.org/CreativeWork\">\\n        <span class=\"text\" itemprop=\"text\">\\xe2\\x80\\x9cI have not failed. I&#39;ve just found 10,000 ways that won&#39;t work.\\xe2\\x80\\x9d</span>\\n        <span>by <small class=\"author\" itemprop=\"author\">Thomas A. Edison</small>\\n        <a href=\"/author/Thomas-A-Edison\">(about)</a>\\n        </span>\\n        <div class=\"tags\">\\n            Tags:\\n            <meta class=\"keywords\" itemprop=\"keywords\" content=\"edison,failure,inspirational,paraphrased\" /    > \\n            \\n            <a class=\"tag\" href=\"/tag/edison/page/1/\">edison</a>\\n            \\n            <a class=\"tag\" href=\"/tag/failure/page/1/\">failure</a>\\n            \\n            <a class=\"tag\" href=\"/tag/inspirational/page/1/\">inspirational</a>\\n            \\n            <a class=\"tag\" href=\"/tag/paraphrased/page/1/\">paraphrased</a>\\n            \\n        </div>\\n    </div>\\n\\n    <div class=\"quote\" itemscope itemtype=\"http://schema.org/CreativeWork\">\\n        <span class=\"text\" itemprop=\"text\">\\xe2\\x80\\x9cA woman is like a tea bag; you never know how strong it is until it&#39;s in hot water.\\xe2\\x80\\x9d</span>\\n        <span>by <small class=\"author\" itemprop=\"author\">Eleanor Roosevelt</small>\\n        <a href=\"/author/Eleanor-Roosevelt\">(about)</a>\\n        </span>\\n        <div class=\"tags\">\\n            Tags:\\n            <meta class=\"keywords\" itemprop=\"keywords\" content=\"misattributed-eleanor-roosevelt\" /    > \\n            \\n            <a class=\"tag\" href=\"/tag/misattributed-eleanor-roosevelt/page/1/\">misattributed-eleanor-roosevelt</a>\\n            \\n        </div>\\n    </div>\\n\\n    <div class=\"quote\" itemscope itemtype=\"http://schema.org/CreativeWork\">\\n        <span class=\"text\" itemprop=\"text\">\\xe2\\x80\\x9cA day without sunshine is like, you know, night.\\xe2\\x80\\x9d</span>\\n        <span>by <small class=\"author\" itemprop=\"author\">Steve Martin</small>\\n        <a href=\"/author/Steve-Martin\">(about)</a>\\n        </span>\\n        <div class=\"tags\">\\n            Tags:\\n            <meta class=\"keywords\" itemprop=\"keywords\" content=\"humor,obvious,simile\" /    > \\n            \\n            <a class=\"tag\" href=\"/tag/humor/page/1/\">humor</a>\\n            \\n            <a class=\"tag\" href=\"/tag/obvious/page/1/\">obvious</a>\\n            \\n            <a class=\"tag\" href=\"/tag/simile/page/1/\">simile</a>\\n            \\n        </div>\\n    </div>\\n\\n    <nav>\\n        <ul class=\"pager\">\\n            \\n            \\n            <li class=\"next\">\\n                <a href=\"/page/2/\">Next <span aria-hidden=\"true\">&rarr;</span></a>\\n            </li>\\n            \\n        </ul>\\n    </nav>\\n    </div>\\n    <div class=\"col-md-4 tags-box\">\\n        \\n            <h2>Top Ten tags</h2>\\n            \\n            <span class=\"tag-item\">\\n            <a class=\"tag\" style=\"font-size: 28px\" href=\"/tag/love/\">love</a>\\n            </span>\\n            \\n            <span class=\"tag-item\">\\n            <a class=\"tag\" style=\"font-size: 26px\" href=\"/tag/inspirational/\">inspirational</a>\\n            </span>\\n            \\n            <span class=\"tag-item\">\\n            <a class=\"tag\" style=\"font-size: 26px\" href=\"/tag/life/\">life</a>\\n            </span>\\n            \\n            <span class=\"tag-item\">\\n            <a class=\"tag\" style=\"font-size: 24px\" href=\"/tag/humor/\">humor</a>\\n            </span>\\n            \\n            <span class=\"tag-item\">\\n            <a class=\"tag\" style=\"font-size: 22px\" href=\"/tag/books/\">books</a>\\n            </span>\\n            \\n            <span class=\"tag-item\">\\n            <a class=\"tag\" style=\"font-size: 14px\" href=\"/tag/reading/\">reading</a>\\n            </span>\\n            \\n            <span class=\"tag-item\">\\n            <a class=\"tag\" style=\"font-size: 10px\" href=\"/tag/friendship/\">friendship</a>\\n            </span>\\n            \\n            <span class=\"tag-item\">\\n            <a class=\"tag\" style=\"font-size: 8px\" href=\"/tag/friends/\">friends</a>\\n            </span>\\n            \\n            <span class=\"tag-item\">\\n            <a class=\"tag\" style=\"font-size: 8px\" href=\"/tag/truth/\">truth</a>\\n            </span>\\n            \\n            <span class=\"tag-item\">\\n            <a class=\"tag\" style=\"font-size: 6px\" href=\"/tag/simile/\">simile</a>\\n            </span>\\n            \\n        \\n    </div>\\n</div>\\n\\n    </div>\\n    <footer class=\"footer\">\\n        <div class=\"container\">\\n            <p class=\"text-muted\">\\n                Quotes by: <a href=\"https://www.goodreads.com/quotes\">GoodReads.com</a>\\n            </p>\\n            <p class=\"copyright\">\\n                Made with <span class=\\'sh-red\\'>\\xe2\\x9d\\xa4</span> by <a href=\"https://scrapinghub.com\">Scrapinghub</a>\\n            </p>\\n        </div>\\n    </footer>\\n</body>\\n</html>'"
      ]
     },
     "execution_count": 4,
     "metadata": {},
     "output_type": "execute_result"
    }
   ],
   "source": [
    "response.content"
   ]
  },
  {
   "cell_type": "code",
   "execution_count": 5,
   "metadata": {},
   "outputs": [
    {
     "data": {
      "text/plain": [
       "200"
      ]
     },
     "execution_count": 5,
     "metadata": {},
     "output_type": "execute_result"
    }
   ],
   "source": [
    "url = r'https://www.google.com/url?sa=i&url=https%3A%2F%2Fwww.monterail.com%2Fblog%2Fpython-task-automation-examples&psig=AOvVaw0r2bTaVob6pZmk9yxFVtV8&ust=1634494959588000&source=images&cd=vfe&ved=0CAkQjRxqFwoTCOCl55HHz_MCFQAAAAAdAAAAABAE'\n",
    "response = requests.get(url)\n",
    "response.status_code"
   ]
  },
  {
   "cell_type": "code",
   "execution_count": 6,
   "metadata": {},
   "outputs": [
    {
     "data": {
      "text/plain": [
       "b'<html lang=\"bn\"><head><meta http-equiv=\"Content-Type\" content=\"text/html; charset=ISO-8859-1\"><title>&#2480;&#2495;&#2465;&#2494;&#2439;&#2480;&#2503;&#2453;&#2509;&#2463; &#2476;&#2495;&#2460;&#2509;&#2462;&#2474;&#2509;&#2468;&#2495;</title><style>body,div,a{font-family:Roboto,Helvetica Neue,Arial,sans-serif}body{background-color:#fff;margin-top:3px}div{color:#000}a:link{color:#4b11a8}a:visited{color:#4b11a8}a:active{color:#ea4335}div.mymGo{border-top:1px solid #dadce0;border-bottom:1px solid #dadce0;background:#f8f9fa;margin-top:1em;width:100%}div.aXgaGb{padding:0.5em 0;margin-left:10px}div.fTk7vd{margin-left:35px;margin-top:35px}span.fZSzqb{color:#ea4335}</style></head><body><div class=\"mymGo\"><div class=\"aXgaGb\"><font style=\"font-size:larger\"><b>&#2480;&#2495;&#2465;&#2494;&#2439;&#2480;&#2503;&#2453;&#2509;&#2463; &#2476;&#2495;&#2460;&#2509;&#2462;&#2474;&#2509;&#2468;&#2495;</b></font></div></div><div class=\"fTk7vd\">&nbsp;&#2479;&#2503; &#2474;&#2494;&#2468;&#2494;&#2527; &#2438;&#2474;&#2472;&#2494;&#2480; &#2476;&#2480;&#2509;&#2468;&#2478;&#2494;&#2472; &#2482;&#2507;&#2453;&#2503;&#2486;&#2472; &#2468;&#2494; &#2438;&#2474;&#2472;&#2494;&#2453;&#2503; &#2447;&#2439; &#2464;&#2495;&#2453;&#2494;&#2472;&#2494;&#2527; -<a href=\"https://www.monterail.com/blog/python-task-automation-examples\">https://www.monterail.com/blog/python-task-automation-examples</a> &#2472;&#2495;&#2527;&#2503; &#2479;&#2503;&#2468;&#2503; &#2458;&#2494;&#2439;&#2459;&#2503;&#2404;<br><br>&nbsp;&#2438;&#2474;&#2472;&#2495; &#2451;&#2439; &#2474;&#2494;&#2468;&#2494;&#2463;&#2495; &#2470;&#2503;&#2454;&#2468;&#2503; &#2472;&#2494; &#2458;&#2494;&#2439;&#2482;&#2503; <a href=\"#\" id=\"tsuid1\">&#2474;&#2498;&#2480;&#2509;&#2476;&#2476;&#2480;&#2509;&#2468;&#2496; &#2474;&#2499;&#2487;&#2509;&#2464;&#2494;&#2527;</a> &#2475;&#2495;&#2480;&#2503; &#2479;&#2503;&#2468;&#2503; &#2474;&#2494;&#2480;&#2503;&#2472;&#2404;<script nonce=\"lVjBJrzkoieSUcZQEl2HPA==\">(function(){var id=\\'tsuid1\\';(function(){\\ndocument.getElementById(id).onclick=function(){window.history.back();return!1};}).call(this);})();(function(){var id=\\'tsuid1\\';var ct=\\'originlink\\';var oi=\\'unauthorizedredirect\\';(function(){\\ndocument.getElementById(id).onmousedown=function(){var b=document&&document.referrer,a=\"encodeURIComponent\"in window?encodeURIComponent:escape,c=\"\";b&&(c=a(b));(new Image).src=\"/url?sa=T&url=\"+c+\"&oi=\"+a(oi)+\"&ct=\"+a(ct);return!1};}).call(this);})();</script><br><br><br></div></body></html>'"
      ]
     },
     "execution_count": 6,
     "metadata": {},
     "output_type": "execute_result"
    }
   ],
   "source": [
    "response.content"
   ]
  },
  {
   "cell_type": "code",
   "execution_count": 7,
   "metadata": {},
   "outputs": [],
   "source": [
    "#with open(r'python.png', mode='xb') as f:\n",
    "    #f.write(response.content)"
   ]
  },
  {
   "cell_type": "code",
   "execution_count": 8,
   "metadata": {},
   "outputs": [
    {
     "data": {
      "text/plain": [
       "200"
      ]
     },
     "execution_count": 8,
     "metadata": {},
     "output_type": "execute_result"
    }
   ],
   "source": [
    "url = r'http://quotes.toscrape.com/'\n",
    "response = requests.get(url)\n",
    "response.status_code"
   ]
  },
  {
   "cell_type": "code",
   "execution_count": 9,
   "metadata": {},
   "outputs": [
    {
     "name": "stdout",
     "output_type": "stream",
     "text": [
      "Requirement already satisfied: beautifulsoup4 in c:\\users\\user\\appdata\\local\\programs\\python\\python39\\lib\\site-packages (4.10.0)\n",
      "Requirement already satisfied: soupsieve>1.2 in c:\\users\\user\\appdata\\local\\programs\\python\\python39\\lib\\site-packages (from beautifulsoup4) (2.2.1)\n"
     ]
    },
    {
     "name": "stderr",
     "output_type": "stream",
     "text": [
      "WARNING: You are using pip version 21.2.2; however, version 21.3 is available.\n",
      "You should consider upgrading via the 'c:\\users\\user\\appdata\\local\\programs\\python\\python39\\python.exe -m pip install --upgrade pip' command.\n"
     ]
    }
   ],
   "source": [
    "! pip install beautifulsoup4"
   ]
  },
  {
   "cell_type": "code",
   "execution_count": 10,
   "metadata": {},
   "outputs": [],
   "source": [
    "from bs4 import BeautifulSoup"
   ]
  },
  {
   "cell_type": "code",
   "execution_count": 11,
   "metadata": {},
   "outputs": [
    {
     "name": "stdout",
     "output_type": "stream",
     "text": [
      "Requirement already satisfied: lxml in c:\\users\\user\\appdata\\local\\programs\\python\\python39\\lib\\site-packages (4.6.3)\n"
     ]
    },
    {
     "name": "stderr",
     "output_type": "stream",
     "text": [
      "WARNING: You are using pip version 21.2.2; however, version 21.3 is available.\n",
      "You should consider upgrading via the 'c:\\users\\user\\appdata\\local\\programs\\python\\python39\\python.exe -m pip install --upgrade pip' command.\n"
     ]
    }
   ],
   "source": [
    "! pip install lxml"
   ]
  },
  {
   "cell_type": "code",
   "execution_count": 12,
   "metadata": {},
   "outputs": [],
   "source": [
    "data = response.content\n",
    "soup = BeautifulSoup(data, 'lxml')"
   ]
  },
  {
   "cell_type": "code",
   "execution_count": 13,
   "metadata": {},
   "outputs": [
    {
     "data": {
      "text/plain": [
       "'Quotes to Scrape'"
      ]
     },
     "execution_count": 13,
     "metadata": {},
     "output_type": "execute_result"
    }
   ],
   "source": [
    "soup.title\n",
    "soup.title.string"
   ]
  },
  {
   "cell_type": "code",
   "execution_count": 14,
   "metadata": {},
   "outputs": [
    {
     "data": {
      "text/plain": [
       "{'rel': ['stylesheet'], 'href': '/static/bootstrap.min.css'}"
      ]
     },
     "execution_count": 14,
     "metadata": {},
     "output_type": "execute_result"
    }
   ],
   "source": [
    "soup.link.attrs"
   ]
  },
  {
   "cell_type": "code",
   "execution_count": 15,
   "metadata": {},
   "outputs": [
    {
     "data": {
      "text/plain": [
       "'“The world as we have created it is a process of our thinking. It cannot be changed without changing our thinking.”'"
      ]
     },
     "execution_count": 15,
     "metadata": {},
     "output_type": "execute_result"
    }
   ],
   "source": [
    "soup.find_all('div', attrs={'class':'quote'})[0].span.string"
   ]
  },
  {
   "cell_type": "code",
   "execution_count": 16,
   "metadata": {},
   "outputs": [
    {
     "data": {
      "text/plain": [
       "'Albert Einstein'"
      ]
     },
     "execution_count": 16,
     "metadata": {},
     "output_type": "execute_result"
    }
   ],
   "source": [
    "soup.find_all('div', attrs={'class':'quote'})[0].small.string"
   ]
  },
  {
   "cell_type": "code",
   "execution_count": 17,
   "metadata": {},
   "outputs": [
    {
     "data": {
      "text/plain": [
       "[<a class=\"tag\" href=\"/tag/change/page/1/\">change</a>,\n",
       " <a class=\"tag\" href=\"/tag/deep-thoughts/page/1/\">deep-thoughts</a>,\n",
       " <a class=\"tag\" href=\"/tag/thinking/page/1/\">thinking</a>,\n",
       " <a class=\"tag\" href=\"/tag/world/page/1/\">world</a>]"
      ]
     },
     "execution_count": 17,
     "metadata": {},
     "output_type": "execute_result"
    }
   ],
   "source": [
    "soup.find_all('div', attrs={'class':'quote'})[0].div.find_all('a')"
   ]
  },
  {
   "cell_type": "code",
   "execution_count": 18,
   "metadata": {},
   "outputs": [
    {
     "name": "stdout",
     "output_type": "stream",
     "text": [
      "change\n",
      "deep-thoughts\n",
      "thinking\n",
      "world\n"
     ]
    }
   ],
   "source": [
    "tagg = soup.find_all('div', attrs={'class':'quote'})[0].div.find_all('a')\n",
    "for tag in tagg:\n",
    "    print(tag.string)"
   ]
  },
  {
   "cell_type": "code",
   "execution_count": 19,
   "metadata": {},
   "outputs": [],
   "source": [
    "quotes = []\n",
    "def extract (soup):\n",
    "    for quote in soup.find_all('div', attrs={'class':'quote'}):\n",
    "        text = quote.span.string\n",
    "        author = quote.small.string\n",
    "        tags = []\n",
    "        for tagg in quote.div.find_all('a'):\n",
    "            tags.append(tagg.string)\n",
    "        quotes.append([text.replace('\"','').replace('\"',''), author.replace('\"','').replace('\"',''), tags])"
   ]
  },
  {
   "cell_type": "code",
   "execution_count": 20,
   "metadata": {},
   "outputs": [],
   "source": [
    "Quotes = []\n",
    "def extract(page):\n",
    "    for quote in page.find_all('div', attrs={'class':'quote'}):\n",
    "        text = quote.span.string\n",
    "        author = quote.small.string\n",
    "        tags = [tag.string for tag in quote.div.find_all('a')]\n",
    "        Quotes.append([text,author,tags])"
   ]
  },
  {
   "cell_type": "code",
   "execution_count": 21,
   "metadata": {},
   "outputs": [
    {
     "data": {
      "text/plain": [
       "'/page/2/'"
      ]
     },
     "execution_count": 21,
     "metadata": {},
     "output_type": "execute_result"
    }
   ],
   "source": [
    "nextt = soup.find_all('li', attrs={'class':'next'})[0].a.attrs['href']\n",
    "nextt"
   ]
  },
  {
   "cell_type": "code",
   "execution_count": 22,
   "metadata": {},
   "outputs": [
    {
     "data": {
      "text/plain": [
       "'http://quotes.toscrape.com/page/2/'"
      ]
     },
     "execution_count": 22,
     "metadata": {},
     "output_type": "execute_result"
    }
   ],
   "source": [
    "url = url[:-1]+nextt\n",
    "url"
   ]
  },
  {
   "cell_type": "code",
   "execution_count": 23,
   "metadata": {},
   "outputs": [
    {
     "data": {
      "text/plain": [
       "'http://quotes.toscrape.com/page/2/'"
      ]
     },
     "execution_count": 23,
     "metadata": {},
     "output_type": "execute_result"
    }
   ],
   "source": [
    "url = url[:-2]+nextt[-2:]\n",
    "url"
   ]
  },
  {
   "cell_type": "code",
   "execution_count": 24,
   "metadata": {},
   "outputs": [
    {
     "name": "stdout",
     "output_type": "stream",
     "text": [
      "https://quotes.toscrape.com/page/2/\n",
      "https://quotes.toscrape.com/page/3/\n",
      "https://quotes.toscrape.com/page/4/\n",
      "https://quotes.toscrape.com/page/5/\n",
      "https://quotes.toscrape.com/page/6/\n",
      "https://quotes.toscrape.com/page/7/\n",
      "https://quotes.toscrape.com/page/8/\n",
      "https://quotes.toscrape.com/page/9/\n",
      "https://quotes.toscrape.com/page/10\n"
     ]
    }
   ],
   "source": [
    "url = r'https://quotes.toscrape.com/'\n",
    "updater = True\n",
    "while True:\n",
    "    response = requests.get(url).content\n",
    "    soup = BeautifulSoup(response, 'lxml')\n",
    "    extract(soup)\n",
    "    try:\n",
    "        nextt = soup.find_all('li', attrs={'class': 'next'})[0].a.attrs['href']\n",
    "        if updater:\n",
    "            url = url[:-1]+nextt\n",
    "            print(url)\n",
    "            updater = False\n",
    "        else:\n",
    "            if len(nextt.split('/')[-2]) > 1:\n",
    "                url = url[:-2]+nextt.split('/')[-2]\n",
    "                print(url)\n",
    "            else:\n",
    "                url = url[:-2]+nextt[-2:]\n",
    "                print(url)\n",
    "        \n",
    "    except IndexError:\n",
    "        break"
   ]
  },
  {
   "cell_type": "code",
   "execution_count": 25,
   "metadata": {},
   "outputs": [
    {
     "name": "stdout",
     "output_type": "stream",
     "text": [
      "https://quotes.toscrape.com/page/2/\n",
      "https://quotes.toscrape.com/page/3/\n",
      "https://quotes.toscrape.com/page/4/\n",
      "https://quotes.toscrape.com/page/5/\n",
      "https://quotes.toscrape.com/page/6/\n",
      "https://quotes.toscrape.com/page/7/\n",
      "https://quotes.toscrape.com/page/8/\n",
      "https://quotes.toscrape.com/page/9/\n",
      "https://quotes.toscrape.com/page/10\n"
     ]
    }
   ],
   "source": [
    "url = r'https://quotes.toscrape.com/'\n",
    "updater = True\n",
    "while True:\n",
    "    response = requests.get(url).content\n",
    "    soup = BeautifulSoup(response, 'lxml')\n",
    "    extract(soup)\n",
    "    try:\n",
    "        nextt = soup.find_all('li', attrs={'class': 'next'})[0].a.attrs['href']\n",
    "        if updater:\n",
    "            url = url[:-1]+nextt\n",
    "            print(url)\n",
    "            updater = False\n",
    "        else:\n",
    "            if len(nextt.split('/')[-2]) > 1:\n",
    "                url = url[:-2]+nextt.split('/')[-2]\n",
    "                print(url)\n",
    "            else:\n",
    "                url = url[:-2]+nextt[-2:]\n",
    "                print(url)\n",
    "        \n",
    "    except IndexError:\n",
    "        break"
   ]
  },
  {
   "cell_type": "code",
   "execution_count": 26,
   "metadata": {},
   "outputs": [],
   "source": [
    "import csv"
   ]
  },
  {
   "cell_type": "code",
   "execution_count": 34,
   "metadata": {},
   "outputs": [],
   "source": [
    "with open ('quote.csv', mode='w', encoding= 'UTF-8', newline='') as f:\n",
    "    writer = csv.writer(f, delimiter ='*')\n",
    "    writer.writerow(['Quotes', 'Author', 'Tags'])\n",
    "    writer.writerows(Quotes)"
   ]
  },
  {
   "cell_type": "code",
   "execution_count": 35,
   "metadata": {},
   "outputs": [
    {
     "name": "stdout",
     "output_type": "stream",
     "text": [
      "['Quotes', 'Author', 'Tags']\n",
      "['“The world as we have created it is a process of our thinking. It cannot be changed without changing our thinking.”', 'Albert Einstein', \"['change', 'deep-thoughts', 'thinking', 'world']\"]\n",
      "['“It is our choices, Harry, that show what we truly are, far more than our abilities.”', 'J.K. Rowling', \"['abilities', 'choices']\"]\n",
      "['“There are only two ways to live your life. One is as though nothing is a miracle. The other is as though everything is a miracle.”', 'Albert Einstein', \"['inspirational', 'life', 'live', 'miracle', 'miracles']\"]\n",
      "['“The person, be it gentleman or lady, who has not pleasure in a good novel, must be intolerably stupid.”', 'Jane Austen', \"['aliteracy', 'books', 'classic', 'humor']\"]\n",
      "[\"“Imperfection is beauty, madness is genius and it's better to be absolutely ridiculous than absolutely boring.”\", 'Marilyn Monroe', \"['be-yourself', 'inspirational']\"]\n",
      "['“Try not to become a man of success. Rather become a man of value.”', 'Albert Einstein', \"['adulthood', 'success', 'value']\"]\n",
      "['“It is better to be hated for what you are than to be loved for what you are not.”', 'André Gide', \"['life', 'love']\"]\n",
      "[\"“I have not failed. I've just found 10,000 ways that won't work.”\", 'Thomas A. Edison', \"['edison', 'failure', 'inspirational', 'paraphrased']\"]\n",
      "[\"“A woman is like a tea bag; you never know how strong it is until it's in hot water.”\", 'Eleanor Roosevelt', \"['misattributed-eleanor-roosevelt']\"]\n",
      "['“A day without sunshine is like, you know, night.”', 'Steve Martin', \"['humor', 'obvious', 'simile']\"]\n",
      "[\"“This life is what you make it. No matter what, you're going to mess up sometimes, it's a universal truth. But the good part is you get to decide how you're going to mess it up. Girls will be your friends - they'll act like it anyway. But just remember, some come, some go. The ones that stay with you through everything - they're your true best friends. Don't let go of them. Also remember, sisters make the best friends in the world. As for lovers, well, they'll come and go too. And baby, I hate to say it, most of them - actually pretty much all of them are going to break your heart, but you can't give up because if you give up, you'll never find your soulmate. You'll never find that half who makes you whole and that goes for everything. Just because you fail once, doesn't mean you're gonna fail at everything. Keep trying, hold on, and always, always, always believe in yourself, because if you don't, then who will, sweetie? So keep your head high, keep your chin up, and most importantly, keep smiling, because life's a beautiful thing and there's so much to smile about.”\", 'Marilyn Monroe', \"['friends', 'heartbreak', 'inspirational', 'life', 'love', 'sisters']\"]\n",
      "['“It takes a great deal of bravery to stand up to our enemies, but just as much to stand up to our friends.”', 'J.K. Rowling', \"['courage', 'friends']\"]\n",
      "[\"“If you can't explain it to a six year old, you don't understand it yourself.”\", 'Albert Einstein', \"['simplicity', 'understand']\"]\n",
      "[\"“You may not be her first, her last, or her only. She loved before she may love again. But if she loves you now, what else matters? She's not perfect—you aren't either, and the two of you may never be perfect together but if she can make you laugh, cause you to think twice, and admit to being human and making mistakes, hold onto her and give her the most you can. She may not be thinking about you every second of the day, but she will give you a part of her that she knows you can break—her heart. So don't hurt her, don't change her, don't analyze and don't expect more than she can give. Smile when she makes you happy, let her know when she makes you mad, and miss her when she's not there.”\", 'Bob Marley', \"['love']\"]\n",
      "['“I like nonsense, it wakes up the brain cells. Fantasy is a necessary ingredient in living.”', 'Dr. Seuss', \"['fantasy']\"]\n",
      "['“I may not have gone where I intended to go, but I think I have ended up where I needed to be.”', 'Douglas Adams', \"['life', 'navigation']\"]\n",
      "[\"“The opposite of love is not hate, it's indifference. The opposite of art is not ugliness, it's indifference. The opposite of faith is not heresy, it's indifference. And the opposite of life is not death, it's indifference.”\", 'Elie Wiesel', \"['activism', 'apathy', 'hate', 'indifference', 'inspirational', 'love', 'opposite', 'philosophy']\"]\n",
      "['“It is not a lack of love, but a lack of friendship that makes unhappy marriages.”', 'Friedrich Nietzsche', \"['friendship', 'lack-of-friendship', 'lack-of-love', 'love', 'marriage', 'unhappy-marriage']\"]\n",
      "['“Good friends, good books, and a sleepy conscience: this is the ideal life.”', 'Mark Twain', \"['books', 'contentment', 'friends', 'friendship', 'life']\"]\n",
      "['“Life is what happens to us while we are making other plans.”', 'Allen Saunders', \"['fate', 'life', 'misattributed-john-lennon', 'planning', 'plans']\"]\n",
      "['“I love you without knowing how, or when, or from where. I love you simply, without problems or pride: I love you in this way because I do not know any other way of loving but this, in which there is no I or you, so intimate that your hand upon my chest is my hand, so intimate that when I fall asleep your eyes close.”', 'Pablo Neruda', \"['love', 'poetry']\"]\n",
      "['“For every minute you are angry you lose sixty seconds of happiness.”', 'Ralph Waldo Emerson', \"['happiness']\"]\n",
      "['“If you judge people, you have no time to love them.”', 'Mother Teresa', \"['attributed-no-source']\"]\n",
      "['“Anyone who thinks sitting in church can make you a Christian must also think that sitting in a garage can make you a car.”', 'Garrison Keillor', \"['humor', 'religion']\"]\n",
      "['“Beauty is in the eye of the beholder and it may be necessary from time to time to give a stupid or misinformed beholder a black eye.”', 'Jim Henson', \"['humor']\"]\n",
      "['“Today you are You, that is truer than true. There is no one alive who is Youer than You.”', 'Dr. Seuss', \"['comedy', 'life', 'yourself']\"]\n",
      "['“If you want your children to be intelligent, read them fairy tales. If you want them to be more intelligent, read them more fairy tales.”', 'Albert Einstein', \"['children', 'fairy-tales']\"]\n",
      "['“It is impossible to live without failing at something, unless you live so cautiously that you might as well not have lived at all - in which case, you fail by default.”', 'J.K. Rowling', '[]']\n",
      "['“Logic will get you from A to Z; imagination will get you everywhere.”', 'Albert Einstein', \"['imagination']\"]\n",
      "['“One good thing about music, when it hits you, you feel no pain.”', 'Bob Marley', \"['music']\"]\n",
      "[\"“The more that you read, the more things you will know. The more that you learn, the more places you'll go.”\", 'Dr. Seuss', \"['learning', 'reading', 'seuss']\"]\n",
      "['“Of course it is happening inside your head, Harry, but why on earth should that mean that it is not real?”', 'J.K. Rowling', \"['dumbledore']\"]\n",
      "['“The truth is, everyone is going to hurt you. You just got to find the ones worth suffering for.”', 'Bob Marley', \"['friendship']\"]\n",
      "['“Not all of us can do great things. But we can do small things with great love.”', 'Mother Teresa', \"['misattributed-to-mother-teresa', 'paraphrased']\"]\n",
      "['“To the well-organized mind, death is but the next great adventure.”', 'J.K. Rowling', \"['death', 'inspirational']\"]\n",
      "[\"“All you need is love. But a little chocolate now and then doesn't hurt.”\", 'Charles M. Schulz', \"['chocolate', 'food', 'humor']\"]\n",
      "[\"“We read to know we're not alone.”\", 'William Nicholson', \"['misattributed-to-c-s-lewis', 'reading']\"]\n",
      "['“Any fool can know. The point is to understand.”', 'Albert Einstein', \"['knowledge', 'learning', 'understanding', 'wisdom']\"]\n",
      "['“I have always imagined that Paradise will be a kind of library.”', 'Jorge Luis Borges', \"['books', 'library']\"]\n",
      "['“It is never too late to be what you might have been.”', 'George Eliot', \"['inspirational']\"]\n",
      "['“A reader lives a thousand lives before he dies, said Jojen. The man who never reads lives only one.”', 'George R.R. Martin', \"['read', 'readers', 'reading', 'reading-books']\"]\n",
      "['“You can never get a cup of tea large enough or a book long enough to suit me.”', 'C.S. Lewis', \"['books', 'inspirational', 'reading', 'tea']\"]\n",
      "['“You believe lies so you eventually learn to trust no one but yourself.”', 'Marilyn Monroe', '[]']\n",
      "['“If you can make a woman laugh, you can make her do anything.”', 'Marilyn Monroe', \"['girls', 'love']\"]\n",
      "['“Life is like riding a bicycle. To keep your balance, you must keep moving.”', 'Albert Einstein', \"['life', 'simile']\"]\n",
      "['“The real lover is the man who can thrill you by kissing your forehead or smiling into your eyes or just staring into space.”', 'Marilyn Monroe', \"['love']\"]\n",
      "[\"“A wise girl kisses but doesn't love, listens but doesn't believe, and leaves before she is left.”\", 'Marilyn Monroe', \"['attributed-no-source']\"]\n",
      "['“Only in the darkness can you see the stars.”', 'Martin Luther King Jr.', \"['hope', 'inspirational']\"]\n",
      "['“It matters not what someone is born, but what they grow to be.”', 'J.K. Rowling', \"['dumbledore']\"]\n",
      "['“Love does not begin and end the way we seem to think it does. Love is a battle, love is a war; love is a growing up.”', 'James Baldwin', \"['love']\"]\n",
      "['“There is nothing I would not do for those who are really my friends. I have no notion of loving people by halves, it is not my nature.”', 'Jane Austen', \"['friendship', 'love']\"]\n",
      "['“Do one thing every day that scares you.”', 'Eleanor Roosevelt', \"['attributed', 'fear', 'inspiration']\"]\n",
      "['“I am good, but not an angel. I do sin, but I am not the devil. I am just a small girl in a big world trying to find someone to love.”', 'Marilyn Monroe', \"['attributed-no-source']\"]\n",
      "['“If I were not a physicist, I would probably be a musician. I often think in music. I live my daydreams in music. I see my life in terms of music.”', 'Albert Einstein', \"['music']\"]\n",
      "['“If you only read the books that everyone else is reading, you can only think what everyone else is thinking.”', 'Haruki Murakami', \"['books', 'thought']\"]\n",
      "['“The difference between genius and stupidity is: genius has its limits.”', 'Alexandre Dumas fils', \"['misattributed-to-einstein']\"]\n",
      "[\"“He's like a drug for you, Bella.”\", 'Stephenie Meyer', \"['drug', 'romance', 'simile']\"]\n",
      "['“There is no friend as loyal as a book.”', 'Ernest Hemingway', \"['books', 'friends', 'novelist-quotes']\"]\n",
      "['“When one door of happiness closes, another opens; but often we look so long at the closed door that we do not see the one which has been opened for us.”', 'Helen Keller', \"['inspirational']\"]\n",
      "[\"“Life isn't about finding yourself. Life is about creating yourself.”\", 'George Bernard Shaw', \"['inspirational', 'life', 'yourself']\"]\n",
      "[\"“That's the problem with drinking, I thought, as I poured myself a drink. If something bad happens you drink in an attempt to forget; if something good happens you drink in order to celebrate; and if nothing happens you drink to make something happen.”\", 'Charles Bukowski', \"['alcohol']\"]\n",
      "['“You don’t forget the face of the person who was your last hope.”', 'Suzanne Collins', \"['the-hunger-games']\"]\n",
      "[\"“Remember, we're madly in love, so it's all right to kiss me anytime you feel like it.”\", 'Suzanne Collins', \"['humor']\"]\n",
      "['“To love at all is to be vulnerable. Love anything and your heart will be wrung and possibly broken. If you want to make sure of keeping it intact you must give it to no one, not even an animal. Wrap it carefully round with hobbies and little luxuries; avoid all entanglements. Lock it up safe in the casket or coffin of your selfishness. But in that casket, safe, dark, motionless, airless, it will change. It will not be broken; it will become unbreakable, impenetrable, irredeemable. To love is to be vulnerable.”', 'C.S. Lewis', \"['love']\"]\n",
      "['“Not all those who wander are lost.”', 'J.R.R. Tolkien', \"['bilbo', 'journey', 'lost', 'quest', 'travel', 'wander']\"]\n",
      "['“Do not pity the dead, Harry. Pity the living, and, above all those who live without love.”', 'J.K. Rowling', \"['live-death-love']\"]\n",
      "['“There is nothing to writing. All you do is sit down at a typewriter and bleed.”', 'Ernest Hemingway', \"['good', 'writing']\"]\n",
      "['“Finish each day and be done with it. You have done what you could. Some blunders and absurdities no doubt crept in; forget them as soon as you can. Tomorrow is a new day. You shall begin it serenely and with too high a spirit to be encumbered with your old nonsense.”', 'Ralph Waldo Emerson', \"['life', 'regrets']\"]\n",
      "['“I have never let my schooling interfere with my education.”', 'Mark Twain', \"['education']\"]\n",
      "[\"“I have heard there are troubles of more than one kind. Some come from ahead and some come from behind. But I've bought a big bat. I'm all ready you see. Now my troubles are going to have troubles with me!”\", 'Dr. Seuss', \"['troubles']\"]\n",
      "['“If I had a flower for every time I thought of you...I could walk through my garden forever.”', 'Alfred Tennyson', \"['friendship', 'love']\"]\n",
      "['“Some people never go crazy. What truly horrible lives they must lead.”', 'Charles Bukowski', \"['humor']\"]\n",
      "['“The trouble with having an open mind, of course, is that people will insist on coming along and trying to put things in it.”', 'Terry Pratchett', \"['humor', 'open-mind', 'thinking']\"]\n",
      "['“Think left and think right and think low and think high. Oh, the thinks you can think up if only you try!”', 'Dr. Seuss', \"['humor', 'philosophy']\"]\n",
      "[\"“What really knocks me out is a book that, when you're all done reading it, you wish the author that wrote it was a terrific friend of yours and you could call him up on the phone whenever you felt like it. That doesn't happen much, though.”\", 'J.D. Salinger', \"['authors', 'books', 'literature', 'reading', 'writing']\"]\n",
      "['“The reason I talk to myself is because I’m the only one whose answers I accept.”', 'George Carlin', \"['humor', 'insanity', 'lies', 'lying', 'self-indulgence', 'truth']\"]\n",
      "[\"“You may say I'm a dreamer, but I'm not the only one. I hope someday you'll join us. And the world will live as one.”\", 'John Lennon', \"['beatles', 'connection', 'dreamers', 'dreaming', 'dreams', 'hope', 'inspirational', 'peace']\"]\n",
      "['“I am free of all prejudice. I hate everyone equally. ”', 'W.C. Fields', \"['humor', 'sinister']\"]\n",
      "[\"“The question isn't who is going to let me; it's who is going to stop me.”\", 'Ayn Rand', '[]']\n",
      "[\"“′Classic′ - a book which people praise and don't read.”\", 'Mark Twain', \"['books', 'classic', 'reading']\"]\n",
      "['“Anyone who has never made a mistake has never tried anything new.”', 'Albert Einstein', \"['mistakes']\"]\n",
      "[\"“A lady's imagination is very rapid; it jumps from admiration to love, from love to matrimony in a moment.”\", 'Jane Austen', \"['humor', 'love', 'romantic', 'women']\"]\n",
      "['“Remember, if the time should come when you have to make a choice between what is right and what is easy, remember what happened to a boy who was good, and kind, and brave, because he strayed across the path of Lord Voldemort. Remember Cedric Diggory.”', 'J.K. Rowling', \"['integrity']\"]\n",
      "['“I declare after all there is no enjoyment like reading! How much sooner one tires of any thing than of a book! -- When I have a house of my own, I shall be miserable if I have not an excellent library.”', 'Jane Austen', \"['books', 'library', 'reading']\"]\n",
      "['“There are few people whom I really love, and still fewer of whom I think well. The more I see of the world, the more am I dissatisfied with it; and every day confirms my belief of the inconsistency of all human characters, and of the little dependence that can be placed on the appearance of merit or sense.”', 'Jane Austen', \"['elizabeth-bennet', 'jane-austen']\"]\n",
      "['“Some day you will be old enough to start reading fairy tales again.”', 'C.S. Lewis', \"['age', 'fairytales', 'growing-up']\"]\n",
      "['“We are not necessarily doubting that God will do the best for us; we are wondering how painful the best will turn out to be.”', 'C.S. Lewis', \"['god']\"]\n",
      "['“The fear of death follows from the fear of life. A man who lives fully is prepared to die at any time.”', 'Mark Twain', \"['death', 'life']\"]\n",
      "['“A lie can travel half way around the world while the truth is putting on its shoes.”', 'Mark Twain', \"['misattributed-mark-twain', 'truth']\"]\n",
      "['“I believe in Christianity as I believe that the sun has risen: not only because I see it, but because by it I see everything else.”', 'C.S. Lewis', \"['christianity', 'faith', 'religion', 'sun']\"]\n",
      "['“The truth.\" Dumbledore sighed. \"It is a beautiful and terrible thing, and should therefore be treated with great caution.”', 'J.K. Rowling', \"['truth']\"]\n",
      "[\"“I'm the one that's got to die when it's time for me to die, so let me live my life the way I want to.”\", 'Jimi Hendrix', \"['death', 'life']\"]\n",
      "['“To die will be an awfully big adventure.”', 'J.M. Barrie', \"['adventure', 'love']\"]\n",
      "['“It takes courage to grow up and become who you really are.”', 'E.E. Cummings', \"['courage']\"]\n",
      "['“But better to get hurt by the truth than comforted with a lie.”', 'Khaled Hosseini', \"['life']\"]\n",
      "['“You never really understand a person until you consider things from his point of view... Until you climb inside of his skin and walk around in it.”', 'Harper Lee', \"['better-life-empathy']\"]\n",
      "['“You have to write the book that wants to be written. And if the book will be too difficult for grown-ups, then you write it for children.”', \"Madeleine L'Engle\", \"['books', 'children', 'difficult', 'grown-ups', 'write', 'writers', 'writing']\"]\n",
      "['“Never tell the truth to people who are not worthy of it.”', 'Mark Twain', \"['truth']\"]\n",
      "[\"“A person's a person, no matter how small.”\", 'Dr. Seuss', \"['inspirational']\"]\n",
      "['“... a mind needs books as a sword needs a whetstone, if it is to keep its edge.”', 'George R.R. Martin', \"['books', 'mind']\"]\n",
      "['“The world as we have created it is a process of our thinking. It cannot be changed without changing our thinking.”', 'Albert Einstein', \"['change', 'deep-thoughts', 'thinking', 'world']\"]\n",
      "['“It is our choices, Harry, that show what we truly are, far more than our abilities.”', 'J.K. Rowling', \"['abilities', 'choices']\"]\n",
      "['“There are only two ways to live your life. One is as though nothing is a miracle. The other is as though everything is a miracle.”', 'Albert Einstein', \"['inspirational', 'life', 'live', 'miracle', 'miracles']\"]\n",
      "['“The person, be it gentleman or lady, who has not pleasure in a good novel, must be intolerably stupid.”', 'Jane Austen', \"['aliteracy', 'books', 'classic', 'humor']\"]\n",
      "[\"“Imperfection is beauty, madness is genius and it's better to be absolutely ridiculous than absolutely boring.”\", 'Marilyn Monroe', \"['be-yourself', 'inspirational']\"]\n",
      "['“Try not to become a man of success. Rather become a man of value.”', 'Albert Einstein', \"['adulthood', 'success', 'value']\"]\n",
      "['“It is better to be hated for what you are than to be loved for what you are not.”', 'André Gide', \"['life', 'love']\"]\n",
      "[\"“I have not failed. I've just found 10,000 ways that won't work.”\", 'Thomas A. Edison', \"['edison', 'failure', 'inspirational', 'paraphrased']\"]\n",
      "[\"“A woman is like a tea bag; you never know how strong it is until it's in hot water.”\", 'Eleanor Roosevelt', \"['misattributed-eleanor-roosevelt']\"]\n",
      "['“A day without sunshine is like, you know, night.”', 'Steve Martin', \"['humor', 'obvious', 'simile']\"]\n",
      "[\"“This life is what you make it. No matter what, you're going to mess up sometimes, it's a universal truth. But the good part is you get to decide how you're going to mess it up. Girls will be your friends - they'll act like it anyway. But just remember, some come, some go. The ones that stay with you through everything - they're your true best friends. Don't let go of them. Also remember, sisters make the best friends in the world. As for lovers, well, they'll come and go too. And baby, I hate to say it, most of them - actually pretty much all of them are going to break your heart, but you can't give up because if you give up, you'll never find your soulmate. You'll never find that half who makes you whole and that goes for everything. Just because you fail once, doesn't mean you're gonna fail at everything. Keep trying, hold on, and always, always, always believe in yourself, because if you don't, then who will, sweetie? So keep your head high, keep your chin up, and most importantly, keep smiling, because life's a beautiful thing and there's so much to smile about.”\", 'Marilyn Monroe', \"['friends', 'heartbreak', 'inspirational', 'life', 'love', 'sisters']\"]\n",
      "['“It takes a great deal of bravery to stand up to our enemies, but just as much to stand up to our friends.”', 'J.K. Rowling', \"['courage', 'friends']\"]\n",
      "[\"“If you can't explain it to a six year old, you don't understand it yourself.”\", 'Albert Einstein', \"['simplicity', 'understand']\"]\n",
      "[\"“You may not be her first, her last, or her only. She loved before she may love again. But if she loves you now, what else matters? She's not perfect—you aren't either, and the two of you may never be perfect together but if she can make you laugh, cause you to think twice, and admit to being human and making mistakes, hold onto her and give her the most you can. She may not be thinking about you every second of the day, but she will give you a part of her that she knows you can break—her heart. So don't hurt her, don't change her, don't analyze and don't expect more than she can give. Smile when she makes you happy, let her know when she makes you mad, and miss her when she's not there.”\", 'Bob Marley', \"['love']\"]\n",
      "['“I like nonsense, it wakes up the brain cells. Fantasy is a necessary ingredient in living.”', 'Dr. Seuss', \"['fantasy']\"]\n",
      "['“I may not have gone where I intended to go, but I think I have ended up where I needed to be.”', 'Douglas Adams', \"['life', 'navigation']\"]\n",
      "[\"“The opposite of love is not hate, it's indifference. The opposite of art is not ugliness, it's indifference. The opposite of faith is not heresy, it's indifference. And the opposite of life is not death, it's indifference.”\", 'Elie Wiesel', \"['activism', 'apathy', 'hate', 'indifference', 'inspirational', 'love', 'opposite', 'philosophy']\"]\n",
      "['“It is not a lack of love, but a lack of friendship that makes unhappy marriages.”', 'Friedrich Nietzsche', \"['friendship', 'lack-of-friendship', 'lack-of-love', 'love', 'marriage', 'unhappy-marriage']\"]\n",
      "['“Good friends, good books, and a sleepy conscience: this is the ideal life.”', 'Mark Twain', \"['books', 'contentment', 'friends', 'friendship', 'life']\"]\n",
      "['“Life is what happens to us while we are making other plans.”', 'Allen Saunders', \"['fate', 'life', 'misattributed-john-lennon', 'planning', 'plans']\"]\n",
      "['“I love you without knowing how, or when, or from where. I love you simply, without problems or pride: I love you in this way because I do not know any other way of loving but this, in which there is no I or you, so intimate that your hand upon my chest is my hand, so intimate that when I fall asleep your eyes close.”', 'Pablo Neruda', \"['love', 'poetry']\"]\n",
      "['“For every minute you are angry you lose sixty seconds of happiness.”', 'Ralph Waldo Emerson', \"['happiness']\"]\n",
      "['“If you judge people, you have no time to love them.”', 'Mother Teresa', \"['attributed-no-source']\"]\n",
      "['“Anyone who thinks sitting in church can make you a Christian must also think that sitting in a garage can make you a car.”', 'Garrison Keillor', \"['humor', 'religion']\"]\n",
      "['“Beauty is in the eye of the beholder and it may be necessary from time to time to give a stupid or misinformed beholder a black eye.”', 'Jim Henson', \"['humor']\"]\n",
      "['“Today you are You, that is truer than true. There is no one alive who is Youer than You.”', 'Dr. Seuss', \"['comedy', 'life', 'yourself']\"]\n",
      "['“If you want your children to be intelligent, read them fairy tales. If you want them to be more intelligent, read them more fairy tales.”', 'Albert Einstein', \"['children', 'fairy-tales']\"]\n",
      "['“It is impossible to live without failing at something, unless you live so cautiously that you might as well not have lived at all - in which case, you fail by default.”', 'J.K. Rowling', '[]']\n",
      "['“Logic will get you from A to Z; imagination will get you everywhere.”', 'Albert Einstein', \"['imagination']\"]\n",
      "['“One good thing about music, when it hits you, you feel no pain.”', 'Bob Marley', \"['music']\"]\n",
      "[\"“The more that you read, the more things you will know. The more that you learn, the more places you'll go.”\", 'Dr. Seuss', \"['learning', 'reading', 'seuss']\"]\n",
      "['“Of course it is happening inside your head, Harry, but why on earth should that mean that it is not real?”', 'J.K. Rowling', \"['dumbledore']\"]\n",
      "['“The truth is, everyone is going to hurt you. You just got to find the ones worth suffering for.”', 'Bob Marley', \"['friendship']\"]\n",
      "['“Not all of us can do great things. But we can do small things with great love.”', 'Mother Teresa', \"['misattributed-to-mother-teresa', 'paraphrased']\"]\n",
      "['“To the well-organized mind, death is but the next great adventure.”', 'J.K. Rowling', \"['death', 'inspirational']\"]\n",
      "[\"“All you need is love. But a little chocolate now and then doesn't hurt.”\", 'Charles M. Schulz', \"['chocolate', 'food', 'humor']\"]\n",
      "[\"“We read to know we're not alone.”\", 'William Nicholson', \"['misattributed-to-c-s-lewis', 'reading']\"]\n",
      "['“Any fool can know. The point is to understand.”', 'Albert Einstein', \"['knowledge', 'learning', 'understanding', 'wisdom']\"]\n",
      "['“I have always imagined that Paradise will be a kind of library.”', 'Jorge Luis Borges', \"['books', 'library']\"]\n",
      "['“It is never too late to be what you might have been.”', 'George Eliot', \"['inspirational']\"]\n",
      "['“A reader lives a thousand lives before he dies, said Jojen. The man who never reads lives only one.”', 'George R.R. Martin', \"['read', 'readers', 'reading', 'reading-books']\"]\n",
      "['“You can never get a cup of tea large enough or a book long enough to suit me.”', 'C.S. Lewis', \"['books', 'inspirational', 'reading', 'tea']\"]\n",
      "['“You believe lies so you eventually learn to trust no one but yourself.”', 'Marilyn Monroe', '[]']\n",
      "['“If you can make a woman laugh, you can make her do anything.”', 'Marilyn Monroe', \"['girls', 'love']\"]\n",
      "['“Life is like riding a bicycle. To keep your balance, you must keep moving.”', 'Albert Einstein', \"['life', 'simile']\"]\n",
      "['“The real lover is the man who can thrill you by kissing your forehead or smiling into your eyes or just staring into space.”', 'Marilyn Monroe', \"['love']\"]\n",
      "[\"“A wise girl kisses but doesn't love, listens but doesn't believe, and leaves before she is left.”\", 'Marilyn Monroe', \"['attributed-no-source']\"]\n",
      "['“Only in the darkness can you see the stars.”', 'Martin Luther King Jr.', \"['hope', 'inspirational']\"]\n",
      "['“It matters not what someone is born, but what they grow to be.”', 'J.K. Rowling', \"['dumbledore']\"]\n",
      "['“Love does not begin and end the way we seem to think it does. Love is a battle, love is a war; love is a growing up.”', 'James Baldwin', \"['love']\"]\n",
      "['“There is nothing I would not do for those who are really my friends. I have no notion of loving people by halves, it is not my nature.”', 'Jane Austen', \"['friendship', 'love']\"]\n",
      "['“Do one thing every day that scares you.”', 'Eleanor Roosevelt', \"['attributed', 'fear', 'inspiration']\"]\n",
      "['“I am good, but not an angel. I do sin, but I am not the devil. I am just a small girl in a big world trying to find someone to love.”', 'Marilyn Monroe', \"['attributed-no-source']\"]\n",
      "['“If I were not a physicist, I would probably be a musician. I often think in music. I live my daydreams in music. I see my life in terms of music.”', 'Albert Einstein', \"['music']\"]\n",
      "['“If you only read the books that everyone else is reading, you can only think what everyone else is thinking.”', 'Haruki Murakami', \"['books', 'thought']\"]\n",
      "['“The difference between genius and stupidity is: genius has its limits.”', 'Alexandre Dumas fils', \"['misattributed-to-einstein']\"]\n",
      "[\"“He's like a drug for you, Bella.”\", 'Stephenie Meyer', \"['drug', 'romance', 'simile']\"]\n",
      "['“There is no friend as loyal as a book.”', 'Ernest Hemingway', \"['books', 'friends', 'novelist-quotes']\"]\n",
      "['“When one door of happiness closes, another opens; but often we look so long at the closed door that we do not see the one which has been opened for us.”', 'Helen Keller', \"['inspirational']\"]\n",
      "[\"“Life isn't about finding yourself. Life is about creating yourself.”\", 'George Bernard Shaw', \"['inspirational', 'life', 'yourself']\"]\n",
      "[\"“That's the problem with drinking, I thought, as I poured myself a drink. If something bad happens you drink in an attempt to forget; if something good happens you drink in order to celebrate; and if nothing happens you drink to make something happen.”\", 'Charles Bukowski', \"['alcohol']\"]\n",
      "['“You don’t forget the face of the person who was your last hope.”', 'Suzanne Collins', \"['the-hunger-games']\"]\n",
      "[\"“Remember, we're madly in love, so it's all right to kiss me anytime you feel like it.”\", 'Suzanne Collins', \"['humor']\"]\n",
      "['“To love at all is to be vulnerable. Love anything and your heart will be wrung and possibly broken. If you want to make sure of keeping it intact you must give it to no one, not even an animal. Wrap it carefully round with hobbies and little luxuries; avoid all entanglements. Lock it up safe in the casket or coffin of your selfishness. But in that casket, safe, dark, motionless, airless, it will change. It will not be broken; it will become unbreakable, impenetrable, irredeemable. To love is to be vulnerable.”', 'C.S. Lewis', \"['love']\"]\n",
      "['“Not all those who wander are lost.”', 'J.R.R. Tolkien', \"['bilbo', 'journey', 'lost', 'quest', 'travel', 'wander']\"]\n",
      "['“Do not pity the dead, Harry. Pity the living, and, above all those who live without love.”', 'J.K. Rowling', \"['live-death-love']\"]\n",
      "['“There is nothing to writing. All you do is sit down at a typewriter and bleed.”', 'Ernest Hemingway', \"['good', 'writing']\"]\n",
      "['“Finish each day and be done with it. You have done what you could. Some blunders and absurdities no doubt crept in; forget them as soon as you can. Tomorrow is a new day. You shall begin it serenely and with too high a spirit to be encumbered with your old nonsense.”', 'Ralph Waldo Emerson', \"['life', 'regrets']\"]\n",
      "['“I have never let my schooling interfere with my education.”', 'Mark Twain', \"['education']\"]\n",
      "[\"“I have heard there are troubles of more than one kind. Some come from ahead and some come from behind. But I've bought a big bat. I'm all ready you see. Now my troubles are going to have troubles with me!”\", 'Dr. Seuss', \"['troubles']\"]\n",
      "['“If I had a flower for every time I thought of you...I could walk through my garden forever.”', 'Alfred Tennyson', \"['friendship', 'love']\"]\n",
      "['“Some people never go crazy. What truly horrible lives they must lead.”', 'Charles Bukowski', \"['humor']\"]\n",
      "['“The trouble with having an open mind, of course, is that people will insist on coming along and trying to put things in it.”', 'Terry Pratchett', \"['humor', 'open-mind', 'thinking']\"]\n",
      "['“Think left and think right and think low and think high. Oh, the thinks you can think up if only you try!”', 'Dr. Seuss', \"['humor', 'philosophy']\"]\n",
      "[\"“What really knocks me out is a book that, when you're all done reading it, you wish the author that wrote it was a terrific friend of yours and you could call him up on the phone whenever you felt like it. That doesn't happen much, though.”\", 'J.D. Salinger', \"['authors', 'books', 'literature', 'reading', 'writing']\"]\n",
      "['“The reason I talk to myself is because I’m the only one whose answers I accept.”', 'George Carlin', \"['humor', 'insanity', 'lies', 'lying', 'self-indulgence', 'truth']\"]\n",
      "[\"“You may say I'm a dreamer, but I'm not the only one. I hope someday you'll join us. And the world will live as one.”\", 'John Lennon', \"['beatles', 'connection', 'dreamers', 'dreaming', 'dreams', 'hope', 'inspirational', 'peace']\"]\n",
      "['“I am free of all prejudice. I hate everyone equally. ”', 'W.C. Fields', \"['humor', 'sinister']\"]\n",
      "[\"“The question isn't who is going to let me; it's who is going to stop me.”\", 'Ayn Rand', '[]']\n",
      "[\"“′Classic′ - a book which people praise and don't read.”\", 'Mark Twain', \"['books', 'classic', 'reading']\"]\n",
      "['“Anyone who has never made a mistake has never tried anything new.”', 'Albert Einstein', \"['mistakes']\"]\n",
      "[\"“A lady's imagination is very rapid; it jumps from admiration to love, from love to matrimony in a moment.”\", 'Jane Austen', \"['humor', 'love', 'romantic', 'women']\"]\n",
      "['“Remember, if the time should come when you have to make a choice between what is right and what is easy, remember what happened to a boy who was good, and kind, and brave, because he strayed across the path of Lord Voldemort. Remember Cedric Diggory.”', 'J.K. Rowling', \"['integrity']\"]\n",
      "['“I declare after all there is no enjoyment like reading! How much sooner one tires of any thing than of a book! -- When I have a house of my own, I shall be miserable if I have not an excellent library.”', 'Jane Austen', \"['books', 'library', 'reading']\"]\n",
      "['“There are few people whom I really love, and still fewer of whom I think well. The more I see of the world, the more am I dissatisfied with it; and every day confirms my belief of the inconsistency of all human characters, and of the little dependence that can be placed on the appearance of merit or sense.”', 'Jane Austen', \"['elizabeth-bennet', 'jane-austen']\"]\n",
      "['“Some day you will be old enough to start reading fairy tales again.”', 'C.S. Lewis', \"['age', 'fairytales', 'growing-up']\"]\n",
      "['“We are not necessarily doubting that God will do the best for us; we are wondering how painful the best will turn out to be.”', 'C.S. Lewis', \"['god']\"]\n",
      "['“The fear of death follows from the fear of life. A man who lives fully is prepared to die at any time.”', 'Mark Twain', \"['death', 'life']\"]\n",
      "['“A lie can travel half way around the world while the truth is putting on its shoes.”', 'Mark Twain', \"['misattributed-mark-twain', 'truth']\"]\n",
      "['“I believe in Christianity as I believe that the sun has risen: not only because I see it, but because by it I see everything else.”', 'C.S. Lewis', \"['christianity', 'faith', 'religion', 'sun']\"]\n",
      "['“The truth.\" Dumbledore sighed. \"It is a beautiful and terrible thing, and should therefore be treated with great caution.”', 'J.K. Rowling', \"['truth']\"]\n",
      "[\"“I'm the one that's got to die when it's time for me to die, so let me live my life the way I want to.”\", 'Jimi Hendrix', \"['death', 'life']\"]\n",
      "['“To die will be an awfully big adventure.”', 'J.M. Barrie', \"['adventure', 'love']\"]\n",
      "['“It takes courage to grow up and become who you really are.”', 'E.E. Cummings', \"['courage']\"]\n",
      "['“But better to get hurt by the truth than comforted with a lie.”', 'Khaled Hosseini', \"['life']\"]\n",
      "['“You never really understand a person until you consider things from his point of view... Until you climb inside of his skin and walk around in it.”', 'Harper Lee', \"['better-life-empathy']\"]\n",
      "['“You have to write the book that wants to be written. And if the book will be too difficult for grown-ups, then you write it for children.”', \"Madeleine L'Engle\", \"['books', 'children', 'difficult', 'grown-ups', 'write', 'writers', 'writing']\"]\n",
      "['“Never tell the truth to people who are not worthy of it.”', 'Mark Twain', \"['truth']\"]\n",
      "[\"“A person's a person, no matter how small.”\", 'Dr. Seuss', \"['inspirational']\"]\n",
      "['“... a mind needs books as a sword needs a whetstone, if it is to keep its edge.”', 'George R.R. Martin', \"['books', 'mind']\"]\n"
     ]
    }
   ],
   "source": [
    "with open ('quote.csv', mode='r', encoding='UTF-8', newline='') as f:\n",
    "    reader = csv.reader(f, delimiter ='*')\n",
    "    for quote in reader:\n",
    "        print(quote)"
   ]
  },
  {
   "cell_type": "code",
   "execution_count": 36,
   "metadata": {},
   "outputs": [],
   "source": [
    "import json"
   ]
  },
  {
   "cell_type": "code",
   "execution_count": 38,
   "metadata": {},
   "outputs": [],
   "source": [
    "data = '''[\n",
    "    {\"Roll\":1, \"Name\":\"Abby\", \"Branch\":\"BBA\"},\n",
    "    {\"Roll\":2, \"Name\":\"Boby\", \"Branch\":\"MBA\"},\n",
    "    {\"Roll\":3, \"Name\":\"Gaby\", \"Branch\":\"BBA\"},\n",
    "    {\"Roll\":4, \"Name\":\"Saby\", \"Branch\":\"MBA\"}\n",
    "]'''"
   ]
  },
  {
   "cell_type": "code",
   "execution_count": 40,
   "metadata": {},
   "outputs": [
    {
     "data": {
      "text/plain": [
       "[{'Roll': 1, 'Name': 'Abby', 'Branch': 'BBA'},\n",
       " {'Roll': 2, 'Name': 'Boby', 'Branch': 'MBA'},\n",
       " {'Roll': 3, 'Name': 'Gaby', 'Branch': 'BBA'},\n",
       " {'Roll': 4, 'Name': 'Saby', 'Branch': 'MBA'}]"
      ]
     },
     "execution_count": 40,
     "metadata": {},
     "output_type": "execute_result"
    }
   ],
   "source": [
    "jsdata = json.loads(data)\n",
    "jsdata"
   ]
  },
  {
   "cell_type": "code",
   "execution_count": 41,
   "metadata": {},
   "outputs": [],
   "source": [
    "jsdata = json.loads(data)\n",
    "with open('new.json', mode='w') as f:\n",
    "    f.write(data)"
   ]
  },
  {
   "cell_type": "code",
   "execution_count": 46,
   "metadata": {},
   "outputs": [
    {
     "name": "stdout",
     "output_type": "stream",
     "text": [
      "{'Roll': 1, 'Name': 'Abby', 'Branch': 'BBA'}\n",
      "Abby\n",
      "{'Roll': 2, 'Name': 'Boby', 'Branch': 'MBA'}\n",
      "Boby\n",
      "{'Roll': 3, 'Name': 'Gaby', 'Branch': 'BBA'}\n",
      "Gaby\n",
      "{'Roll': 4, 'Name': 'Saby', 'Branch': 'MBA'}\n",
      "Saby\n"
     ]
    }
   ],
   "source": [
    "with open('new.json', mode= 'r') as f:\n",
    "    data = json.load(f)\n",
    "    for row in data:\n",
    "        print(row)\n",
    "        print(row['Name'])"
   ]
  },
  {
   "cell_type": "code",
   "execution_count": null,
   "metadata": {},
   "outputs": [],
   "source": [
    "# dumps func works on string data\n",
    "data = '''\n",
    "    {\"Roll\":1, \"Name\":\"Abby\", \"Branch\":\"BBA\"},\n",
    "    {\"Roll\":2, \"Name\":\"Boby\", \"Branch\":\"MBA\"},\n",
    "    {\"Roll\":3, \"Name\":\"Gaby\", \"Branch\":\"BBA\"},\n",
    "    {\"Roll\":4, \"Name\":\"Saby\", \"Branch\":\"MBA\"}\n",
    "'''"
   ]
  },
  {
   "cell_type": "code",
   "execution_count": 47,
   "metadata": {},
   "outputs": [],
   "source": [
    "jsdata = json.dumps(data)\n",
    "with open('newdata.json', mode= 'w') as f:\n",
    "    json.dump(data, f)"
   ]
  },
  {
   "cell_type": "code",
   "execution_count": 48,
   "metadata": {},
   "outputs": [
    {
     "data": {
      "text/plain": [
       "['“... a mind needs books as a sword needs a whetstone, if it is to keep its edge.”',\n",
       " 'George R.R. Martin',\n",
       " \"['books', 'mind']\"]"
      ]
     },
     "execution_count": 48,
     "metadata": {},
     "output_type": "execute_result"
    }
   ],
   "source": [
    "quote"
   ]
  },
  {
   "cell_type": "code",
   "execution_count": 49,
   "metadata": {},
   "outputs": [],
   "source": [
    "# we have to convert our file into list of dict,in json format\n",
    "Quotesdict = []\n",
    "for quote in Quotes:\n",
    "    temp = {} # we will make a dict\n",
    "    temp['Quote'] = quote[0]\n",
    "    temp['Author'] = quote[1]\n",
    "    temp['Tags'] = quote[2]\n",
    "    Quotesdict.append(temp)"
   ]
  },
  {
   "cell_type": "code",
   "execution_count": 50,
   "metadata": {},
   "outputs": [
    {
     "data": {
      "text/plain": [
       "[{'Quote': '“The world as we have created it is a process of our thinking. It cannot be changed without changing our thinking.”',\n",
       "  'Author': 'Albert Einstein',\n",
       "  'Tags': ['change', 'deep-thoughts', 'thinking', 'world']},\n",
       " {'Quote': '“It is our choices, Harry, that show what we truly are, far more than our abilities.”',\n",
       "  'Author': 'J.K. Rowling',\n",
       "  'Tags': ['abilities', 'choices']},\n",
       " {'Quote': '“There are only two ways to live your life. One is as though nothing is a miracle. The other is as though everything is a miracle.”',\n",
       "  'Author': 'Albert Einstein',\n",
       "  'Tags': ['inspirational', 'life', 'live', 'miracle', 'miracles']},\n",
       " {'Quote': '“The person, be it gentleman or lady, who has not pleasure in a good novel, must be intolerably stupid.”',\n",
       "  'Author': 'Jane Austen',\n",
       "  'Tags': ['aliteracy', 'books', 'classic', 'humor']},\n",
       " {'Quote': \"“Imperfection is beauty, madness is genius and it's better to be absolutely ridiculous than absolutely boring.”\",\n",
       "  'Author': 'Marilyn Monroe',\n",
       "  'Tags': ['be-yourself', 'inspirational']},\n",
       " {'Quote': '“Try not to become a man of success. Rather become a man of value.”',\n",
       "  'Author': 'Albert Einstein',\n",
       "  'Tags': ['adulthood', 'success', 'value']},\n",
       " {'Quote': '“It is better to be hated for what you are than to be loved for what you are not.”',\n",
       "  'Author': 'André Gide',\n",
       "  'Tags': ['life', 'love']},\n",
       " {'Quote': \"“I have not failed. I've just found 10,000 ways that won't work.”\",\n",
       "  'Author': 'Thomas A. Edison',\n",
       "  'Tags': ['edison', 'failure', 'inspirational', 'paraphrased']},\n",
       " {'Quote': \"“A woman is like a tea bag; you never know how strong it is until it's in hot water.”\",\n",
       "  'Author': 'Eleanor Roosevelt',\n",
       "  'Tags': ['misattributed-eleanor-roosevelt']},\n",
       " {'Quote': '“A day without sunshine is like, you know, night.”',\n",
       "  'Author': 'Steve Martin',\n",
       "  'Tags': ['humor', 'obvious', 'simile']},\n",
       " {'Quote': \"“This life is what you make it. No matter what, you're going to mess up sometimes, it's a universal truth. But the good part is you get to decide how you're going to mess it up. Girls will be your friends - they'll act like it anyway. But just remember, some come, some go. The ones that stay with you through everything - they're your true best friends. Don't let go of them. Also remember, sisters make the best friends in the world. As for lovers, well, they'll come and go too. And baby, I hate to say it, most of them - actually pretty much all of them are going to break your heart, but you can't give up because if you give up, you'll never find your soulmate. You'll never find that half who makes you whole and that goes for everything. Just because you fail once, doesn't mean you're gonna fail at everything. Keep trying, hold on, and always, always, always believe in yourself, because if you don't, then who will, sweetie? So keep your head high, keep your chin up, and most importantly, keep smiling, because life's a beautiful thing and there's so much to smile about.”\",\n",
       "  'Author': 'Marilyn Monroe',\n",
       "  'Tags': ['friends',\n",
       "   'heartbreak',\n",
       "   'inspirational',\n",
       "   'life',\n",
       "   'love',\n",
       "   'sisters']},\n",
       " {'Quote': '“It takes a great deal of bravery to stand up to our enemies, but just as much to stand up to our friends.”',\n",
       "  'Author': 'J.K. Rowling',\n",
       "  'Tags': ['courage', 'friends']},\n",
       " {'Quote': \"“If you can't explain it to a six year old, you don't understand it yourself.”\",\n",
       "  'Author': 'Albert Einstein',\n",
       "  'Tags': ['simplicity', 'understand']},\n",
       " {'Quote': \"“You may not be her first, her last, or her only. She loved before she may love again. But if she loves you now, what else matters? She's not perfect—you aren't either, and the two of you may never be perfect together but if she can make you laugh, cause you to think twice, and admit to being human and making mistakes, hold onto her and give her the most you can. She may not be thinking about you every second of the day, but she will give you a part of her that she knows you can break—her heart. So don't hurt her, don't change her, don't analyze and don't expect more than she can give. Smile when she makes you happy, let her know when she makes you mad, and miss her when she's not there.”\",\n",
       "  'Author': 'Bob Marley',\n",
       "  'Tags': ['love']},\n",
       " {'Quote': '“I like nonsense, it wakes up the brain cells. Fantasy is a necessary ingredient in living.”',\n",
       "  'Author': 'Dr. Seuss',\n",
       "  'Tags': ['fantasy']},\n",
       " {'Quote': '“I may not have gone where I intended to go, but I think I have ended up where I needed to be.”',\n",
       "  'Author': 'Douglas Adams',\n",
       "  'Tags': ['life', 'navigation']},\n",
       " {'Quote': \"“The opposite of love is not hate, it's indifference. The opposite of art is not ugliness, it's indifference. The opposite of faith is not heresy, it's indifference. And the opposite of life is not death, it's indifference.”\",\n",
       "  'Author': 'Elie Wiesel',\n",
       "  'Tags': ['activism',\n",
       "   'apathy',\n",
       "   'hate',\n",
       "   'indifference',\n",
       "   'inspirational',\n",
       "   'love',\n",
       "   'opposite',\n",
       "   'philosophy']},\n",
       " {'Quote': '“It is not a lack of love, but a lack of friendship that makes unhappy marriages.”',\n",
       "  'Author': 'Friedrich Nietzsche',\n",
       "  'Tags': ['friendship',\n",
       "   'lack-of-friendship',\n",
       "   'lack-of-love',\n",
       "   'love',\n",
       "   'marriage',\n",
       "   'unhappy-marriage']},\n",
       " {'Quote': '“Good friends, good books, and a sleepy conscience: this is the ideal life.”',\n",
       "  'Author': 'Mark Twain',\n",
       "  'Tags': ['books', 'contentment', 'friends', 'friendship', 'life']},\n",
       " {'Quote': '“Life is what happens to us while we are making other plans.”',\n",
       "  'Author': 'Allen Saunders',\n",
       "  'Tags': ['fate', 'life', 'misattributed-john-lennon', 'planning', 'plans']},\n",
       " {'Quote': '“I love you without knowing how, or when, or from where. I love you simply, without problems or pride: I love you in this way because I do not know any other way of loving but this, in which there is no I or you, so intimate that your hand upon my chest is my hand, so intimate that when I fall asleep your eyes close.”',\n",
       "  'Author': 'Pablo Neruda',\n",
       "  'Tags': ['love', 'poetry']},\n",
       " {'Quote': '“For every minute you are angry you lose sixty seconds of happiness.”',\n",
       "  'Author': 'Ralph Waldo Emerson',\n",
       "  'Tags': ['happiness']},\n",
       " {'Quote': '“If you judge people, you have no time to love them.”',\n",
       "  'Author': 'Mother Teresa',\n",
       "  'Tags': ['attributed-no-source']},\n",
       " {'Quote': '“Anyone who thinks sitting in church can make you a Christian must also think that sitting in a garage can make you a car.”',\n",
       "  'Author': 'Garrison Keillor',\n",
       "  'Tags': ['humor', 'religion']},\n",
       " {'Quote': '“Beauty is in the eye of the beholder and it may be necessary from time to time to give a stupid or misinformed beholder a black eye.”',\n",
       "  'Author': 'Jim Henson',\n",
       "  'Tags': ['humor']},\n",
       " {'Quote': '“Today you are You, that is truer than true. There is no one alive who is Youer than You.”',\n",
       "  'Author': 'Dr. Seuss',\n",
       "  'Tags': ['comedy', 'life', 'yourself']},\n",
       " {'Quote': '“If you want your children to be intelligent, read them fairy tales. If you want them to be more intelligent, read them more fairy tales.”',\n",
       "  'Author': 'Albert Einstein',\n",
       "  'Tags': ['children', 'fairy-tales']},\n",
       " {'Quote': '“It is impossible to live without failing at something, unless you live so cautiously that you might as well not have lived at all - in which case, you fail by default.”',\n",
       "  'Author': 'J.K. Rowling',\n",
       "  'Tags': []},\n",
       " {'Quote': '“Logic will get you from A to Z; imagination will get you everywhere.”',\n",
       "  'Author': 'Albert Einstein',\n",
       "  'Tags': ['imagination']},\n",
       " {'Quote': '“One good thing about music, when it hits you, you feel no pain.”',\n",
       "  'Author': 'Bob Marley',\n",
       "  'Tags': ['music']},\n",
       " {'Quote': \"“The more that you read, the more things you will know. The more that you learn, the more places you'll go.”\",\n",
       "  'Author': 'Dr. Seuss',\n",
       "  'Tags': ['learning', 'reading', 'seuss']},\n",
       " {'Quote': '“Of course it is happening inside your head, Harry, but why on earth should that mean that it is not real?”',\n",
       "  'Author': 'J.K. Rowling',\n",
       "  'Tags': ['dumbledore']},\n",
       " {'Quote': '“The truth is, everyone is going to hurt you. You just got to find the ones worth suffering for.”',\n",
       "  'Author': 'Bob Marley',\n",
       "  'Tags': ['friendship']},\n",
       " {'Quote': '“Not all of us can do great things. But we can do small things with great love.”',\n",
       "  'Author': 'Mother Teresa',\n",
       "  'Tags': ['misattributed-to-mother-teresa', 'paraphrased']},\n",
       " {'Quote': '“To the well-organized mind, death is but the next great adventure.”',\n",
       "  'Author': 'J.K. Rowling',\n",
       "  'Tags': ['death', 'inspirational']},\n",
       " {'Quote': \"“All you need is love. But a little chocolate now and then doesn't hurt.”\",\n",
       "  'Author': 'Charles M. Schulz',\n",
       "  'Tags': ['chocolate', 'food', 'humor']},\n",
       " {'Quote': \"“We read to know we're not alone.”\",\n",
       "  'Author': 'William Nicholson',\n",
       "  'Tags': ['misattributed-to-c-s-lewis', 'reading']},\n",
       " {'Quote': '“Any fool can know. The point is to understand.”',\n",
       "  'Author': 'Albert Einstein',\n",
       "  'Tags': ['knowledge', 'learning', 'understanding', 'wisdom']},\n",
       " {'Quote': '“I have always imagined that Paradise will be a kind of library.”',\n",
       "  'Author': 'Jorge Luis Borges',\n",
       "  'Tags': ['books', 'library']},\n",
       " {'Quote': '“It is never too late to be what you might have been.”',\n",
       "  'Author': 'George Eliot',\n",
       "  'Tags': ['inspirational']},\n",
       " {'Quote': '“A reader lives a thousand lives before he dies, said Jojen. The man who never reads lives only one.”',\n",
       "  'Author': 'George R.R. Martin',\n",
       "  'Tags': ['read', 'readers', 'reading', 'reading-books']},\n",
       " {'Quote': '“You can never get a cup of tea large enough or a book long enough to suit me.”',\n",
       "  'Author': 'C.S. Lewis',\n",
       "  'Tags': ['books', 'inspirational', 'reading', 'tea']},\n",
       " {'Quote': '“You believe lies so you eventually learn to trust no one but yourself.”',\n",
       "  'Author': 'Marilyn Monroe',\n",
       "  'Tags': []},\n",
       " {'Quote': '“If you can make a woman laugh, you can make her do anything.”',\n",
       "  'Author': 'Marilyn Monroe',\n",
       "  'Tags': ['girls', 'love']},\n",
       " {'Quote': '“Life is like riding a bicycle. To keep your balance, you must keep moving.”',\n",
       "  'Author': 'Albert Einstein',\n",
       "  'Tags': ['life', 'simile']},\n",
       " {'Quote': '“The real lover is the man who can thrill you by kissing your forehead or smiling into your eyes or just staring into space.”',\n",
       "  'Author': 'Marilyn Monroe',\n",
       "  'Tags': ['love']},\n",
       " {'Quote': \"“A wise girl kisses but doesn't love, listens but doesn't believe, and leaves before she is left.”\",\n",
       "  'Author': 'Marilyn Monroe',\n",
       "  'Tags': ['attributed-no-source']},\n",
       " {'Quote': '“Only in the darkness can you see the stars.”',\n",
       "  'Author': 'Martin Luther King Jr.',\n",
       "  'Tags': ['hope', 'inspirational']},\n",
       " {'Quote': '“It matters not what someone is born, but what they grow to be.”',\n",
       "  'Author': 'J.K. Rowling',\n",
       "  'Tags': ['dumbledore']},\n",
       " {'Quote': '“Love does not begin and end the way we seem to think it does. Love is a battle, love is a war; love is a growing up.”',\n",
       "  'Author': 'James Baldwin',\n",
       "  'Tags': ['love']},\n",
       " {'Quote': '“There is nothing I would not do for those who are really my friends. I have no notion of loving people by halves, it is not my nature.”',\n",
       "  'Author': 'Jane Austen',\n",
       "  'Tags': ['friendship', 'love']},\n",
       " {'Quote': '“Do one thing every day that scares you.”',\n",
       "  'Author': 'Eleanor Roosevelt',\n",
       "  'Tags': ['attributed', 'fear', 'inspiration']},\n",
       " {'Quote': '“I am good, but not an angel. I do sin, but I am not the devil. I am just a small girl in a big world trying to find someone to love.”',\n",
       "  'Author': 'Marilyn Monroe',\n",
       "  'Tags': ['attributed-no-source']},\n",
       " {'Quote': '“If I were not a physicist, I would probably be a musician. I often think in music. I live my daydreams in music. I see my life in terms of music.”',\n",
       "  'Author': 'Albert Einstein',\n",
       "  'Tags': ['music']},\n",
       " {'Quote': '“If you only read the books that everyone else is reading, you can only think what everyone else is thinking.”',\n",
       "  'Author': 'Haruki Murakami',\n",
       "  'Tags': ['books', 'thought']},\n",
       " {'Quote': '“The difference between genius and stupidity is: genius has its limits.”',\n",
       "  'Author': 'Alexandre Dumas fils',\n",
       "  'Tags': ['misattributed-to-einstein']},\n",
       " {'Quote': \"“He's like a drug for you, Bella.”\",\n",
       "  'Author': 'Stephenie Meyer',\n",
       "  'Tags': ['drug', 'romance', 'simile']},\n",
       " {'Quote': '“There is no friend as loyal as a book.”',\n",
       "  'Author': 'Ernest Hemingway',\n",
       "  'Tags': ['books', 'friends', 'novelist-quotes']},\n",
       " {'Quote': '“When one door of happiness closes, another opens; but often we look so long at the closed door that we do not see the one which has been opened for us.”',\n",
       "  'Author': 'Helen Keller',\n",
       "  'Tags': ['inspirational']},\n",
       " {'Quote': \"“Life isn't about finding yourself. Life is about creating yourself.”\",\n",
       "  'Author': 'George Bernard Shaw',\n",
       "  'Tags': ['inspirational', 'life', 'yourself']},\n",
       " {'Quote': \"“That's the problem with drinking, I thought, as I poured myself a drink. If something bad happens you drink in an attempt to forget; if something good happens you drink in order to celebrate; and if nothing happens you drink to make something happen.”\",\n",
       "  'Author': 'Charles Bukowski',\n",
       "  'Tags': ['alcohol']},\n",
       " {'Quote': '“You don’t forget the face of the person who was your last hope.”',\n",
       "  'Author': 'Suzanne Collins',\n",
       "  'Tags': ['the-hunger-games']},\n",
       " {'Quote': \"“Remember, we're madly in love, so it's all right to kiss me anytime you feel like it.”\",\n",
       "  'Author': 'Suzanne Collins',\n",
       "  'Tags': ['humor']},\n",
       " {'Quote': '“To love at all is to be vulnerable. Love anything and your heart will be wrung and possibly broken. If you want to make sure of keeping it intact you must give it to no one, not even an animal. Wrap it carefully round with hobbies and little luxuries; avoid all entanglements. Lock it up safe in the casket or coffin of your selfishness. But in that casket, safe, dark, motionless, airless, it will change. It will not be broken; it will become unbreakable, impenetrable, irredeemable. To love is to be vulnerable.”',\n",
       "  'Author': 'C.S. Lewis',\n",
       "  'Tags': ['love']},\n",
       " {'Quote': '“Not all those who wander are lost.”',\n",
       "  'Author': 'J.R.R. Tolkien',\n",
       "  'Tags': ['bilbo', 'journey', 'lost', 'quest', 'travel', 'wander']},\n",
       " {'Quote': '“Do not pity the dead, Harry. Pity the living, and, above all those who live without love.”',\n",
       "  'Author': 'J.K. Rowling',\n",
       "  'Tags': ['live-death-love']},\n",
       " {'Quote': '“There is nothing to writing. All you do is sit down at a typewriter and bleed.”',\n",
       "  'Author': 'Ernest Hemingway',\n",
       "  'Tags': ['good', 'writing']},\n",
       " {'Quote': '“Finish each day and be done with it. You have done what you could. Some blunders and absurdities no doubt crept in; forget them as soon as you can. Tomorrow is a new day. You shall begin it serenely and with too high a spirit to be encumbered with your old nonsense.”',\n",
       "  'Author': 'Ralph Waldo Emerson',\n",
       "  'Tags': ['life', 'regrets']},\n",
       " {'Quote': '“I have never let my schooling interfere with my education.”',\n",
       "  'Author': 'Mark Twain',\n",
       "  'Tags': ['education']},\n",
       " {'Quote': \"“I have heard there are troubles of more than one kind. Some come from ahead and some come from behind. But I've bought a big bat. I'm all ready you see. Now my troubles are going to have troubles with me!”\",\n",
       "  'Author': 'Dr. Seuss',\n",
       "  'Tags': ['troubles']},\n",
       " {'Quote': '“If I had a flower for every time I thought of you...I could walk through my garden forever.”',\n",
       "  'Author': 'Alfred Tennyson',\n",
       "  'Tags': ['friendship', 'love']},\n",
       " {'Quote': '“Some people never go crazy. What truly horrible lives they must lead.”',\n",
       "  'Author': 'Charles Bukowski',\n",
       "  'Tags': ['humor']},\n",
       " {'Quote': '“The trouble with having an open mind, of course, is that people will insist on coming along and trying to put things in it.”',\n",
       "  'Author': 'Terry Pratchett',\n",
       "  'Tags': ['humor', 'open-mind', 'thinking']},\n",
       " {'Quote': '“Think left and think right and think low and think high. Oh, the thinks you can think up if only you try!”',\n",
       "  'Author': 'Dr. Seuss',\n",
       "  'Tags': ['humor', 'philosophy']},\n",
       " {'Quote': \"“What really knocks me out is a book that, when you're all done reading it, you wish the author that wrote it was a terrific friend of yours and you could call him up on the phone whenever you felt like it. That doesn't happen much, though.”\",\n",
       "  'Author': 'J.D. Salinger',\n",
       "  'Tags': ['authors', 'books', 'literature', 'reading', 'writing']},\n",
       " {'Quote': '“The reason I talk to myself is because I’m the only one whose answers I accept.”',\n",
       "  'Author': 'George Carlin',\n",
       "  'Tags': ['humor', 'insanity', 'lies', 'lying', 'self-indulgence', 'truth']},\n",
       " {'Quote': \"“You may say I'm a dreamer, but I'm not the only one. I hope someday you'll join us. And the world will live as one.”\",\n",
       "  'Author': 'John Lennon',\n",
       "  'Tags': ['beatles',\n",
       "   'connection',\n",
       "   'dreamers',\n",
       "   'dreaming',\n",
       "   'dreams',\n",
       "   'hope',\n",
       "   'inspirational',\n",
       "   'peace']},\n",
       " {'Quote': '“I am free of all prejudice. I hate everyone equally. ”',\n",
       "  'Author': 'W.C. Fields',\n",
       "  'Tags': ['humor', 'sinister']},\n",
       " {'Quote': \"“The question isn't who is going to let me; it's who is going to stop me.”\",\n",
       "  'Author': 'Ayn Rand',\n",
       "  'Tags': []},\n",
       " {'Quote': \"“′Classic′ - a book which people praise and don't read.”\",\n",
       "  'Author': 'Mark Twain',\n",
       "  'Tags': ['books', 'classic', 'reading']},\n",
       " {'Quote': '“Anyone who has never made a mistake has never tried anything new.”',\n",
       "  'Author': 'Albert Einstein',\n",
       "  'Tags': ['mistakes']},\n",
       " {'Quote': \"“A lady's imagination is very rapid; it jumps from admiration to love, from love to matrimony in a moment.”\",\n",
       "  'Author': 'Jane Austen',\n",
       "  'Tags': ['humor', 'love', 'romantic', 'women']},\n",
       " {'Quote': '“Remember, if the time should come when you have to make a choice between what is right and what is easy, remember what happened to a boy who was good, and kind, and brave, because he strayed across the path of Lord Voldemort. Remember Cedric Diggory.”',\n",
       "  'Author': 'J.K. Rowling',\n",
       "  'Tags': ['integrity']},\n",
       " {'Quote': '“I declare after all there is no enjoyment like reading! How much sooner one tires of any thing than of a book! -- When I have a house of my own, I shall be miserable if I have not an excellent library.”',\n",
       "  'Author': 'Jane Austen',\n",
       "  'Tags': ['books', 'library', 'reading']},\n",
       " {'Quote': '“There are few people whom I really love, and still fewer of whom I think well. The more I see of the world, the more am I dissatisfied with it; and every day confirms my belief of the inconsistency of all human characters, and of the little dependence that can be placed on the appearance of merit or sense.”',\n",
       "  'Author': 'Jane Austen',\n",
       "  'Tags': ['elizabeth-bennet', 'jane-austen']},\n",
       " {'Quote': '“Some day you will be old enough to start reading fairy tales again.”',\n",
       "  'Author': 'C.S. Lewis',\n",
       "  'Tags': ['age', 'fairytales', 'growing-up']},\n",
       " {'Quote': '“We are not necessarily doubting that God will do the best for us; we are wondering how painful the best will turn out to be.”',\n",
       "  'Author': 'C.S. Lewis',\n",
       "  'Tags': ['god']},\n",
       " {'Quote': '“The fear of death follows from the fear of life. A man who lives fully is prepared to die at any time.”',\n",
       "  'Author': 'Mark Twain',\n",
       "  'Tags': ['death', 'life']},\n",
       " {'Quote': '“A lie can travel half way around the world while the truth is putting on its shoes.”',\n",
       "  'Author': 'Mark Twain',\n",
       "  'Tags': ['misattributed-mark-twain', 'truth']},\n",
       " {'Quote': '“I believe in Christianity as I believe that the sun has risen: not only because I see it, but because by it I see everything else.”',\n",
       "  'Author': 'C.S. Lewis',\n",
       "  'Tags': ['christianity', 'faith', 'religion', 'sun']},\n",
       " {'Quote': '“The truth.\" Dumbledore sighed. \"It is a beautiful and terrible thing, and should therefore be treated with great caution.”',\n",
       "  'Author': 'J.K. Rowling',\n",
       "  'Tags': ['truth']},\n",
       " {'Quote': \"“I'm the one that's got to die when it's time for me to die, so let me live my life the way I want to.”\",\n",
       "  'Author': 'Jimi Hendrix',\n",
       "  'Tags': ['death', 'life']},\n",
       " {'Quote': '“To die will be an awfully big adventure.”',\n",
       "  'Author': 'J.M. Barrie',\n",
       "  'Tags': ['adventure', 'love']},\n",
       " {'Quote': '“It takes courage to grow up and become who you really are.”',\n",
       "  'Author': 'E.E. Cummings',\n",
       "  'Tags': ['courage']},\n",
       " {'Quote': '“But better to get hurt by the truth than comforted with a lie.”',\n",
       "  'Author': 'Khaled Hosseini',\n",
       "  'Tags': ['life']},\n",
       " {'Quote': '“You never really understand a person until you consider things from his point of view... Until you climb inside of his skin and walk around in it.”',\n",
       "  'Author': 'Harper Lee',\n",
       "  'Tags': ['better-life-empathy']},\n",
       " {'Quote': '“You have to write the book that wants to be written. And if the book will be too difficult for grown-ups, then you write it for children.”',\n",
       "  'Author': \"Madeleine L'Engle\",\n",
       "  'Tags': ['books',\n",
       "   'children',\n",
       "   'difficult',\n",
       "   'grown-ups',\n",
       "   'write',\n",
       "   'writers',\n",
       "   'writing']},\n",
       " {'Quote': '“Never tell the truth to people who are not worthy of it.”',\n",
       "  'Author': 'Mark Twain',\n",
       "  'Tags': ['truth']},\n",
       " {'Quote': \"“A person's a person, no matter how small.”\",\n",
       "  'Author': 'Dr. Seuss',\n",
       "  'Tags': ['inspirational']},\n",
       " {'Quote': '“... a mind needs books as a sword needs a whetstone, if it is to keep its edge.”',\n",
       "  'Author': 'George R.R. Martin',\n",
       "  'Tags': ['books', 'mind']},\n",
       " {'Quote': '“The world as we have created it is a process of our thinking. It cannot be changed without changing our thinking.”',\n",
       "  'Author': 'Albert Einstein',\n",
       "  'Tags': ['change', 'deep-thoughts', 'thinking', 'world']},\n",
       " {'Quote': '“It is our choices, Harry, that show what we truly are, far more than our abilities.”',\n",
       "  'Author': 'J.K. Rowling',\n",
       "  'Tags': ['abilities', 'choices']},\n",
       " {'Quote': '“There are only two ways to live your life. One is as though nothing is a miracle. The other is as though everything is a miracle.”',\n",
       "  'Author': 'Albert Einstein',\n",
       "  'Tags': ['inspirational', 'life', 'live', 'miracle', 'miracles']},\n",
       " {'Quote': '“The person, be it gentleman or lady, who has not pleasure in a good novel, must be intolerably stupid.”',\n",
       "  'Author': 'Jane Austen',\n",
       "  'Tags': ['aliteracy', 'books', 'classic', 'humor']},\n",
       " {'Quote': \"“Imperfection is beauty, madness is genius and it's better to be absolutely ridiculous than absolutely boring.”\",\n",
       "  'Author': 'Marilyn Monroe',\n",
       "  'Tags': ['be-yourself', 'inspirational']},\n",
       " {'Quote': '“Try not to become a man of success. Rather become a man of value.”',\n",
       "  'Author': 'Albert Einstein',\n",
       "  'Tags': ['adulthood', 'success', 'value']},\n",
       " {'Quote': '“It is better to be hated for what you are than to be loved for what you are not.”',\n",
       "  'Author': 'André Gide',\n",
       "  'Tags': ['life', 'love']},\n",
       " {'Quote': \"“I have not failed. I've just found 10,000 ways that won't work.”\",\n",
       "  'Author': 'Thomas A. Edison',\n",
       "  'Tags': ['edison', 'failure', 'inspirational', 'paraphrased']},\n",
       " {'Quote': \"“A woman is like a tea bag; you never know how strong it is until it's in hot water.”\",\n",
       "  'Author': 'Eleanor Roosevelt',\n",
       "  'Tags': ['misattributed-eleanor-roosevelt']},\n",
       " {'Quote': '“A day without sunshine is like, you know, night.”',\n",
       "  'Author': 'Steve Martin',\n",
       "  'Tags': ['humor', 'obvious', 'simile']},\n",
       " {'Quote': \"“This life is what you make it. No matter what, you're going to mess up sometimes, it's a universal truth. But the good part is you get to decide how you're going to mess it up. Girls will be your friends - they'll act like it anyway. But just remember, some come, some go. The ones that stay with you through everything - they're your true best friends. Don't let go of them. Also remember, sisters make the best friends in the world. As for lovers, well, they'll come and go too. And baby, I hate to say it, most of them - actually pretty much all of them are going to break your heart, but you can't give up because if you give up, you'll never find your soulmate. You'll never find that half who makes you whole and that goes for everything. Just because you fail once, doesn't mean you're gonna fail at everything. Keep trying, hold on, and always, always, always believe in yourself, because if you don't, then who will, sweetie? So keep your head high, keep your chin up, and most importantly, keep smiling, because life's a beautiful thing and there's so much to smile about.”\",\n",
       "  'Author': 'Marilyn Monroe',\n",
       "  'Tags': ['friends',\n",
       "   'heartbreak',\n",
       "   'inspirational',\n",
       "   'life',\n",
       "   'love',\n",
       "   'sisters']},\n",
       " {'Quote': '“It takes a great deal of bravery to stand up to our enemies, but just as much to stand up to our friends.”',\n",
       "  'Author': 'J.K. Rowling',\n",
       "  'Tags': ['courage', 'friends']},\n",
       " {'Quote': \"“If you can't explain it to a six year old, you don't understand it yourself.”\",\n",
       "  'Author': 'Albert Einstein',\n",
       "  'Tags': ['simplicity', 'understand']},\n",
       " {'Quote': \"“You may not be her first, her last, or her only. She loved before she may love again. But if she loves you now, what else matters? She's not perfect—you aren't either, and the two of you may never be perfect together but if she can make you laugh, cause you to think twice, and admit to being human and making mistakes, hold onto her and give her the most you can. She may not be thinking about you every second of the day, but she will give you a part of her that she knows you can break—her heart. So don't hurt her, don't change her, don't analyze and don't expect more than she can give. Smile when she makes you happy, let her know when she makes you mad, and miss her when she's not there.”\",\n",
       "  'Author': 'Bob Marley',\n",
       "  'Tags': ['love']},\n",
       " {'Quote': '“I like nonsense, it wakes up the brain cells. Fantasy is a necessary ingredient in living.”',\n",
       "  'Author': 'Dr. Seuss',\n",
       "  'Tags': ['fantasy']},\n",
       " {'Quote': '“I may not have gone where I intended to go, but I think I have ended up where I needed to be.”',\n",
       "  'Author': 'Douglas Adams',\n",
       "  'Tags': ['life', 'navigation']},\n",
       " {'Quote': \"“The opposite of love is not hate, it's indifference. The opposite of art is not ugliness, it's indifference. The opposite of faith is not heresy, it's indifference. And the opposite of life is not death, it's indifference.”\",\n",
       "  'Author': 'Elie Wiesel',\n",
       "  'Tags': ['activism',\n",
       "   'apathy',\n",
       "   'hate',\n",
       "   'indifference',\n",
       "   'inspirational',\n",
       "   'love',\n",
       "   'opposite',\n",
       "   'philosophy']},\n",
       " {'Quote': '“It is not a lack of love, but a lack of friendship that makes unhappy marriages.”',\n",
       "  'Author': 'Friedrich Nietzsche',\n",
       "  'Tags': ['friendship',\n",
       "   'lack-of-friendship',\n",
       "   'lack-of-love',\n",
       "   'love',\n",
       "   'marriage',\n",
       "   'unhappy-marriage']},\n",
       " {'Quote': '“Good friends, good books, and a sleepy conscience: this is the ideal life.”',\n",
       "  'Author': 'Mark Twain',\n",
       "  'Tags': ['books', 'contentment', 'friends', 'friendship', 'life']},\n",
       " {'Quote': '“Life is what happens to us while we are making other plans.”',\n",
       "  'Author': 'Allen Saunders',\n",
       "  'Tags': ['fate', 'life', 'misattributed-john-lennon', 'planning', 'plans']},\n",
       " {'Quote': '“I love you without knowing how, or when, or from where. I love you simply, without problems or pride: I love you in this way because I do not know any other way of loving but this, in which there is no I or you, so intimate that your hand upon my chest is my hand, so intimate that when I fall asleep your eyes close.”',\n",
       "  'Author': 'Pablo Neruda',\n",
       "  'Tags': ['love', 'poetry']},\n",
       " {'Quote': '“For every minute you are angry you lose sixty seconds of happiness.”',\n",
       "  'Author': 'Ralph Waldo Emerson',\n",
       "  'Tags': ['happiness']},\n",
       " {'Quote': '“If you judge people, you have no time to love them.”',\n",
       "  'Author': 'Mother Teresa',\n",
       "  'Tags': ['attributed-no-source']},\n",
       " {'Quote': '“Anyone who thinks sitting in church can make you a Christian must also think that sitting in a garage can make you a car.”',\n",
       "  'Author': 'Garrison Keillor',\n",
       "  'Tags': ['humor', 'religion']},\n",
       " {'Quote': '“Beauty is in the eye of the beholder and it may be necessary from time to time to give a stupid or misinformed beholder a black eye.”',\n",
       "  'Author': 'Jim Henson',\n",
       "  'Tags': ['humor']},\n",
       " {'Quote': '“Today you are You, that is truer than true. There is no one alive who is Youer than You.”',\n",
       "  'Author': 'Dr. Seuss',\n",
       "  'Tags': ['comedy', 'life', 'yourself']},\n",
       " {'Quote': '“If you want your children to be intelligent, read them fairy tales. If you want them to be more intelligent, read them more fairy tales.”',\n",
       "  'Author': 'Albert Einstein',\n",
       "  'Tags': ['children', 'fairy-tales']},\n",
       " {'Quote': '“It is impossible to live without failing at something, unless you live so cautiously that you might as well not have lived at all - in which case, you fail by default.”',\n",
       "  'Author': 'J.K. Rowling',\n",
       "  'Tags': []},\n",
       " {'Quote': '“Logic will get you from A to Z; imagination will get you everywhere.”',\n",
       "  'Author': 'Albert Einstein',\n",
       "  'Tags': ['imagination']},\n",
       " {'Quote': '“One good thing about music, when it hits you, you feel no pain.”',\n",
       "  'Author': 'Bob Marley',\n",
       "  'Tags': ['music']},\n",
       " {'Quote': \"“The more that you read, the more things you will know. The more that you learn, the more places you'll go.”\",\n",
       "  'Author': 'Dr. Seuss',\n",
       "  'Tags': ['learning', 'reading', 'seuss']},\n",
       " {'Quote': '“Of course it is happening inside your head, Harry, but why on earth should that mean that it is not real?”',\n",
       "  'Author': 'J.K. Rowling',\n",
       "  'Tags': ['dumbledore']},\n",
       " {'Quote': '“The truth is, everyone is going to hurt you. You just got to find the ones worth suffering for.”',\n",
       "  'Author': 'Bob Marley',\n",
       "  'Tags': ['friendship']},\n",
       " {'Quote': '“Not all of us can do great things. But we can do small things with great love.”',\n",
       "  'Author': 'Mother Teresa',\n",
       "  'Tags': ['misattributed-to-mother-teresa', 'paraphrased']},\n",
       " {'Quote': '“To the well-organized mind, death is but the next great adventure.”',\n",
       "  'Author': 'J.K. Rowling',\n",
       "  'Tags': ['death', 'inspirational']},\n",
       " {'Quote': \"“All you need is love. But a little chocolate now and then doesn't hurt.”\",\n",
       "  'Author': 'Charles M. Schulz',\n",
       "  'Tags': ['chocolate', 'food', 'humor']},\n",
       " {'Quote': \"“We read to know we're not alone.”\",\n",
       "  'Author': 'William Nicholson',\n",
       "  'Tags': ['misattributed-to-c-s-lewis', 'reading']},\n",
       " {'Quote': '“Any fool can know. The point is to understand.”',\n",
       "  'Author': 'Albert Einstein',\n",
       "  'Tags': ['knowledge', 'learning', 'understanding', 'wisdom']},\n",
       " {'Quote': '“I have always imagined that Paradise will be a kind of library.”',\n",
       "  'Author': 'Jorge Luis Borges',\n",
       "  'Tags': ['books', 'library']},\n",
       " {'Quote': '“It is never too late to be what you might have been.”',\n",
       "  'Author': 'George Eliot',\n",
       "  'Tags': ['inspirational']},\n",
       " {'Quote': '“A reader lives a thousand lives before he dies, said Jojen. The man who never reads lives only one.”',\n",
       "  'Author': 'George R.R. Martin',\n",
       "  'Tags': ['read', 'readers', 'reading', 'reading-books']},\n",
       " {'Quote': '“You can never get a cup of tea large enough or a book long enough to suit me.”',\n",
       "  'Author': 'C.S. Lewis',\n",
       "  'Tags': ['books', 'inspirational', 'reading', 'tea']},\n",
       " {'Quote': '“You believe lies so you eventually learn to trust no one but yourself.”',\n",
       "  'Author': 'Marilyn Monroe',\n",
       "  'Tags': []},\n",
       " {'Quote': '“If you can make a woman laugh, you can make her do anything.”',\n",
       "  'Author': 'Marilyn Monroe',\n",
       "  'Tags': ['girls', 'love']},\n",
       " {'Quote': '“Life is like riding a bicycle. To keep your balance, you must keep moving.”',\n",
       "  'Author': 'Albert Einstein',\n",
       "  'Tags': ['life', 'simile']},\n",
       " {'Quote': '“The real lover is the man who can thrill you by kissing your forehead or smiling into your eyes or just staring into space.”',\n",
       "  'Author': 'Marilyn Monroe',\n",
       "  'Tags': ['love']},\n",
       " {'Quote': \"“A wise girl kisses but doesn't love, listens but doesn't believe, and leaves before she is left.”\",\n",
       "  'Author': 'Marilyn Monroe',\n",
       "  'Tags': ['attributed-no-source']},\n",
       " {'Quote': '“Only in the darkness can you see the stars.”',\n",
       "  'Author': 'Martin Luther King Jr.',\n",
       "  'Tags': ['hope', 'inspirational']},\n",
       " {'Quote': '“It matters not what someone is born, but what they grow to be.”',\n",
       "  'Author': 'J.K. Rowling',\n",
       "  'Tags': ['dumbledore']},\n",
       " {'Quote': '“Love does not begin and end the way we seem to think it does. Love is a battle, love is a war; love is a growing up.”',\n",
       "  'Author': 'James Baldwin',\n",
       "  'Tags': ['love']},\n",
       " {'Quote': '“There is nothing I would not do for those who are really my friends. I have no notion of loving people by halves, it is not my nature.”',\n",
       "  'Author': 'Jane Austen',\n",
       "  'Tags': ['friendship', 'love']},\n",
       " {'Quote': '“Do one thing every day that scares you.”',\n",
       "  'Author': 'Eleanor Roosevelt',\n",
       "  'Tags': ['attributed', 'fear', 'inspiration']},\n",
       " {'Quote': '“I am good, but not an angel. I do sin, but I am not the devil. I am just a small girl in a big world trying to find someone to love.”',\n",
       "  'Author': 'Marilyn Monroe',\n",
       "  'Tags': ['attributed-no-source']},\n",
       " {'Quote': '“If I were not a physicist, I would probably be a musician. I often think in music. I live my daydreams in music. I see my life in terms of music.”',\n",
       "  'Author': 'Albert Einstein',\n",
       "  'Tags': ['music']},\n",
       " {'Quote': '“If you only read the books that everyone else is reading, you can only think what everyone else is thinking.”',\n",
       "  'Author': 'Haruki Murakami',\n",
       "  'Tags': ['books', 'thought']},\n",
       " {'Quote': '“The difference between genius and stupidity is: genius has its limits.”',\n",
       "  'Author': 'Alexandre Dumas fils',\n",
       "  'Tags': ['misattributed-to-einstein']},\n",
       " {'Quote': \"“He's like a drug for you, Bella.”\",\n",
       "  'Author': 'Stephenie Meyer',\n",
       "  'Tags': ['drug', 'romance', 'simile']},\n",
       " {'Quote': '“There is no friend as loyal as a book.”',\n",
       "  'Author': 'Ernest Hemingway',\n",
       "  'Tags': ['books', 'friends', 'novelist-quotes']},\n",
       " {'Quote': '“When one door of happiness closes, another opens; but often we look so long at the closed door that we do not see the one which has been opened for us.”',\n",
       "  'Author': 'Helen Keller',\n",
       "  'Tags': ['inspirational']},\n",
       " {'Quote': \"“Life isn't about finding yourself. Life is about creating yourself.”\",\n",
       "  'Author': 'George Bernard Shaw',\n",
       "  'Tags': ['inspirational', 'life', 'yourself']},\n",
       " {'Quote': \"“That's the problem with drinking, I thought, as I poured myself a drink. If something bad happens you drink in an attempt to forget; if something good happens you drink in order to celebrate; and if nothing happens you drink to make something happen.”\",\n",
       "  'Author': 'Charles Bukowski',\n",
       "  'Tags': ['alcohol']},\n",
       " {'Quote': '“You don’t forget the face of the person who was your last hope.”',\n",
       "  'Author': 'Suzanne Collins',\n",
       "  'Tags': ['the-hunger-games']},\n",
       " {'Quote': \"“Remember, we're madly in love, so it's all right to kiss me anytime you feel like it.”\",\n",
       "  'Author': 'Suzanne Collins',\n",
       "  'Tags': ['humor']},\n",
       " {'Quote': '“To love at all is to be vulnerable. Love anything and your heart will be wrung and possibly broken. If you want to make sure of keeping it intact you must give it to no one, not even an animal. Wrap it carefully round with hobbies and little luxuries; avoid all entanglements. Lock it up safe in the casket or coffin of your selfishness. But in that casket, safe, dark, motionless, airless, it will change. It will not be broken; it will become unbreakable, impenetrable, irredeemable. To love is to be vulnerable.”',\n",
       "  'Author': 'C.S. Lewis',\n",
       "  'Tags': ['love']},\n",
       " {'Quote': '“Not all those who wander are lost.”',\n",
       "  'Author': 'J.R.R. Tolkien',\n",
       "  'Tags': ['bilbo', 'journey', 'lost', 'quest', 'travel', 'wander']},\n",
       " {'Quote': '“Do not pity the dead, Harry. Pity the living, and, above all those who live without love.”',\n",
       "  'Author': 'J.K. Rowling',\n",
       "  'Tags': ['live-death-love']},\n",
       " {'Quote': '“There is nothing to writing. All you do is sit down at a typewriter and bleed.”',\n",
       "  'Author': 'Ernest Hemingway',\n",
       "  'Tags': ['good', 'writing']},\n",
       " {'Quote': '“Finish each day and be done with it. You have done what you could. Some blunders and absurdities no doubt crept in; forget them as soon as you can. Tomorrow is a new day. You shall begin it serenely and with too high a spirit to be encumbered with your old nonsense.”',\n",
       "  'Author': 'Ralph Waldo Emerson',\n",
       "  'Tags': ['life', 'regrets']},\n",
       " {'Quote': '“I have never let my schooling interfere with my education.”',\n",
       "  'Author': 'Mark Twain',\n",
       "  'Tags': ['education']},\n",
       " {'Quote': \"“I have heard there are troubles of more than one kind. Some come from ahead and some come from behind. But I've bought a big bat. I'm all ready you see. Now my troubles are going to have troubles with me!”\",\n",
       "  'Author': 'Dr. Seuss',\n",
       "  'Tags': ['troubles']},\n",
       " {'Quote': '“If I had a flower for every time I thought of you...I could walk through my garden forever.”',\n",
       "  'Author': 'Alfred Tennyson',\n",
       "  'Tags': ['friendship', 'love']},\n",
       " {'Quote': '“Some people never go crazy. What truly horrible lives they must lead.”',\n",
       "  'Author': 'Charles Bukowski',\n",
       "  'Tags': ['humor']},\n",
       " {'Quote': '“The trouble with having an open mind, of course, is that people will insist on coming along and trying to put things in it.”',\n",
       "  'Author': 'Terry Pratchett',\n",
       "  'Tags': ['humor', 'open-mind', 'thinking']},\n",
       " {'Quote': '“Think left and think right and think low and think high. Oh, the thinks you can think up if only you try!”',\n",
       "  'Author': 'Dr. Seuss',\n",
       "  'Tags': ['humor', 'philosophy']},\n",
       " {'Quote': \"“What really knocks me out is a book that, when you're all done reading it, you wish the author that wrote it was a terrific friend of yours and you could call him up on the phone whenever you felt like it. That doesn't happen much, though.”\",\n",
       "  'Author': 'J.D. Salinger',\n",
       "  'Tags': ['authors', 'books', 'literature', 'reading', 'writing']},\n",
       " {'Quote': '“The reason I talk to myself is because I’m the only one whose answers I accept.”',\n",
       "  'Author': 'George Carlin',\n",
       "  'Tags': ['humor', 'insanity', 'lies', 'lying', 'self-indulgence', 'truth']},\n",
       " {'Quote': \"“You may say I'm a dreamer, but I'm not the only one. I hope someday you'll join us. And the world will live as one.”\",\n",
       "  'Author': 'John Lennon',\n",
       "  'Tags': ['beatles',\n",
       "   'connection',\n",
       "   'dreamers',\n",
       "   'dreaming',\n",
       "   'dreams',\n",
       "   'hope',\n",
       "   'inspirational',\n",
       "   'peace']},\n",
       " {'Quote': '“I am free of all prejudice. I hate everyone equally. ”',\n",
       "  'Author': 'W.C. Fields',\n",
       "  'Tags': ['humor', 'sinister']},\n",
       " {'Quote': \"“The question isn't who is going to let me; it's who is going to stop me.”\",\n",
       "  'Author': 'Ayn Rand',\n",
       "  'Tags': []},\n",
       " {'Quote': \"“′Classic′ - a book which people praise and don't read.”\",\n",
       "  'Author': 'Mark Twain',\n",
       "  'Tags': ['books', 'classic', 'reading']},\n",
       " {'Quote': '“Anyone who has never made a mistake has never tried anything new.”',\n",
       "  'Author': 'Albert Einstein',\n",
       "  'Tags': ['mistakes']},\n",
       " {'Quote': \"“A lady's imagination is very rapid; it jumps from admiration to love, from love to matrimony in a moment.”\",\n",
       "  'Author': 'Jane Austen',\n",
       "  'Tags': ['humor', 'love', 'romantic', 'women']},\n",
       " {'Quote': '“Remember, if the time should come when you have to make a choice between what is right and what is easy, remember what happened to a boy who was good, and kind, and brave, because he strayed across the path of Lord Voldemort. Remember Cedric Diggory.”',\n",
       "  'Author': 'J.K. Rowling',\n",
       "  'Tags': ['integrity']},\n",
       " {'Quote': '“I declare after all there is no enjoyment like reading! How much sooner one tires of any thing than of a book! -- When I have a house of my own, I shall be miserable if I have not an excellent library.”',\n",
       "  'Author': 'Jane Austen',\n",
       "  'Tags': ['books', 'library', 'reading']},\n",
       " {'Quote': '“There are few people whom I really love, and still fewer of whom I think well. The more I see of the world, the more am I dissatisfied with it; and every day confirms my belief of the inconsistency of all human characters, and of the little dependence that can be placed on the appearance of merit or sense.”',\n",
       "  'Author': 'Jane Austen',\n",
       "  'Tags': ['elizabeth-bennet', 'jane-austen']},\n",
       " {'Quote': '“Some day you will be old enough to start reading fairy tales again.”',\n",
       "  'Author': 'C.S. Lewis',\n",
       "  'Tags': ['age', 'fairytales', 'growing-up']},\n",
       " {'Quote': '“We are not necessarily doubting that God will do the best for us; we are wondering how painful the best will turn out to be.”',\n",
       "  'Author': 'C.S. Lewis',\n",
       "  'Tags': ['god']},\n",
       " {'Quote': '“The fear of death follows from the fear of life. A man who lives fully is prepared to die at any time.”',\n",
       "  'Author': 'Mark Twain',\n",
       "  'Tags': ['death', 'life']},\n",
       " {'Quote': '“A lie can travel half way around the world while the truth is putting on its shoes.”',\n",
       "  'Author': 'Mark Twain',\n",
       "  'Tags': ['misattributed-mark-twain', 'truth']},\n",
       " {'Quote': '“I believe in Christianity as I believe that the sun has risen: not only because I see it, but because by it I see everything else.”',\n",
       "  'Author': 'C.S. Lewis',\n",
       "  'Tags': ['christianity', 'faith', 'religion', 'sun']},\n",
       " {'Quote': '“The truth.\" Dumbledore sighed. \"It is a beautiful and terrible thing, and should therefore be treated with great caution.”',\n",
       "  'Author': 'J.K. Rowling',\n",
       "  'Tags': ['truth']},\n",
       " {'Quote': \"“I'm the one that's got to die when it's time for me to die, so let me live my life the way I want to.”\",\n",
       "  'Author': 'Jimi Hendrix',\n",
       "  'Tags': ['death', 'life']},\n",
       " {'Quote': '“To die will be an awfully big adventure.”',\n",
       "  'Author': 'J.M. Barrie',\n",
       "  'Tags': ['adventure', 'love']},\n",
       " {'Quote': '“It takes courage to grow up and become who you really are.”',\n",
       "  'Author': 'E.E. Cummings',\n",
       "  'Tags': ['courage']},\n",
       " {'Quote': '“But better to get hurt by the truth than comforted with a lie.”',\n",
       "  'Author': 'Khaled Hosseini',\n",
       "  'Tags': ['life']},\n",
       " {'Quote': '“You never really understand a person until you consider things from his point of view... Until you climb inside of his skin and walk around in it.”',\n",
       "  'Author': 'Harper Lee',\n",
       "  'Tags': ['better-life-empathy']},\n",
       " {'Quote': '“You have to write the book that wants to be written. And if the book will be too difficult for grown-ups, then you write it for children.”',\n",
       "  'Author': \"Madeleine L'Engle\",\n",
       "  'Tags': ['books',\n",
       "   'children',\n",
       "   'difficult',\n",
       "   'grown-ups',\n",
       "   'write',\n",
       "   'writers',\n",
       "   'writing']},\n",
       " {'Quote': '“Never tell the truth to people who are not worthy of it.”',\n",
       "  'Author': 'Mark Twain',\n",
       "  'Tags': ['truth']},\n",
       " {'Quote': \"“A person's a person, no matter how small.”\",\n",
       "  'Author': 'Dr. Seuss',\n",
       "  'Tags': ['inspirational']},\n",
       " {'Quote': '“... a mind needs books as a sword needs a whetstone, if it is to keep its edge.”',\n",
       "  'Author': 'George R.R. Martin',\n",
       "  'Tags': ['books', 'mind']}]"
      ]
     },
     "execution_count": 50,
     "metadata": {},
     "output_type": "execute_result"
    }
   ],
   "source": [
    "Quotesdict"
   ]
  },
  {
   "cell_type": "code",
   "execution_count": 53,
   "metadata": {},
   "outputs": [],
   "source": [
    "with open('Quotes.json', mode='w') as f:\n",
    "    json.dump(Quotesdict, f)"
   ]
  },
  {
   "cell_type": "code",
   "execution_count": 54,
   "metadata": {},
   "outputs": [
    {
     "name": "stdout",
     "output_type": "stream",
     "text": [
      "“The world as we have created it is a process of our thinking. It cannot be changed without changing our thinking.”\n"
     ]
    }
   ],
   "source": [
    "with open('Quotes.json', mode='r') as f:\n",
    "    print(json.load(f)[0]['Quote'])"
   ]
  }
 ],
 "metadata": {
  "interpreter": {
   "hash": "247ab06e135bb35fa78c5eff31b2a9a0050dcb5fb773c2631d2a29ac689eeccb"
  },
  "kernelspec": {
   "display_name": "Python 3.9.5 64-bit",
   "name": "python3"
  },
  "language_info": {
   "codemirror_mode": {
    "name": "ipython",
    "version": 3
   },
   "file_extension": ".py",
   "mimetype": "text/x-python",
   "name": "python",
   "nbconvert_exporter": "python",
   "pygments_lexer": "ipython3",
   "version": "3.9.5"
  },
  "orig_nbformat": 4
 },
 "nbformat": 4,
 "nbformat_minor": 2
}
