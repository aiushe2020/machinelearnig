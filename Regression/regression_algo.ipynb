{
 "cells": [
  {
   "cell_type": "code",
   "execution_count": null,
   "source": [
    "import numpy as np \r\n",
    "import pandas as pd \r\n",
    "import seaborn as sns\r\n",
    "import matplotlib.pyplot as plt"
   ],
   "outputs": [],
   "metadata": {}
  },
  {
   "cell_type": "code",
   "execution_count": null,
   "source": [
    "data = pd.read_csv('C:\\\\Users\\\\user\\\\Downloads\\\\FuelConsumption.csv')"
   ],
   "outputs": [],
   "metadata": {}
  },
  {
   "cell_type": "code",
   "execution_count": null,
   "source": [
    "data.head(5)"
   ],
   "outputs": [],
   "metadata": {}
  },
  {
   "cell_type": "code",
   "execution_count": null,
   "source": [
    "data1 = data.drop(columns=['MODELYEAR','MAKE','MODEL','VEHICLECLASS','TRANSMISSION','FUELTYPE'])\r\n",
    "data1.head(5)\r\n"
   ],
   "outputs": [],
   "metadata": {}
  },
  {
   "cell_type": "code",
   "execution_count": null,
   "source": [
    "from sklearn.linear_model import LinearRegression"
   ],
   "outputs": [],
   "metadata": {}
  },
  {
   "cell_type": "code",
   "execution_count": null,
   "source": [
    "## K fold Cross Validation\r\n",
    "from sklearn.model_selection import KFold"
   ],
   "outputs": [],
   "metadata": {}
  },
  {
   "cell_type": "code",
   "execution_count": null,
   "source": [
    "data.sort_values(by=['FUELCONSUMPTION_CITY'], inplace= True)"
   ],
   "outputs": [],
   "metadata": {}
  },
  {
   "cell_type": "code",
   "execution_count": null,
   "source": [
    "from sklearn.metrics import mean_squared_error, mean_absolute_percentage_error, r2_score"
   ],
   "outputs": [],
   "metadata": {}
  },
  {
   "cell_type": "code",
   "execution_count": null,
   "source": [
    "X = data1[['FUELCONSUMPTION_CITY','FUELCONSUMPTION_HWY']]\r\n",
    "Y = data1[['CO2EMISSIONS']]"
   ],
   "outputs": [],
   "metadata": {}
  },
  {
   "cell_type": "code",
   "execution_count": null,
   "source": [
    "low = 0\r\n",
    "up = data1.shape[0]\r\n",
    "folds = KFold(n_splits = 2)\r\n",
    "fold = 0\r\n",
    "for train, test in folds.split(range(low,up)):\r\n",
    "    #Training data\r\n",
    "    x = X.iloc[train]\r\n",
    "    y = Y.iloc[train]\r\n",
    "\r\n",
    "    #Testing data\r\n",
    "    xt = X.iloc[test]\r\n",
    "    yt = Y.iloc[test]\r\n",
    "\r\n",
    "    #Model Initialization\r\n",
    "    model = LinearRegression()\r\n",
    "\r\n",
    "    # Model fitting\r\n",
    "    model.fit(x , y)\r\n",
    "     \r\n",
    "    #Model testing\r\n",
    "    yhat = model.predict(xt.values)\r\n",
    "    fold += 1\r\n",
    "    \r\n",
    "    print(f\"Fold{fold}\")\r\n",
    "    print('=============')\r\n",
    "    print(\"MSE\" , mean_squared_error(yhat, yt))\r\n",
    "    print(\"MAE\" ,100- mean_absolute_percentage_error(yhat, yt) * 100)\r\n",
    "    print(\"r2_score\", r2_score(yhat, yt))\r\n",
    "\r\n",
    "\r\n",
    "\r\n"
   ],
   "outputs": [],
   "metadata": {}
  },
  {
   "cell_type": "code",
   "execution_count": null,
   "source": [
    "X = data1[['FUELCONSUMPTION_HWY','FUELCONSUMPTION_COMB']]\r\n",
    "Y = data1[['CO2EMISSIONS']]"
   ],
   "outputs": [],
   "metadata": {}
  },
  {
   "cell_type": "code",
   "execution_count": null,
   "source": [
    "low = 0\r\n",
    "up = data1.shape[0]\r\n",
    "folds = KFold(n_splits= 2)\r\n",
    "fold = 0\r\n",
    "\r\n",
    "for train, test in folds.split(range(low, up)):\r\n",
    "    x = X.iloc[train]\r\n",
    "    y = Y.iloc[train]\r\n",
    "\r\n",
    "    xt = X.iloc[test]\r\n",
    "    yt = Y.iloc[test]\r\n",
    "    \r\n",
    "    model = LinearRegression()\r\n",
    "\r\n",
    "    model.fit(x, y)\r\n",
    "    yhat = model.predict(xt.values)\r\n",
    "    fold += 1\r\n",
    "    print(f\"Fold-{fold}\")\r\n",
    "    print(\"=-=-=-=-=-=-\")\r\n",
    "    print(\"MSE\", mean_squared_error(yhat, yt))\r\n",
    "    print(\"MAE\", 100 - mean_absolute_percentage_error(yhat, yt) *100)\r\n",
    "    print(\"r2_score\", r2_score(yhat,yt))"
   ],
   "outputs": [],
   "metadata": {}
  },
  {
   "cell_type": "code",
   "execution_count": null,
   "source": [
    "X = data1[['FUELCONSUMPTION_COMB_MPG', 'FUELCONSUMPTION_COMB']]\r\n",
    "Y = data1[['CO2EMISSIONS']]"
   ],
   "outputs": [],
   "metadata": {}
  },
  {
   "cell_type": "code",
   "execution_count": null,
   "source": [
    "low = 0\r\n",
    "up = data1.shape[0]\r\n",
    "folds = KFold(n_splits= 2)\r\n",
    "fold = 0\r\n",
    "\r\n",
    "for train , test in folds.split(range(low, up)):\r\n",
    "    x = X.iloc[train]\r\n",
    "    y = Y.iloc[train]\r\n",
    "\r\n",
    "    xt = X.iloc[test]\r\n",
    "    yt = Y.iloc[test]\r\n",
    "\r\n",
    "    model = LinearRegression()\r\n",
    "    model.fit(x, y)\r\n",
    "\r\n",
    "    yhat = model.predict(xt.values)\r\n",
    "    fold += 1\r\n",
    "    print(f\"Fold-{fold}\")\r\n",
    "    print(\"=-=-=-=-\")\r\n",
    "    print(\"mse\", mean_squared_error(yhat, yt))\r\n",
    "    print(\"mae\", 100 - mean_absolute_percentage_error(yhat, yt) * 100)\r\n",
    "    print(\"r2_score\", r2_score(yhat, yt))"
   ],
   "outputs": [],
   "metadata": {}
  },
  {
   "cell_type": "code",
   "execution_count": null,
   "source": [
    "# KNN Algorithm\r\n",
    "from sklearn.neighbors import KNeighborsRegressor\r\n",
    "\r\n",
    "knn_model = KNeighborsRegressor(n_neighbors= 3)\r\n",
    "knn_model.fit(X ,Y)\r\n",
    "\r\n"
   ],
   "outputs": [],
   "metadata": {}
  },
  {
   "cell_type": "code",
   "execution_count": null,
   "source": [
    "## Testing\r\n",
    "yhat = knn_model.predict(xt)\r\n",
    "\r\n",
    "print(\"mse\", mean_squared_error(yhat, yt))\r\n",
    "print(\"mae\", 100 - mean_absolute_percentage_error(yhat, yt) * 100)\r\n",
    "print(\"r2_score\", r2_score(yhat, yt))"
   ],
   "outputs": [],
   "metadata": {}
  },
  {
   "cell_type": "code",
   "execution_count": null,
   "source": [
    "from sklearn.neighbors import KNeighborsRegressor\r\n",
    "ks = [3,5,9,7,11,13]\r\n",
    "\r\n",
    "for k in ks:\r\n",
    "    knn_model = KNeighborsRegressor(n_neighbors= k)\r\n",
    "    knn_model.fit(X , Y)\r\n",
    "    yhat = knn_model.predict(xt)\r\n",
    "    print(f'========== K={k}=========')\r\n",
    "    print('MSE', mean_squared_error(yhat, yt))\r\n",
    "    print('MAE', 100 - mean_absolute_percentage_error(yhat, yt) * 100)\r\n",
    "    print('R2_Score', r2_score)"
   ],
   "outputs": [],
   "metadata": {}
  },
  {
   "cell_type": "code",
   "execution_count": null,
   "source": [
    "data.info()"
   ],
   "outputs": [],
   "metadata": {}
  },
  {
   "cell_type": "code",
   "execution_count": null,
   "source": [
    "## Converting to feature\r\n",
    "data[['VEHICLECLASS']].value_counts()\r\n",
    "data[['VEHICLECLASS']] = data[['VEHICLECLASS']].replace({'MID-SIZE':1,'COMPACT':2,'SUV - SMALL':3,'SUV - STANDARD':4,'FULL-SIZE':5,'TWO-SEATER':6,\r\n",
    " 'SUBCOMPACT':7,'PICKUP TRUCK - STANDARD':8,'MINICOMPACT':9,'STATION WAGON - SMALL':10,'VAN - PASSENGER':11,'VAN - CARGO':12,'MINIVAN':13,\r\n",
    "  'PICKUP TRUCK - SMALL':14, 'SPECIAL PURPOSE VEHICLE':15, 'STATION WAGON - MID-SIZE':16})\r\n",
    "data[['VEHICLECLASS']]"
   ],
   "outputs": [],
   "metadata": {}
  },
  {
   "cell_type": "code",
   "execution_count": null,
   "source": [
    "data.corr()\r\n",
    "#sns.pairplot(data)"
   ],
   "outputs": [],
   "metadata": {}
  },
  {
   "cell_type": "code",
   "execution_count": null,
   "source": [
    "from sklearn import tree\r\n",
    "dt_model = tree.DecisionTreeRegressor?"
   ],
   "outputs": [],
   "metadata": {}
  },
  {
   "cell_type": "code",
   "execution_count": 1,
   "source": [
    "from sklearn import tree\r\n",
    "dt_model = tree.DecisionTreeRegressor(criterion= 'mse',max_features='log2',max_depth=3, max_leaf_nodes=int(np.sqrt(np.array([860]))))\r\n",
    "dt_model.fit(X, Y)\r\n",
    "yhat = dt_model.predict(xt)\r\n",
    "print(\"MAE: \" ,100 - mean_absolute_percentage_error(yhat, yt)*100)\r\n",
    "print(\"MSE: \" ,mean_squared_error(yhat, yt))\r\n",
    "print(\"R2 Score : \", r2_score(yhat, yt))"
   ],
   "outputs": [
    {
     "output_type": "error",
     "ename": "NameError",
     "evalue": "name 'np' is not defined",
     "traceback": [
      "\u001b[1;31m---------------------------------------------------------------------------\u001b[0m",
      "\u001b[1;31mNameError\u001b[0m                                 Traceback (most recent call last)",
      "\u001b[1;32m~\\AppData\\Local\\Temp/ipykernel_5284/2579351109.py\u001b[0m in \u001b[0;36m<module>\u001b[1;34m\u001b[0m\n\u001b[0;32m      1\u001b[0m \u001b[1;32mfrom\u001b[0m \u001b[0msklearn\u001b[0m \u001b[1;32mimport\u001b[0m \u001b[0mtree\u001b[0m\u001b[1;33m\u001b[0m\u001b[1;33m\u001b[0m\u001b[0m\n\u001b[1;32m----> 2\u001b[1;33m \u001b[0mdt_model\u001b[0m \u001b[1;33m=\u001b[0m \u001b[0mtree\u001b[0m\u001b[1;33m.\u001b[0m\u001b[0mDecisionTreeRegressor\u001b[0m\u001b[1;33m(\u001b[0m\u001b[0mcriterion\u001b[0m\u001b[1;33m=\u001b[0m \u001b[1;34m'mse'\u001b[0m\u001b[1;33m,\u001b[0m\u001b[0mmax_features\u001b[0m\u001b[1;33m=\u001b[0m\u001b[1;34m'log2'\u001b[0m\u001b[1;33m,\u001b[0m\u001b[0mmax_depth\u001b[0m\u001b[1;33m=\u001b[0m\u001b[1;36m3\u001b[0m\u001b[1;33m,\u001b[0m \u001b[0mmax_leaf_nodes\u001b[0m\u001b[1;33m=\u001b[0m\u001b[0mint\u001b[0m\u001b[1;33m(\u001b[0m\u001b[0mnp\u001b[0m\u001b[1;33m.\u001b[0m\u001b[0msqrt\u001b[0m\u001b[1;33m(\u001b[0m\u001b[0mnp\u001b[0m\u001b[1;33m.\u001b[0m\u001b[0marray\u001b[0m\u001b[1;33m(\u001b[0m\u001b[1;33m[\u001b[0m\u001b[1;36m860\u001b[0m\u001b[1;33m]\u001b[0m\u001b[1;33m)\u001b[0m\u001b[1;33m)\u001b[0m\u001b[1;33m)\u001b[0m\u001b[1;33m)\u001b[0m\u001b[1;33m\u001b[0m\u001b[1;33m\u001b[0m\u001b[0m\n\u001b[0m\u001b[0;32m      3\u001b[0m \u001b[0mdt_model\u001b[0m\u001b[1;33m.\u001b[0m\u001b[0mfit\u001b[0m\u001b[1;33m(\u001b[0m\u001b[0mX\u001b[0m\u001b[1;33m,\u001b[0m \u001b[0mY\u001b[0m\u001b[1;33m)\u001b[0m\u001b[1;33m\u001b[0m\u001b[1;33m\u001b[0m\u001b[0m\n\u001b[0;32m      4\u001b[0m \u001b[0myhat\u001b[0m \u001b[1;33m=\u001b[0m \u001b[0mdt_model\u001b[0m\u001b[1;33m.\u001b[0m\u001b[0mpredict\u001b[0m\u001b[1;33m(\u001b[0m\u001b[0mxt\u001b[0m\u001b[1;33m)\u001b[0m\u001b[1;33m\u001b[0m\u001b[1;33m\u001b[0m\u001b[0m\n\u001b[0;32m      5\u001b[0m \u001b[0mprint\u001b[0m\u001b[1;33m(\u001b[0m\u001b[1;34m\"MAE: \"\u001b[0m \u001b[1;33m,\u001b[0m\u001b[1;36m100\u001b[0m \u001b[1;33m-\u001b[0m \u001b[0mmean_absolute_percentage_error\u001b[0m\u001b[1;33m(\u001b[0m\u001b[0myhat\u001b[0m\u001b[1;33m,\u001b[0m \u001b[0myt\u001b[0m\u001b[1;33m)\u001b[0m\u001b[1;33m*\u001b[0m\u001b[1;36m100\u001b[0m\u001b[1;33m)\u001b[0m\u001b[1;33m\u001b[0m\u001b[1;33m\u001b[0m\u001b[0m\n",
      "\u001b[1;31mNameError\u001b[0m: name 'np' is not defined"
     ]
    }
   ],
   "metadata": {}
  },
  {
   "cell_type": "code",
   "execution_count": 1,
   "source": [
    "from sklearn import tree\r\n",
    "dt_model = tree.DecisionTreeRegressor(criterion= 'poisson',max_features='sqrt',max_depth=2,splitter='best', max_leaf_nodes=int(np.sqrt(np.array([860]))))\r\n",
    "dt_model.fit(X, Y)\r\n",
    "yhat = dt_model.predict(xt)\r\n",
    "print(\"MAE: \" ,100 - mean_absolute_percentage_error(yhat, yt)*100)\r\n",
    "print(\"MSE: \" ,mean_squared_error(yhat, yt))\r\n",
    "print(\"R2 Score : \", r2_score(yhat, yt))"
   ],
   "outputs": [
    {
     "output_type": "error",
     "ename": "NameError",
     "evalue": "name 'np' is not defined",
     "traceback": [
      "\u001b[1;31m---------------------------------------------------------------------------\u001b[0m",
      "\u001b[1;31mNameError\u001b[0m                                 Traceback (most recent call last)",
      "\u001b[1;32m~\\AppData\\Local\\Temp/ipykernel_5260/1280334494.py\u001b[0m in \u001b[0;36m<module>\u001b[1;34m\u001b[0m\n\u001b[0;32m      1\u001b[0m \u001b[1;32mfrom\u001b[0m \u001b[0msklearn\u001b[0m \u001b[1;32mimport\u001b[0m \u001b[0mtree\u001b[0m\u001b[1;33m\u001b[0m\u001b[1;33m\u001b[0m\u001b[0m\n\u001b[1;32m----> 2\u001b[1;33m \u001b[0mdt_model\u001b[0m \u001b[1;33m=\u001b[0m \u001b[0mtree\u001b[0m\u001b[1;33m.\u001b[0m\u001b[0mDecisionTreeRegressor\u001b[0m\u001b[1;33m(\u001b[0m\u001b[0mcriterion\u001b[0m\u001b[1;33m=\u001b[0m \u001b[1;34m'poisson'\u001b[0m\u001b[1;33m,\u001b[0m\u001b[0mmax_features\u001b[0m\u001b[1;33m=\u001b[0m\u001b[1;34m'sqrt'\u001b[0m\u001b[1;33m,\u001b[0m\u001b[0mmax_depth\u001b[0m\u001b[1;33m=\u001b[0m\u001b[1;36m2\u001b[0m\u001b[1;33m,\u001b[0m\u001b[0msplitter\u001b[0m\u001b[1;33m=\u001b[0m\u001b[1;34m'best'\u001b[0m\u001b[1;33m,\u001b[0m \u001b[0mmax_leaf_nodes\u001b[0m\u001b[1;33m=\u001b[0m\u001b[0mint\u001b[0m\u001b[1;33m(\u001b[0m\u001b[0mnp\u001b[0m\u001b[1;33m.\u001b[0m\u001b[0msqrt\u001b[0m\u001b[1;33m(\u001b[0m\u001b[0mnp\u001b[0m\u001b[1;33m.\u001b[0m\u001b[0marray\u001b[0m\u001b[1;33m(\u001b[0m\u001b[1;33m[\u001b[0m\u001b[1;36m860\u001b[0m\u001b[1;33m]\u001b[0m\u001b[1;33m)\u001b[0m\u001b[1;33m)\u001b[0m\u001b[1;33m)\u001b[0m\u001b[1;33m)\u001b[0m\u001b[1;33m\u001b[0m\u001b[1;33m\u001b[0m\u001b[0m\n\u001b[0m\u001b[0;32m      3\u001b[0m \u001b[0mdt_model\u001b[0m\u001b[1;33m.\u001b[0m\u001b[0mfit\u001b[0m\u001b[1;33m(\u001b[0m\u001b[0mX\u001b[0m\u001b[1;33m,\u001b[0m \u001b[0mY\u001b[0m\u001b[1;33m)\u001b[0m\u001b[1;33m\u001b[0m\u001b[1;33m\u001b[0m\u001b[0m\n\u001b[0;32m      4\u001b[0m \u001b[0myhat\u001b[0m \u001b[1;33m=\u001b[0m \u001b[0mdt_model\u001b[0m\u001b[1;33m.\u001b[0m\u001b[0mpredict\u001b[0m\u001b[1;33m(\u001b[0m\u001b[0mxt\u001b[0m\u001b[1;33m)\u001b[0m\u001b[1;33m\u001b[0m\u001b[1;33m\u001b[0m\u001b[0m\n\u001b[0;32m      5\u001b[0m \u001b[0mprint\u001b[0m\u001b[1;33m(\u001b[0m\u001b[1;34m\"MAE: \"\u001b[0m \u001b[1;33m,\u001b[0m\u001b[1;36m100\u001b[0m \u001b[1;33m-\u001b[0m \u001b[0mmean_absolute_percentage_error\u001b[0m\u001b[1;33m(\u001b[0m\u001b[0myhat\u001b[0m\u001b[1;33m,\u001b[0m \u001b[0myt\u001b[0m\u001b[1;33m)\u001b[0m\u001b[1;33m*\u001b[0m\u001b[1;36m100\u001b[0m\u001b[1;33m)\u001b[0m\u001b[1;33m\u001b[0m\u001b[1;33m\u001b[0m\u001b[0m\n",
      "\u001b[1;31mNameError\u001b[0m: name 'np' is not defined"
     ]
    }
   ],
   "metadata": {}
  },
  {
   "cell_type": "code",
   "execution_count": 31,
   "source": [
    "data.info()"
   ],
   "outputs": [
    {
     "output_type": "stream",
     "name": "stdout",
     "text": [
      "<class 'pandas.core.frame.DataFrame'>\n",
      "Int64Index: 1067 entries, 988 to 452\n",
      "Data columns (total 13 columns):\n",
      " #   Column                    Non-Null Count  Dtype  \n",
      "---  ------                    --------------  -----  \n",
      " 0   MODELYEAR                 1067 non-null   int64  \n",
      " 1   MAKE                      1067 non-null   object \n",
      " 2   MODEL                     1067 non-null   object \n",
      " 3   VEHICLECLASS              1067 non-null   int64  \n",
      " 4   ENGINESIZE                1067 non-null   float64\n",
      " 5   CYLINDERS                 1067 non-null   int64  \n",
      " 6   TRANSMISSION              1067 non-null   object \n",
      " 7   FUELTYPE                  1067 non-null   object \n",
      " 8   FUELCONSUMPTION_CITY      1067 non-null   float64\n",
      " 9   FUELCONSUMPTION_HWY       1067 non-null   float64\n",
      " 10  FUELCONSUMPTION_COMB      1067 non-null   float64\n",
      " 11  FUELCONSUMPTION_COMB_MPG  1067 non-null   int64  \n",
      " 12  CO2EMISSIONS              1067 non-null   int64  \n",
      "dtypes: float64(4), int64(5), object(4)\n",
      "memory usage: 116.7+ KB\n"
     ]
    }
   ],
   "metadata": {}
  },
  {
   "cell_type": "code",
   "execution_count": null,
   "source": [
    "# Random Forests\r\n",
    "from sklearn import tree\r\n",
    "from sklearn.ensemble import RandomForestRegressor\r\n",
    "\r\n",
    "# Data\r\n",
    "xtrain = data1[['ENGINESIZE','FUELCONSUMPTION_HWY','FUELCONSUMPTION_COMB']]\r\n",
    "ytrain = data1[['CO2EMISSIONS']].values.ravel()\r\n",
    "xtest = data1[['ENGINESIZE','FUELCONSUMPTION_HWY','FUELCONSUMPTION_COMB']]\r\n",
    "ytest = data1[['CO2EMISSIONS']].values.ravel()"
   ],
   "outputs": [],
   "metadata": {}
  },
  {
   "cell_type": "code",
   "execution_count": 47,
   "source": [
    "# Model initialization\r\n",
    "rf_model = RandomForestRegressor(random_state= 0, n_estimators= 100)\r\n",
    "\r\n",
    "# Model fiting(training)\r\n",
    "rf_model.fit(xtrain, ytrain)\r\n",
    "\r\n",
    "# Prediction(testing)\r\n",
    "yhat = rf_model.predict(xtest)\r\n",
    "\r\n",
    "# Evaluation\r\n",
    "print('MSE', mean_squared_error(yhat, ytest))\r\n",
    "print('R2', r2_score (yhat, ytest))\r\n",
    "print('MAE', 100 - mean_absolute_percentage_error(yhat, ytest)*100)\r\n",
    "\r\n",
    "# Accuracy\r\n",
    "print('Number of trees')\r\n",
    "print(rf_model.n_estimators)\r\n",
    "print('Training accuracy')\r\n",
    "print(rf_model.score(xtrain, ytrain))\r\n",
    "print('testing accuracy')\r\n",
    "print(rf_model.score(xtest, ytest))"
   ],
   "outputs": [
    {
     "output_type": "stream",
     "name": "stdout",
     "text": [
      "MSE 19.84763122011351\n",
      "R2 0.9949349729327375\n",
      "MAE 99.46163666153895\n",
      "Number of trees\n",
      "100\n",
      "Training accuracy\n",
      "0.9950532849181885\n",
      "testing accuracy\n",
      "0.9950532849181885\n"
     ]
    }
   ],
   "metadata": {}
  }
 ],
 "metadata": {
  "orig_nbformat": 4,
  "language_info": {
   "name": "python",
   "version": "3.9.5",
   "mimetype": "text/x-python",
   "codemirror_mode": {
    "name": "ipython",
    "version": 3
   },
   "pygments_lexer": "ipython3",
   "nbconvert_exporter": "python",
   "file_extension": ".py"
  },
  "kernelspec": {
   "name": "python3",
   "display_name": "Python 3.9.5 64-bit"
  },
  "interpreter": {
   "hash": "247ab06e135bb35fa78c5eff31b2a9a0050dcb5fb773c2631d2a29ac689eeccb"
  }
 },
 "nbformat": 4,
 "nbformat_minor": 2
}