{
 "cells": [
  {
   "cell_type": "code",
   "execution_count": 1,
   "metadata": {},
   "outputs": [],
   "source": [
    "import numpy as np\n",
    "import pandas as pd\n",
    "import matplotlib.pyplot as plt\n",
    "import seaborn as sns\n",
    "%matplotlib inline"
   ]
  },
  {
   "cell_type": "code",
   "execution_count": 2,
   "metadata": {},
   "outputs": [],
   "source": [
    "data = pd.read_table('C:\\\\Users\\\\user\\\\Downloads\\\\agaricus-lepiota.data', sep=',' , header= None)"
   ]
  },
  {
   "cell_type": "code",
   "execution_count": 3,
   "metadata": {},
   "outputs": [
    {
     "name": "stdout",
     "output_type": "stream",
     "text": [
      "<class 'pandas.core.frame.DataFrame'>\n",
      "RangeIndex: 8124 entries, 0 to 8123\n",
      "Data columns (total 23 columns):\n",
      " #   Column  Non-Null Count  Dtype \n",
      "---  ------  --------------  ----- \n",
      " 0   0       8124 non-null   object\n",
      " 1   1       8124 non-null   object\n",
      " 2   2       8124 non-null   object\n",
      " 3   3       8124 non-null   object\n",
      " 4   4       8124 non-null   object\n",
      " 5   5       8124 non-null   object\n",
      " 6   6       8124 non-null   object\n",
      " 7   7       8124 non-null   object\n",
      " 8   8       8124 non-null   object\n",
      " 9   9       8124 non-null   object\n",
      " 10  10      8124 non-null   object\n",
      " 11  11      8124 non-null   object\n",
      " 12  12      8124 non-null   object\n",
      " 13  13      8124 non-null   object\n",
      " 14  14      8124 non-null   object\n",
      " 15  15      8124 non-null   object\n",
      " 16  16      8124 non-null   object\n",
      " 17  17      8124 non-null   object\n",
      " 18  18      8124 non-null   object\n",
      " 19  19      8124 non-null   object\n",
      " 20  20      8124 non-null   object\n",
      " 21  21      8124 non-null   object\n",
      " 22  22      8124 non-null   object\n",
      "dtypes: object(23)\n",
      "memory usage: 1.4+ MB\n"
     ]
    }
   ],
   "source": [
    "data.info()"
   ]
  },
  {
   "cell_type": "code",
   "execution_count": 4,
   "metadata": {},
   "outputs": [
    {
     "data": {
      "text/html": [
       "<div>\n",
       "<style scoped>\n",
       "    .dataframe tbody tr th:only-of-type {\n",
       "        vertical-align: middle;\n",
       "    }\n",
       "\n",
       "    .dataframe tbody tr th {\n",
       "        vertical-align: top;\n",
       "    }\n",
       "\n",
       "    .dataframe thead th {\n",
       "        text-align: right;\n",
       "    }\n",
       "</style>\n",
       "<table border=\"1\" class=\"dataframe\">\n",
       "  <thead>\n",
       "    <tr style=\"text-align: right;\">\n",
       "      <th></th>\n",
       "      <th>0</th>\n",
       "      <th>1</th>\n",
       "      <th>2</th>\n",
       "      <th>3</th>\n",
       "      <th>4</th>\n",
       "      <th>5</th>\n",
       "      <th>6</th>\n",
       "      <th>7</th>\n",
       "      <th>8</th>\n",
       "      <th>9</th>\n",
       "      <th>...</th>\n",
       "      <th>13</th>\n",
       "      <th>14</th>\n",
       "      <th>15</th>\n",
       "      <th>16</th>\n",
       "      <th>17</th>\n",
       "      <th>18</th>\n",
       "      <th>19</th>\n",
       "      <th>20</th>\n",
       "      <th>21</th>\n",
       "      <th>22</th>\n",
       "    </tr>\n",
       "  </thead>\n",
       "  <tbody>\n",
       "    <tr>\n",
       "      <th>count</th>\n",
       "      <td>8124</td>\n",
       "      <td>8124</td>\n",
       "      <td>8124</td>\n",
       "      <td>8124</td>\n",
       "      <td>8124</td>\n",
       "      <td>8124</td>\n",
       "      <td>8124</td>\n",
       "      <td>8124</td>\n",
       "      <td>8124</td>\n",
       "      <td>8124</td>\n",
       "      <td>...</td>\n",
       "      <td>8124</td>\n",
       "      <td>8124</td>\n",
       "      <td>8124</td>\n",
       "      <td>8124</td>\n",
       "      <td>8124</td>\n",
       "      <td>8124</td>\n",
       "      <td>8124</td>\n",
       "      <td>8124</td>\n",
       "      <td>8124</td>\n",
       "      <td>8124</td>\n",
       "    </tr>\n",
       "    <tr>\n",
       "      <th>unique</th>\n",
       "      <td>2</td>\n",
       "      <td>6</td>\n",
       "      <td>4</td>\n",
       "      <td>10</td>\n",
       "      <td>2</td>\n",
       "      <td>9</td>\n",
       "      <td>2</td>\n",
       "      <td>2</td>\n",
       "      <td>2</td>\n",
       "      <td>12</td>\n",
       "      <td>...</td>\n",
       "      <td>4</td>\n",
       "      <td>9</td>\n",
       "      <td>9</td>\n",
       "      <td>1</td>\n",
       "      <td>4</td>\n",
       "      <td>3</td>\n",
       "      <td>5</td>\n",
       "      <td>9</td>\n",
       "      <td>6</td>\n",
       "      <td>7</td>\n",
       "    </tr>\n",
       "    <tr>\n",
       "      <th>top</th>\n",
       "      <td>e</td>\n",
       "      <td>x</td>\n",
       "      <td>y</td>\n",
       "      <td>n</td>\n",
       "      <td>f</td>\n",
       "      <td>n</td>\n",
       "      <td>f</td>\n",
       "      <td>c</td>\n",
       "      <td>b</td>\n",
       "      <td>b</td>\n",
       "      <td>...</td>\n",
       "      <td>s</td>\n",
       "      <td>w</td>\n",
       "      <td>w</td>\n",
       "      <td>p</td>\n",
       "      <td>w</td>\n",
       "      <td>o</td>\n",
       "      <td>p</td>\n",
       "      <td>w</td>\n",
       "      <td>v</td>\n",
       "      <td>d</td>\n",
       "    </tr>\n",
       "    <tr>\n",
       "      <th>freq</th>\n",
       "      <td>4208</td>\n",
       "      <td>3656</td>\n",
       "      <td>3244</td>\n",
       "      <td>2284</td>\n",
       "      <td>4748</td>\n",
       "      <td>3528</td>\n",
       "      <td>7914</td>\n",
       "      <td>6812</td>\n",
       "      <td>5612</td>\n",
       "      <td>1728</td>\n",
       "      <td>...</td>\n",
       "      <td>4936</td>\n",
       "      <td>4464</td>\n",
       "      <td>4384</td>\n",
       "      <td>8124</td>\n",
       "      <td>7924</td>\n",
       "      <td>7488</td>\n",
       "      <td>3968</td>\n",
       "      <td>2388</td>\n",
       "      <td>4040</td>\n",
       "      <td>3148</td>\n",
       "    </tr>\n",
       "  </tbody>\n",
       "</table>\n",
       "<p>4 rows × 23 columns</p>\n",
       "</div>"
      ],
      "text/plain": [
       "          0     1     2     3     4     5     6     7     8     9   ...    13  \\\n",
       "count   8124  8124  8124  8124  8124  8124  8124  8124  8124  8124  ...  8124   \n",
       "unique     2     6     4    10     2     9     2     2     2    12  ...     4   \n",
       "top        e     x     y     n     f     n     f     c     b     b  ...     s   \n",
       "freq    4208  3656  3244  2284  4748  3528  7914  6812  5612  1728  ...  4936   \n",
       "\n",
       "          14    15    16    17    18    19    20    21    22  \n",
       "count   8124  8124  8124  8124  8124  8124  8124  8124  8124  \n",
       "unique     9     9     1     4     3     5     9     6     7  \n",
       "top        w     w     p     w     o     p     w     v     d  \n",
       "freq    4464  4384  8124  7924  7488  3968  2388  4040  3148  \n",
       "\n",
       "[4 rows x 23 columns]"
      ]
     },
     "execution_count": 4,
     "metadata": {},
     "output_type": "execute_result"
    }
   ],
   "source": [
    "data.describe()"
   ]
  },
  {
   "cell_type": "code",
   "execution_count": 14,
   "metadata": {},
   "outputs": [],
   "source": [
    "columns ='type:cap-shape:cap-surface:cap-color:bruises?:odor:gill-attachment:gill-spacing:gill-size:gill-color:stalk-shape:stalk-root:stalk-surface-above-ring:stalk-surface-below-ring:stalk-color-above-ring:stalk-color-below-ring:veil-type:veil-color:ring-number:ring-type:spore-print-color:population:habitat'\n",
    "columns = columns.split(':')"
   ]
  },
  {
   "cell_type": "code",
   "execution_count": 6,
   "metadata": {},
   "outputs": [
    {
     "data": {
      "text/plain": [
       "23"
      ]
     },
     "execution_count": 6,
     "metadata": {},
     "output_type": "execute_result"
    }
   ],
   "source": [
    "len(columns)"
   ]
  },
  {
   "cell_type": "code",
   "execution_count": 15,
   "metadata": {},
   "outputs": [
    {
     "data": {
      "text/plain": [
       "Index(['type', 'cap-shape', 'cap-surface', 'cap-color', 'bruises?', 'odor',\n",
       "       'gill-attachment', 'gill-spacing', 'gill-size', 'gill-color',\n",
       "       'stalk-shape', 'stalk-surface-above-ring', 'stalk-surface-below-ring',\n",
       "       'stalk-color-above-ring', 'stalk-color-below-ring', 'veil-type',\n",
       "       'veil-color', 'ring-number', 'ring-type', 'spore-print-color',\n",
       "       'population', 'habitat'],\n",
       "      dtype='object')"
      ]
     },
     "execution_count": 15,
     "metadata": {},
     "output_type": "execute_result"
    }
   ],
   "source": [
    "data.columns"
   ]
  },
  {
   "cell_type": "code",
   "execution_count": 8,
   "metadata": {},
   "outputs": [
    {
     "data": {
      "text/html": [
       "<div>\n",
       "<style scoped>\n",
       "    .dataframe tbody tr th:only-of-type {\n",
       "        vertical-align: middle;\n",
       "    }\n",
       "\n",
       "    .dataframe tbody tr th {\n",
       "        vertical-align: top;\n",
       "    }\n",
       "\n",
       "    .dataframe thead th {\n",
       "        text-align: right;\n",
       "    }\n",
       "</style>\n",
       "<table border=\"1\" class=\"dataframe\">\n",
       "  <thead>\n",
       "    <tr style=\"text-align: right;\">\n",
       "      <th></th>\n",
       "      <th>type</th>\n",
       "      <th>cap-shape</th>\n",
       "      <th>cap-surface</th>\n",
       "      <th>cap-color</th>\n",
       "      <th>bruises?</th>\n",
       "      <th>odor</th>\n",
       "      <th>gill-attachment</th>\n",
       "      <th>gill-spacing</th>\n",
       "      <th>gill-size</th>\n",
       "      <th>gill-color</th>\n",
       "      <th>...</th>\n",
       "      <th>stalk-surface-below-ring</th>\n",
       "      <th>stalk-color-above-ring</th>\n",
       "      <th>stalk-color-below-ring</th>\n",
       "      <th>veil-type</th>\n",
       "      <th>veil-color</th>\n",
       "      <th>ring-number</th>\n",
       "      <th>ring-type</th>\n",
       "      <th>spore-print-color</th>\n",
       "      <th>population</th>\n",
       "      <th>habitat</th>\n",
       "    </tr>\n",
       "  </thead>\n",
       "  <tbody>\n",
       "    <tr>\n",
       "      <th>0</th>\n",
       "      <td>p</td>\n",
       "      <td>x</td>\n",
       "      <td>s</td>\n",
       "      <td>n</td>\n",
       "      <td>t</td>\n",
       "      <td>p</td>\n",
       "      <td>f</td>\n",
       "      <td>c</td>\n",
       "      <td>n</td>\n",
       "      <td>k</td>\n",
       "      <td>...</td>\n",
       "      <td>s</td>\n",
       "      <td>w</td>\n",
       "      <td>w</td>\n",
       "      <td>p</td>\n",
       "      <td>w</td>\n",
       "      <td>o</td>\n",
       "      <td>p</td>\n",
       "      <td>k</td>\n",
       "      <td>s</td>\n",
       "      <td>u</td>\n",
       "    </tr>\n",
       "    <tr>\n",
       "      <th>1</th>\n",
       "      <td>e</td>\n",
       "      <td>x</td>\n",
       "      <td>s</td>\n",
       "      <td>y</td>\n",
       "      <td>t</td>\n",
       "      <td>a</td>\n",
       "      <td>f</td>\n",
       "      <td>c</td>\n",
       "      <td>b</td>\n",
       "      <td>k</td>\n",
       "      <td>...</td>\n",
       "      <td>s</td>\n",
       "      <td>w</td>\n",
       "      <td>w</td>\n",
       "      <td>p</td>\n",
       "      <td>w</td>\n",
       "      <td>o</td>\n",
       "      <td>p</td>\n",
       "      <td>n</td>\n",
       "      <td>n</td>\n",
       "      <td>g</td>\n",
       "    </tr>\n",
       "    <tr>\n",
       "      <th>2</th>\n",
       "      <td>e</td>\n",
       "      <td>b</td>\n",
       "      <td>s</td>\n",
       "      <td>w</td>\n",
       "      <td>t</td>\n",
       "      <td>l</td>\n",
       "      <td>f</td>\n",
       "      <td>c</td>\n",
       "      <td>b</td>\n",
       "      <td>n</td>\n",
       "      <td>...</td>\n",
       "      <td>s</td>\n",
       "      <td>w</td>\n",
       "      <td>w</td>\n",
       "      <td>p</td>\n",
       "      <td>w</td>\n",
       "      <td>o</td>\n",
       "      <td>p</td>\n",
       "      <td>n</td>\n",
       "      <td>n</td>\n",
       "      <td>m</td>\n",
       "    </tr>\n",
       "    <tr>\n",
       "      <th>3</th>\n",
       "      <td>p</td>\n",
       "      <td>x</td>\n",
       "      <td>y</td>\n",
       "      <td>w</td>\n",
       "      <td>t</td>\n",
       "      <td>p</td>\n",
       "      <td>f</td>\n",
       "      <td>c</td>\n",
       "      <td>n</td>\n",
       "      <td>n</td>\n",
       "      <td>...</td>\n",
       "      <td>s</td>\n",
       "      <td>w</td>\n",
       "      <td>w</td>\n",
       "      <td>p</td>\n",
       "      <td>w</td>\n",
       "      <td>o</td>\n",
       "      <td>p</td>\n",
       "      <td>k</td>\n",
       "      <td>s</td>\n",
       "      <td>u</td>\n",
       "    </tr>\n",
       "    <tr>\n",
       "      <th>4</th>\n",
       "      <td>e</td>\n",
       "      <td>x</td>\n",
       "      <td>s</td>\n",
       "      <td>g</td>\n",
       "      <td>f</td>\n",
       "      <td>n</td>\n",
       "      <td>f</td>\n",
       "      <td>w</td>\n",
       "      <td>b</td>\n",
       "      <td>k</td>\n",
       "      <td>...</td>\n",
       "      <td>s</td>\n",
       "      <td>w</td>\n",
       "      <td>w</td>\n",
       "      <td>p</td>\n",
       "      <td>w</td>\n",
       "      <td>o</td>\n",
       "      <td>e</td>\n",
       "      <td>n</td>\n",
       "      <td>a</td>\n",
       "      <td>g</td>\n",
       "    </tr>\n",
       "  </tbody>\n",
       "</table>\n",
       "<p>5 rows × 23 columns</p>\n",
       "</div>"
      ],
      "text/plain": [
       "  type cap-shape cap-surface cap-color bruises? odor gill-attachment  \\\n",
       "0    p         x           s         n        t    p               f   \n",
       "1    e         x           s         y        t    a               f   \n",
       "2    e         b           s         w        t    l               f   \n",
       "3    p         x           y         w        t    p               f   \n",
       "4    e         x           s         g        f    n               f   \n",
       "\n",
       "  gill-spacing gill-size gill-color  ... stalk-surface-below-ring  \\\n",
       "0            c         n          k  ...                        s   \n",
       "1            c         b          k  ...                        s   \n",
       "2            c         b          n  ...                        s   \n",
       "3            c         n          n  ...                        s   \n",
       "4            w         b          k  ...                        s   \n",
       "\n",
       "  stalk-color-above-ring stalk-color-below-ring veil-type veil-color  \\\n",
       "0                      w                      w         p          w   \n",
       "1                      w                      w         p          w   \n",
       "2                      w                      w         p          w   \n",
       "3                      w                      w         p          w   \n",
       "4                      w                      w         p          w   \n",
       "\n",
       "  ring-number ring-type spore-print-color population habitat  \n",
       "0           o         p                 k          s       u  \n",
       "1           o         p                 n          n       g  \n",
       "2           o         p                 n          n       m  \n",
       "3           o         p                 k          s       u  \n",
       "4           o         e                 n          a       g  \n",
       "\n",
       "[5 rows x 23 columns]"
      ]
     },
     "execution_count": 8,
     "metadata": {},
     "output_type": "execute_result"
    }
   ],
   "source": [
    "data.columns = columns\n",
    "data.head()"
   ]
  },
  {
   "cell_type": "markdown",
   "metadata": {},
   "source": [
    "Data preprocessing"
   ]
  },
  {
   "cell_type": "code",
   "execution_count": 9,
   "metadata": {},
   "outputs": [
    {
     "name": "stdout",
     "output_type": "stream",
     "text": [
      "0       p\n",
      "1       e\n",
      "2       e\n",
      "3       p\n",
      "4       e\n",
      "       ..\n",
      "8119    e\n",
      "8120    e\n",
      "8121    e\n",
      "8122    p\n",
      "8123    e\n",
      "Name: type, Length: 8124, dtype: object\n",
      "0       x\n",
      "1       x\n",
      "2       b\n",
      "3       x\n",
      "4       x\n",
      "       ..\n",
      "8119    k\n",
      "8120    x\n",
      "8121    f\n",
      "8122    k\n",
      "8123    x\n",
      "Name: cap-shape, Length: 8124, dtype: object\n",
      "0       s\n",
      "1       s\n",
      "2       s\n",
      "3       y\n",
      "4       s\n",
      "       ..\n",
      "8119    s\n",
      "8120    s\n",
      "8121    s\n",
      "8122    y\n",
      "8123    s\n",
      "Name: cap-surface, Length: 8124, dtype: object\n",
      "0       n\n",
      "1       y\n",
      "2       w\n",
      "3       w\n",
      "4       g\n",
      "       ..\n",
      "8119    n\n",
      "8120    n\n",
      "8121    n\n",
      "8122    n\n",
      "8123    n\n",
      "Name: cap-color, Length: 8124, dtype: object\n",
      "0       t\n",
      "1       t\n",
      "2       t\n",
      "3       t\n",
      "4       f\n",
      "       ..\n",
      "8119    f\n",
      "8120    f\n",
      "8121    f\n",
      "8122    f\n",
      "8123    f\n",
      "Name: bruises?, Length: 8124, dtype: object\n",
      "0       p\n",
      "1       a\n",
      "2       l\n",
      "3       p\n",
      "4       n\n",
      "       ..\n",
      "8119    n\n",
      "8120    n\n",
      "8121    n\n",
      "8122    y\n",
      "8123    n\n",
      "Name: odor, Length: 8124, dtype: object\n",
      "0       f\n",
      "1       f\n",
      "2       f\n",
      "3       f\n",
      "4       f\n",
      "       ..\n",
      "8119    a\n",
      "8120    a\n",
      "8121    a\n",
      "8122    f\n",
      "8123    a\n",
      "Name: gill-attachment, Length: 8124, dtype: object\n",
      "0       c\n",
      "1       c\n",
      "2       c\n",
      "3       c\n",
      "4       w\n",
      "       ..\n",
      "8119    c\n",
      "8120    c\n",
      "8121    c\n",
      "8122    c\n",
      "8123    c\n",
      "Name: gill-spacing, Length: 8124, dtype: object\n",
      "0       n\n",
      "1       b\n",
      "2       b\n",
      "3       n\n",
      "4       b\n",
      "       ..\n",
      "8119    b\n",
      "8120    b\n",
      "8121    b\n",
      "8122    n\n",
      "8123    b\n",
      "Name: gill-size, Length: 8124, dtype: object\n",
      "0       k\n",
      "1       k\n",
      "2       n\n",
      "3       n\n",
      "4       k\n",
      "       ..\n",
      "8119    y\n",
      "8120    y\n",
      "8121    n\n",
      "8122    b\n",
      "8123    y\n",
      "Name: gill-color, Length: 8124, dtype: object\n",
      "0       e\n",
      "1       e\n",
      "2       e\n",
      "3       e\n",
      "4       t\n",
      "       ..\n",
      "8119    e\n",
      "8120    e\n",
      "8121    e\n",
      "8122    t\n",
      "8123    e\n",
      "Name: stalk-shape, Length: 8124, dtype: object\n",
      "0       e\n",
      "1       c\n",
      "2       c\n",
      "3       e\n",
      "4       e\n",
      "       ..\n",
      "8119    ?\n",
      "8120    ?\n",
      "8121    ?\n",
      "8122    ?\n",
      "8123    ?\n",
      "Name: stalk-root, Length: 8124, dtype: object\n",
      "0       s\n",
      "1       s\n",
      "2       s\n",
      "3       s\n",
      "4       s\n",
      "       ..\n",
      "8119    s\n",
      "8120    s\n",
      "8121    s\n",
      "8122    s\n",
      "8123    s\n",
      "Name: stalk-surface-above-ring, Length: 8124, dtype: object\n",
      "0       s\n",
      "1       s\n",
      "2       s\n",
      "3       s\n",
      "4       s\n",
      "       ..\n",
      "8119    s\n",
      "8120    s\n",
      "8121    s\n",
      "8122    k\n",
      "8123    s\n",
      "Name: stalk-surface-below-ring, Length: 8124, dtype: object\n",
      "0       w\n",
      "1       w\n",
      "2       w\n",
      "3       w\n",
      "4       w\n",
      "       ..\n",
      "8119    o\n",
      "8120    o\n",
      "8121    o\n",
      "8122    w\n",
      "8123    o\n",
      "Name: stalk-color-above-ring, Length: 8124, dtype: object\n",
      "0       w\n",
      "1       w\n",
      "2       w\n",
      "3       w\n",
      "4       w\n",
      "       ..\n",
      "8119    o\n",
      "8120    o\n",
      "8121    o\n",
      "8122    w\n",
      "8123    o\n",
      "Name: stalk-color-below-ring, Length: 8124, dtype: object\n",
      "0       p\n",
      "1       p\n",
      "2       p\n",
      "3       p\n",
      "4       p\n",
      "       ..\n",
      "8119    p\n",
      "8120    p\n",
      "8121    p\n",
      "8122    p\n",
      "8123    p\n",
      "Name: veil-type, Length: 8124, dtype: object\n",
      "0       w\n",
      "1       w\n",
      "2       w\n",
      "3       w\n",
      "4       w\n",
      "       ..\n",
      "8119    o\n",
      "8120    n\n",
      "8121    o\n",
      "8122    w\n",
      "8123    o\n",
      "Name: veil-color, Length: 8124, dtype: object\n",
      "0       o\n",
      "1       o\n",
      "2       o\n",
      "3       o\n",
      "4       o\n",
      "       ..\n",
      "8119    o\n",
      "8120    o\n",
      "8121    o\n",
      "8122    o\n",
      "8123    o\n",
      "Name: ring-number, Length: 8124, dtype: object\n",
      "0       p\n",
      "1       p\n",
      "2       p\n",
      "3       p\n",
      "4       e\n",
      "       ..\n",
      "8119    p\n",
      "8120    p\n",
      "8121    p\n",
      "8122    e\n",
      "8123    p\n",
      "Name: ring-type, Length: 8124, dtype: object\n",
      "0       k\n",
      "1       n\n",
      "2       n\n",
      "3       k\n",
      "4       n\n",
      "       ..\n",
      "8119    b\n",
      "8120    b\n",
      "8121    b\n",
      "8122    w\n",
      "8123    o\n",
      "Name: spore-print-color, Length: 8124, dtype: object\n",
      "0       s\n",
      "1       n\n",
      "2       n\n",
      "3       s\n",
      "4       a\n",
      "       ..\n",
      "8119    c\n",
      "8120    v\n",
      "8121    c\n",
      "8122    v\n",
      "8123    c\n",
      "Name: population, Length: 8124, dtype: object\n",
      "0       u\n",
      "1       g\n",
      "2       m\n",
      "3       u\n",
      "4       g\n",
      "       ..\n",
      "8119    l\n",
      "8120    l\n",
      "8121    l\n",
      "8122    l\n",
      "8123    l\n",
      "Name: habitat, Length: 8124, dtype: object\n"
     ]
    }
   ],
   "source": [
    "for col in columns:\n",
    "    print(data[col])   # to check if theres any null value"
   ]
  },
  {
   "cell_type": "code",
   "execution_count": 10,
   "metadata": {},
   "outputs": [
    {
     "name": "stdout",
     "output_type": "stream",
     "text": [
      "type\n",
      "e       4208\n",
      "p       3916\n",
      "dtype: int64\n",
      "--------------------------\n",
      "cap-shape\n",
      "x            3656\n",
      "f            3152\n",
      "k             828\n",
      "b             452\n",
      "s              32\n",
      "c               4\n",
      "dtype: int64\n",
      "--------------------------\n",
      "cap-surface\n",
      "y              3244\n",
      "s              2556\n",
      "f              2320\n",
      "g                 4\n",
      "dtype: int64\n",
      "--------------------------\n",
      "cap-color\n",
      "n            2284\n",
      "g            1840\n",
      "e            1500\n",
      "y            1072\n",
      "w            1040\n",
      "b             168\n",
      "p             144\n",
      "c              44\n",
      "r              16\n",
      "u              16\n",
      "dtype: int64\n",
      "--------------------------\n",
      "bruises?\n",
      "f           4748\n",
      "t           3376\n",
      "dtype: int64\n",
      "--------------------------\n",
      "odor\n",
      "n       3528\n",
      "f       2160\n",
      "s        576\n",
      "y        576\n",
      "a        400\n",
      "l        400\n",
      "p        256\n",
      "c        192\n",
      "m         36\n",
      "dtype: int64\n",
      "--------------------------\n",
      "gill-attachment\n",
      "f                  7914\n",
      "a                   210\n",
      "dtype: int64\n",
      "--------------------------\n",
      "gill-spacing\n",
      "c               6812\n",
      "w               1312\n",
      "dtype: int64\n",
      "--------------------------\n",
      "gill-size\n",
      "b            5612\n",
      "n            2512\n",
      "dtype: int64\n",
      "--------------------------\n",
      "gill-color\n",
      "b             1728\n",
      "p             1492\n",
      "w             1202\n",
      "n             1048\n",
      "g              752\n",
      "h              732\n",
      "u              492\n",
      "k              408\n",
      "e               96\n",
      "y               86\n",
      "o               64\n",
      "r               24\n",
      "dtype: int64\n",
      "--------------------------\n",
      "stalk-shape\n",
      "t              4608\n",
      "e              3516\n",
      "dtype: int64\n",
      "--------------------------\n",
      "stalk-root\n",
      "b             3776\n",
      "?             2480\n",
      "e             1120\n",
      "c              556\n",
      "r              192\n",
      "dtype: int64\n",
      "--------------------------\n",
      "stalk-surface-above-ring\n",
      "s                           5176\n",
      "k                           2372\n",
      "f                            552\n",
      "y                             24\n",
      "dtype: int64\n",
      "--------------------------\n",
      "stalk-surface-below-ring\n",
      "s                           4936\n",
      "k                           2304\n",
      "f                            600\n",
      "y                            284\n",
      "dtype: int64\n",
      "--------------------------\n",
      "stalk-color-above-ring\n",
      "w                         4464\n",
      "p                         1872\n",
      "g                          576\n",
      "n                          448\n",
      "b                          432\n",
      "o                          192\n",
      "e                           96\n",
      "c                           36\n",
      "y                            8\n",
      "dtype: int64\n",
      "--------------------------\n",
      "stalk-color-below-ring\n",
      "w                         4384\n",
      "p                         1872\n",
      "g                          576\n",
      "n                          512\n",
      "b                          432\n",
      "o                          192\n",
      "e                           96\n",
      "c                           36\n",
      "y                           24\n",
      "dtype: int64\n",
      "--------------------------\n",
      "veil-type\n",
      "p            8124\n",
      "dtype: int64\n",
      "--------------------------\n",
      "veil-color\n",
      "w             7924\n",
      "n               96\n",
      "o               96\n",
      "y                8\n",
      "dtype: int64\n",
      "--------------------------\n",
      "ring-number\n",
      "o              7488\n",
      "t               600\n",
      "n                36\n",
      "dtype: int64\n",
      "--------------------------\n",
      "ring-type\n",
      "p            3968\n",
      "e            2776\n",
      "l            1296\n",
      "f              48\n",
      "n              36\n",
      "dtype: int64\n",
      "--------------------------\n",
      "spore-print-color\n",
      "w                    2388\n",
      "n                    1968\n",
      "k                    1872\n",
      "h                    1632\n",
      "r                      72\n",
      "b                      48\n",
      "o                      48\n",
      "u                      48\n",
      "y                      48\n",
      "dtype: int64\n",
      "--------------------------\n",
      "population\n",
      "v             4040\n",
      "y             1712\n",
      "s             1248\n",
      "n              400\n",
      "a              384\n",
      "c              340\n",
      "dtype: int64\n",
      "--------------------------\n",
      "habitat\n",
      "d          3148\n",
      "g          2148\n",
      "p          1144\n",
      "l           832\n",
      "u           368\n",
      "m           292\n",
      "w           192\n",
      "dtype: int64\n",
      "--------------------------\n"
     ]
    }
   ],
   "source": [
    "for col in columns:\n",
    "    print(data[[col]].value_counts())\n",
    "    print('--------------------------')  "
   ]
  },
  {
   "cell_type": "code",
   "execution_count": null,
   "metadata": {},
   "outputs": [],
   "source": [
    "data.drop(columns='stalk-root', inplace= True)"
   ]
  },
  {
   "cell_type": "code",
   "execution_count": 17,
   "metadata": {},
   "outputs": [
    {
     "data": {
      "text/plain": [
       "Index(['type', 'cap-shape', 'cap-surface', 'cap-color', 'bruises?', 'odor',\n",
       "       'gill-attachment', 'gill-spacing', 'gill-size', 'gill-color',\n",
       "       'stalk-shape', 'stalk-surface-above-ring', 'stalk-surface-below-ring',\n",
       "       'stalk-color-above-ring', 'stalk-color-below-ring', 'veil-type',\n",
       "       'veil-color', 'ring-number', 'ring-type', 'spore-print-color',\n",
       "       'population', 'habitat'],\n",
       "      dtype='object')"
      ]
     },
     "execution_count": 17,
     "metadata": {},
     "output_type": "execute_result"
    }
   ],
   "source": [
    "data.columns"
   ]
  },
  {
   "cell_type": "code",
   "execution_count": 18,
   "metadata": {},
   "outputs": [
    {
     "data": {
      "text/plain": [
       "cap-shape\n",
       "x            3656\n",
       "f            3152\n",
       "k             828\n",
       "b             452\n",
       "s              32\n",
       "c               4\n",
       "dtype: int64"
      ]
     },
     "execution_count": 18,
     "metadata": {},
     "output_type": "execute_result"
    }
   ],
   "source": [
    "data[['cap-shape']].value_counts()"
   ]
  },
  {
   "cell_type": "code",
   "execution_count": 19,
   "metadata": {},
   "outputs": [
    {
     "name": "stdout",
     "output_type": "stream",
     "text": [
      "<class 'pandas.core.frame.DataFrame'>\n",
      "RangeIndex: 8124 entries, 0 to 8123\n",
      "Data columns (total 22 columns):\n",
      " #   Column                    Non-Null Count  Dtype   \n",
      "---  ------                    --------------  -----   \n",
      " 0   type                      8124 non-null   category\n",
      " 1   cap-shape                 8124 non-null   category\n",
      " 2   cap-surface               8124 non-null   category\n",
      " 3   cap-color                 8124 non-null   category\n",
      " 4   bruises?                  8124 non-null   category\n",
      " 5   odor                      8124 non-null   category\n",
      " 6   gill-attachment           8124 non-null   category\n",
      " 7   gill-spacing              8124 non-null   category\n",
      " 8   gill-size                 8124 non-null   category\n",
      " 9   gill-color                8124 non-null   category\n",
      " 10  stalk-shape               8124 non-null   category\n",
      " 11  stalk-surface-above-ring  8124 non-null   category\n",
      " 12  stalk-surface-below-ring  8124 non-null   category\n",
      " 13  stalk-color-above-ring    8124 non-null   category\n",
      " 14  stalk-color-below-ring    8124 non-null   category\n",
      " 15  veil-type                 8124 non-null   category\n",
      " 16  veil-color                8124 non-null   category\n",
      " 17  ring-number               8124 non-null   category\n",
      " 18  ring-type                 8124 non-null   category\n",
      " 19  spore-print-color         8124 non-null   category\n",
      " 20  population                8124 non-null   category\n",
      " 21  habitat                   8124 non-null   category\n",
      "dtypes: category(22)\n",
      "memory usage: 179.6 KB\n"
     ]
    }
   ],
   "source": [
    "data = data.astype('category')\n",
    "data.info()"
   ]
  },
  {
   "cell_type": "code",
   "execution_count": 20,
   "metadata": {},
   "outputs": [],
   "source": [
    "from sklearn.preprocessing import LabelEncoder\n",
    "\n",
    "for column in data.columns:\n",
    "    encoder = LabelEncoder()\n",
    "    data[column] = encoder.fit_transform(data[column])  # in a column we will encode the values and save it into 1d"
   ]
  },
  {
   "cell_type": "code",
   "execution_count": 21,
   "metadata": {},
   "outputs": [
    {
     "data": {
      "text/html": [
       "<div>\n",
       "<style scoped>\n",
       "    .dataframe tbody tr th:only-of-type {\n",
       "        vertical-align: middle;\n",
       "    }\n",
       "\n",
       "    .dataframe tbody tr th {\n",
       "        vertical-align: top;\n",
       "    }\n",
       "\n",
       "    .dataframe thead th {\n",
       "        text-align: right;\n",
       "    }\n",
       "</style>\n",
       "<table border=\"1\" class=\"dataframe\">\n",
       "  <thead>\n",
       "    <tr style=\"text-align: right;\">\n",
       "      <th></th>\n",
       "      <th>type</th>\n",
       "      <th>cap-shape</th>\n",
       "      <th>cap-surface</th>\n",
       "      <th>cap-color</th>\n",
       "      <th>bruises?</th>\n",
       "      <th>odor</th>\n",
       "      <th>gill-attachment</th>\n",
       "      <th>gill-spacing</th>\n",
       "      <th>gill-size</th>\n",
       "      <th>gill-color</th>\n",
       "      <th>...</th>\n",
       "      <th>stalk-surface-below-ring</th>\n",
       "      <th>stalk-color-above-ring</th>\n",
       "      <th>stalk-color-below-ring</th>\n",
       "      <th>veil-type</th>\n",
       "      <th>veil-color</th>\n",
       "      <th>ring-number</th>\n",
       "      <th>ring-type</th>\n",
       "      <th>spore-print-color</th>\n",
       "      <th>population</th>\n",
       "      <th>habitat</th>\n",
       "    </tr>\n",
       "  </thead>\n",
       "  <tbody>\n",
       "    <tr>\n",
       "      <th>0</th>\n",
       "      <td>1</td>\n",
       "      <td>5</td>\n",
       "      <td>2</td>\n",
       "      <td>4</td>\n",
       "      <td>1</td>\n",
       "      <td>6</td>\n",
       "      <td>1</td>\n",
       "      <td>0</td>\n",
       "      <td>1</td>\n",
       "      <td>4</td>\n",
       "      <td>...</td>\n",
       "      <td>2</td>\n",
       "      <td>7</td>\n",
       "      <td>7</td>\n",
       "      <td>0</td>\n",
       "      <td>2</td>\n",
       "      <td>1</td>\n",
       "      <td>4</td>\n",
       "      <td>2</td>\n",
       "      <td>3</td>\n",
       "      <td>5</td>\n",
       "    </tr>\n",
       "    <tr>\n",
       "      <th>1</th>\n",
       "      <td>0</td>\n",
       "      <td>5</td>\n",
       "      <td>2</td>\n",
       "      <td>9</td>\n",
       "      <td>1</td>\n",
       "      <td>0</td>\n",
       "      <td>1</td>\n",
       "      <td>0</td>\n",
       "      <td>0</td>\n",
       "      <td>4</td>\n",
       "      <td>...</td>\n",
       "      <td>2</td>\n",
       "      <td>7</td>\n",
       "      <td>7</td>\n",
       "      <td>0</td>\n",
       "      <td>2</td>\n",
       "      <td>1</td>\n",
       "      <td>4</td>\n",
       "      <td>3</td>\n",
       "      <td>2</td>\n",
       "      <td>1</td>\n",
       "    </tr>\n",
       "    <tr>\n",
       "      <th>2</th>\n",
       "      <td>0</td>\n",
       "      <td>0</td>\n",
       "      <td>2</td>\n",
       "      <td>8</td>\n",
       "      <td>1</td>\n",
       "      <td>3</td>\n",
       "      <td>1</td>\n",
       "      <td>0</td>\n",
       "      <td>0</td>\n",
       "      <td>5</td>\n",
       "      <td>...</td>\n",
       "      <td>2</td>\n",
       "      <td>7</td>\n",
       "      <td>7</td>\n",
       "      <td>0</td>\n",
       "      <td>2</td>\n",
       "      <td>1</td>\n",
       "      <td>4</td>\n",
       "      <td>3</td>\n",
       "      <td>2</td>\n",
       "      <td>3</td>\n",
       "    </tr>\n",
       "    <tr>\n",
       "      <th>3</th>\n",
       "      <td>1</td>\n",
       "      <td>5</td>\n",
       "      <td>3</td>\n",
       "      <td>8</td>\n",
       "      <td>1</td>\n",
       "      <td>6</td>\n",
       "      <td>1</td>\n",
       "      <td>0</td>\n",
       "      <td>1</td>\n",
       "      <td>5</td>\n",
       "      <td>...</td>\n",
       "      <td>2</td>\n",
       "      <td>7</td>\n",
       "      <td>7</td>\n",
       "      <td>0</td>\n",
       "      <td>2</td>\n",
       "      <td>1</td>\n",
       "      <td>4</td>\n",
       "      <td>2</td>\n",
       "      <td>3</td>\n",
       "      <td>5</td>\n",
       "    </tr>\n",
       "    <tr>\n",
       "      <th>4</th>\n",
       "      <td>0</td>\n",
       "      <td>5</td>\n",
       "      <td>2</td>\n",
       "      <td>3</td>\n",
       "      <td>0</td>\n",
       "      <td>5</td>\n",
       "      <td>1</td>\n",
       "      <td>1</td>\n",
       "      <td>0</td>\n",
       "      <td>4</td>\n",
       "      <td>...</td>\n",
       "      <td>2</td>\n",
       "      <td>7</td>\n",
       "      <td>7</td>\n",
       "      <td>0</td>\n",
       "      <td>2</td>\n",
       "      <td>1</td>\n",
       "      <td>0</td>\n",
       "      <td>3</td>\n",
       "      <td>0</td>\n",
       "      <td>1</td>\n",
       "    </tr>\n",
       "    <tr>\n",
       "      <th>...</th>\n",
       "      <td>...</td>\n",
       "      <td>...</td>\n",
       "      <td>...</td>\n",
       "      <td>...</td>\n",
       "      <td>...</td>\n",
       "      <td>...</td>\n",
       "      <td>...</td>\n",
       "      <td>...</td>\n",
       "      <td>...</td>\n",
       "      <td>...</td>\n",
       "      <td>...</td>\n",
       "      <td>...</td>\n",
       "      <td>...</td>\n",
       "      <td>...</td>\n",
       "      <td>...</td>\n",
       "      <td>...</td>\n",
       "      <td>...</td>\n",
       "      <td>...</td>\n",
       "      <td>...</td>\n",
       "      <td>...</td>\n",
       "      <td>...</td>\n",
       "    </tr>\n",
       "    <tr>\n",
       "      <th>8119</th>\n",
       "      <td>0</td>\n",
       "      <td>3</td>\n",
       "      <td>2</td>\n",
       "      <td>4</td>\n",
       "      <td>0</td>\n",
       "      <td>5</td>\n",
       "      <td>0</td>\n",
       "      <td>0</td>\n",
       "      <td>0</td>\n",
       "      <td>11</td>\n",
       "      <td>...</td>\n",
       "      <td>2</td>\n",
       "      <td>5</td>\n",
       "      <td>5</td>\n",
       "      <td>0</td>\n",
       "      <td>1</td>\n",
       "      <td>1</td>\n",
       "      <td>4</td>\n",
       "      <td>0</td>\n",
       "      <td>1</td>\n",
       "      <td>2</td>\n",
       "    </tr>\n",
       "    <tr>\n",
       "      <th>8120</th>\n",
       "      <td>0</td>\n",
       "      <td>5</td>\n",
       "      <td>2</td>\n",
       "      <td>4</td>\n",
       "      <td>0</td>\n",
       "      <td>5</td>\n",
       "      <td>0</td>\n",
       "      <td>0</td>\n",
       "      <td>0</td>\n",
       "      <td>11</td>\n",
       "      <td>...</td>\n",
       "      <td>2</td>\n",
       "      <td>5</td>\n",
       "      <td>5</td>\n",
       "      <td>0</td>\n",
       "      <td>0</td>\n",
       "      <td>1</td>\n",
       "      <td>4</td>\n",
       "      <td>0</td>\n",
       "      <td>4</td>\n",
       "      <td>2</td>\n",
       "    </tr>\n",
       "    <tr>\n",
       "      <th>8121</th>\n",
       "      <td>0</td>\n",
       "      <td>2</td>\n",
       "      <td>2</td>\n",
       "      <td>4</td>\n",
       "      <td>0</td>\n",
       "      <td>5</td>\n",
       "      <td>0</td>\n",
       "      <td>0</td>\n",
       "      <td>0</td>\n",
       "      <td>5</td>\n",
       "      <td>...</td>\n",
       "      <td>2</td>\n",
       "      <td>5</td>\n",
       "      <td>5</td>\n",
       "      <td>0</td>\n",
       "      <td>1</td>\n",
       "      <td>1</td>\n",
       "      <td>4</td>\n",
       "      <td>0</td>\n",
       "      <td>1</td>\n",
       "      <td>2</td>\n",
       "    </tr>\n",
       "    <tr>\n",
       "      <th>8122</th>\n",
       "      <td>1</td>\n",
       "      <td>3</td>\n",
       "      <td>3</td>\n",
       "      <td>4</td>\n",
       "      <td>0</td>\n",
       "      <td>8</td>\n",
       "      <td>1</td>\n",
       "      <td>0</td>\n",
       "      <td>1</td>\n",
       "      <td>0</td>\n",
       "      <td>...</td>\n",
       "      <td>1</td>\n",
       "      <td>7</td>\n",
       "      <td>7</td>\n",
       "      <td>0</td>\n",
       "      <td>2</td>\n",
       "      <td>1</td>\n",
       "      <td>0</td>\n",
       "      <td>7</td>\n",
       "      <td>4</td>\n",
       "      <td>2</td>\n",
       "    </tr>\n",
       "    <tr>\n",
       "      <th>8123</th>\n",
       "      <td>0</td>\n",
       "      <td>5</td>\n",
       "      <td>2</td>\n",
       "      <td>4</td>\n",
       "      <td>0</td>\n",
       "      <td>5</td>\n",
       "      <td>0</td>\n",
       "      <td>0</td>\n",
       "      <td>0</td>\n",
       "      <td>11</td>\n",
       "      <td>...</td>\n",
       "      <td>2</td>\n",
       "      <td>5</td>\n",
       "      <td>5</td>\n",
       "      <td>0</td>\n",
       "      <td>1</td>\n",
       "      <td>1</td>\n",
       "      <td>4</td>\n",
       "      <td>4</td>\n",
       "      <td>1</td>\n",
       "      <td>2</td>\n",
       "    </tr>\n",
       "  </tbody>\n",
       "</table>\n",
       "<p>8124 rows × 22 columns</p>\n",
       "</div>"
      ],
      "text/plain": [
       "      type  cap-shape  cap-surface  cap-color  bruises?  odor  \\\n",
       "0        1          5            2          4         1     6   \n",
       "1        0          5            2          9         1     0   \n",
       "2        0          0            2          8         1     3   \n",
       "3        1          5            3          8         1     6   \n",
       "4        0          5            2          3         0     5   \n",
       "...    ...        ...          ...        ...       ...   ...   \n",
       "8119     0          3            2          4         0     5   \n",
       "8120     0          5            2          4         0     5   \n",
       "8121     0          2            2          4         0     5   \n",
       "8122     1          3            3          4         0     8   \n",
       "8123     0          5            2          4         0     5   \n",
       "\n",
       "      gill-attachment  gill-spacing  gill-size  gill-color  ...  \\\n",
       "0                   1             0          1           4  ...   \n",
       "1                   1             0          0           4  ...   \n",
       "2                   1             0          0           5  ...   \n",
       "3                   1             0          1           5  ...   \n",
       "4                   1             1          0           4  ...   \n",
       "...               ...           ...        ...         ...  ...   \n",
       "8119                0             0          0          11  ...   \n",
       "8120                0             0          0          11  ...   \n",
       "8121                0             0          0           5  ...   \n",
       "8122                1             0          1           0  ...   \n",
       "8123                0             0          0          11  ...   \n",
       "\n",
       "      stalk-surface-below-ring  stalk-color-above-ring  \\\n",
       "0                            2                       7   \n",
       "1                            2                       7   \n",
       "2                            2                       7   \n",
       "3                            2                       7   \n",
       "4                            2                       7   \n",
       "...                        ...                     ...   \n",
       "8119                         2                       5   \n",
       "8120                         2                       5   \n",
       "8121                         2                       5   \n",
       "8122                         1                       7   \n",
       "8123                         2                       5   \n",
       "\n",
       "      stalk-color-below-ring  veil-type  veil-color  ring-number  ring-type  \\\n",
       "0                          7          0           2            1          4   \n",
       "1                          7          0           2            1          4   \n",
       "2                          7          0           2            1          4   \n",
       "3                          7          0           2            1          4   \n",
       "4                          7          0           2            1          0   \n",
       "...                      ...        ...         ...          ...        ...   \n",
       "8119                       5          0           1            1          4   \n",
       "8120                       5          0           0            1          4   \n",
       "8121                       5          0           1            1          4   \n",
       "8122                       7          0           2            1          0   \n",
       "8123                       5          0           1            1          4   \n",
       "\n",
       "      spore-print-color  population  habitat  \n",
       "0                     2           3        5  \n",
       "1                     3           2        1  \n",
       "2                     3           2        3  \n",
       "3                     2           3        5  \n",
       "4                     3           0        1  \n",
       "...                 ...         ...      ...  \n",
       "8119                  0           1        2  \n",
       "8120                  0           4        2  \n",
       "8121                  0           1        2  \n",
       "8122                  7           4        2  \n",
       "8123                  4           1        2  \n",
       "\n",
       "[8124 rows x 22 columns]"
      ]
     },
     "execution_count": 21,
     "metadata": {},
     "output_type": "execute_result"
    }
   ],
   "source": [
    "data"
   ]
  },
  {
   "cell_type": "code",
   "execution_count": 17,
   "metadata": {},
   "outputs": [
    {
     "data": {
      "text/plain": [
       "<AxesSubplot:>"
      ]
     },
     "execution_count": 17,
     "metadata": {},
     "output_type": "execute_result"
    },
    {
     "data": {
      "image/png": "[encoded data removed]",
      "text/plain": [
       "<Figure size 2880x2160 with 2 Axes>"
      ]
     },
     "metadata": {
      "needs_background": "light"
     },
     "output_type": "display_data"
    }
   ],
   "source": [
    "fig = plt.subplots(1,1, figsize=(40,30))\n",
    "sns.heatmap(data.corr(), annot= True)  # annot = true means texts will b written on each cell"
   ]
  },
  {
   "cell_type": "code",
   "execution_count": 22,
   "metadata": {},
   "outputs": [],
   "source": [
    "data.drop(columns='veil-type', inplace= True)"
   ]
  },
  {
   "cell_type": "code",
   "execution_count": 23,
   "metadata": {},
   "outputs": [
    {
     "data": {
      "text/plain": [
       "Index(['type', 'cap-shape', 'cap-surface', 'cap-color', 'bruises?', 'odor',\n",
       "       'gill-attachment', 'gill-spacing', 'gill-size', 'gill-color',\n",
       "       'stalk-shape', 'stalk-surface-above-ring', 'stalk-surface-below-ring',\n",
       "       'stalk-color-above-ring', 'stalk-color-below-ring', 'veil-color',\n",
       "       'ring-number', 'ring-type', 'spore-print-color', 'population',\n",
       "       'habitat'],\n",
       "      dtype='object')"
      ]
     },
     "execution_count": 23,
     "metadata": {},
     "output_type": "execute_result"
    }
   ],
   "source": [
    "data.columns"
   ]
  },
  {
   "cell_type": "code",
   "execution_count": 24,
   "metadata": {},
   "outputs": [
    {
     "data": {
      "text/html": [
       "<div>\n",
       "<style scoped>\n",
       "    .dataframe tbody tr th:only-of-type {\n",
       "        vertical-align: middle;\n",
       "    }\n",
       "\n",
       "    .dataframe tbody tr th {\n",
       "        vertical-align: top;\n",
       "    }\n",
       "\n",
       "    .dataframe thead th {\n",
       "        text-align: right;\n",
       "    }\n",
       "</style>\n",
       "<table border=\"1\" class=\"dataframe\">\n",
       "  <thead>\n",
       "    <tr style=\"text-align: right;\">\n",
       "      <th></th>\n",
       "      <th>type</th>\n",
       "    </tr>\n",
       "  </thead>\n",
       "  <tbody>\n",
       "    <tr>\n",
       "      <th>0</th>\n",
       "      <td>1</td>\n",
       "    </tr>\n",
       "    <tr>\n",
       "      <th>1</th>\n",
       "      <td>0</td>\n",
       "    </tr>\n",
       "    <tr>\n",
       "      <th>2</th>\n",
       "      <td>0</td>\n",
       "    </tr>\n",
       "    <tr>\n",
       "      <th>3</th>\n",
       "      <td>1</td>\n",
       "    </tr>\n",
       "    <tr>\n",
       "      <th>4</th>\n",
       "      <td>0</td>\n",
       "    </tr>\n",
       "    <tr>\n",
       "      <th>...</th>\n",
       "      <td>...</td>\n",
       "    </tr>\n",
       "    <tr>\n",
       "      <th>8119</th>\n",
       "      <td>0</td>\n",
       "    </tr>\n",
       "    <tr>\n",
       "      <th>8120</th>\n",
       "      <td>0</td>\n",
       "    </tr>\n",
       "    <tr>\n",
       "      <th>8121</th>\n",
       "      <td>0</td>\n",
       "    </tr>\n",
       "    <tr>\n",
       "      <th>8122</th>\n",
       "      <td>1</td>\n",
       "    </tr>\n",
       "    <tr>\n",
       "      <th>8123</th>\n",
       "      <td>0</td>\n",
       "    </tr>\n",
       "  </tbody>\n",
       "</table>\n",
       "<p>8124 rows × 1 columns</p>\n",
       "</div>"
      ],
      "text/plain": [
       "      type\n",
       "0        1\n",
       "1        0\n",
       "2        0\n",
       "3        1\n",
       "4        0\n",
       "...    ...\n",
       "8119     0\n",
       "8120     0\n",
       "8121     0\n",
       "8122     1\n",
       "8123     0\n",
       "\n",
       "[8124 rows x 1 columns]"
      ]
     },
     "execution_count": 24,
     "metadata": {},
     "output_type": "execute_result"
    }
   ],
   "source": [
    "X = data[['gill-color', 'ring-type']]; Y = data[['type']]\n",
    "X\n",
    "Y"
   ]
  },
  {
   "cell_type": "code",
   "execution_count": null,
   "metadata": {},
   "outputs": [],
   "source": [
    "edible = data[data['type'] == ][['gill color', 'ring-type', 'type']]\n",
    "\n"
   ]
  },
  {
   "cell_type": "markdown",
   "metadata": {},
   "source": [
    "Train-Test-Split"
   ]
  },
  {
   "cell_type": "code",
   "execution_count": 25,
   "metadata": {},
   "outputs": [],
   "source": [
    "from sklearn.model_selection import train_test_split\n",
    "xtrain, xtest, ytrain, ytest = train_test_split(X, Y, test_size=0.25, random_state= 3)"
   ]
  },
  {
   "cell_type": "code",
   "execution_count": 27,
   "metadata": {},
   "outputs": [
    {
     "name": "stdout",
     "output_type": "stream",
     "text": [
      "Confusion matrix [[825 302]\n",
      " [246 658]]\n",
      "Accuracy Score 0.7301821762678483\n",
      "Confusion Matrix: \n",
      " [[825 302]\n",
      " [246 658]]\n",
      "F1-Score: [0.75068244 0.70600858]\n"
     ]
    },
    {
     "data": {
      "image/png": "[encoded data removed]",
      "text/plain": [
       "<Figure size 432x288 with 2 Axes>"
      ]
     },
     "metadata": {
      "needs_background": "light"
     },
     "output_type": "display_data"
    }
   ],
   "source": [
    "# Logistic Regression\n",
    "from sklearn.linear_model import LogisticRegression\n",
    "from sklearn.metrics import plot_confusion_matrix, confusion_matrix, accuracy_score\n",
    "from sklearn.metrics import confusion_matrix, f1_score\n",
    "\n",
    "logisticmodel = LogisticRegression()\n",
    "logisticmodel.fit(xtrain, ytrain)\n",
    "\n",
    "ypred = logisticmodel.predict(xtest)\n",
    "\n",
    "plot_confusion_matrix(logisticmodel, xtest, ytest) # it will take these 3 parameters\n",
    "print('Confusion matrix', confusion_matrix(ypred, ytest))\n",
    "print('Accuracy Score', accuracy_score(ytest, ypred))\n",
    "\n",
    "print('Confusion Matrix: \\n', confusion_matrix(ypred, ytest))\n",
    "print('F1-Score:', f1_score(ypred, ytest, average = None))"
   ]
  },
  {
   "cell_type": "code",
   "execution_count": 28,
   "metadata": {},
   "outputs": [
    {
     "data": {
      "text/plain": [
       "0.7188577055637617"
      ]
     },
     "execution_count": 28,
     "metadata": {},
     "output_type": "execute_result"
    }
   ],
   "source": [
    "# Hyper parameter\n",
    "import warnings\n",
    "warnings.filterwarnings(action='ignore')\n",
    "from sklearn.model_selection import cross_val_score\n",
    "cv = cross_val_score(\n",
    "    logisticmodel, X, Y, cv = 4, scoring= 'accuracy'\n",
    ")\n",
    "cv.mean()"
   ]
  },
  {
   "cell_type": "code",
   "execution_count": 18,
   "metadata": {},
   "outputs": [],
   "source": [
    "from sklearn import linear_model"
   ]
  },
  {
   "cell_type": "code",
   "execution_count": 19,
   "metadata": {},
   "outputs": [
    {
     "data": {
      "text/plain": [
       "dict_keys(['C', 'class_weight', 'dual', 'fit_intercept', 'intercept_scaling', 'l1_ratio', 'max_iter', 'multi_class', 'n_jobs', 'penalty', 'random_state', 'solver', 'tol', 'verbose', 'warm_start'])"
      ]
     },
     "execution_count": 19,
     "metadata": {},
     "output_type": "execute_result"
    }
   ],
   "source": [
    "linear_model.LogisticRegression().get_params().keys()"
   ]
  },
  {
   "cell_type": "code",
   "execution_count": 21,
   "metadata": {},
   "outputs": [
    {
     "name": "stdout",
     "output_type": "stream",
     "text": [
      "Fitting 2 folds for each of 10 candidates, totalling 20 fits\n"
     ]
    },
    {
     "data": {
      "text/plain": [
       "RandomizedSearchCV(cv=2, estimator=LogisticRegression(), n_jobs=-1,\n",
       "                   param_distributions={'C': array([1.00000000e+01, 1.02096066e+01, 1.04236067e+01, 1.06420924e+01,\n",
       "       1.08651577e+01, 1.10928986e+01, 1.13254132e+01, 1.15628013e+01,\n",
       "       1.18051653e+01, 1.20526094e+01, 1.23052400e+01, 1.25631660e+01,\n",
       "       1.28264983e+01, 1.30953502e+01, 1.33698374e+01, 1.36500781e+01,\n",
       "       1.39361927e+0...\n",
       "       8.64842328e+09, 8.82969996e+09, 9.01477631e+09, 9.20373200e+09,\n",
       "       9.39664831e+09, 9.59360829e+09, 9.79469667e+09, 1.00000000e+10]),\n",
       "                                        'max_iter': [100, 220, 340, 460, 580,\n",
       "                                                     700, 820, 940, 1060, 1180,\n",
       "                                                     1300, 1420, 1540, 1660,\n",
       "                                                     1780, 1900, 2020, 2140,\n",
       "                                                     2260, 2380, 2500, 2620,\n",
       "                                                     2740, 2860, 2980],\n",
       "                                        'penalty': ['l1', 'l2', 'elasticnet',\n",
       "                                                    'None'],\n",
       "                                        'solver': ['newton-cg', 'lbfgs', 'sag',\n",
       "                                                   'saga', 'liblinear'],\n",
       "                                        'warm_start': 'True'},\n",
       "                   scoring='accuracy', verbose=4)"
      ]
     },
     "execution_count": 21,
     "metadata": {},
     "output_type": "execute_result"
    }
   ],
   "source": [
    "# Hyperparameter\n",
    "from sklearn.model_selection import RandomizedSearchCV\n",
    "grid = linear_model.LogisticRegression()\n",
    "\n",
    "gridmodel = RandomizedSearchCV(\n",
    "    grid, \n",
    "    param_distributions={\n",
    "        'penalty': ['l1','l2','elasticnet', 'None'],\n",
    "        'C': np.logspace(1,10,1000),\n",
    "        'solver':['newton-cg','lbfgs','sag','saga','liblinear'],\n",
    "        'max_iter': list(range(100,3000,120)),\n",
    "        'warm_start': 'True'\n",
    "\n",
    "    },\n",
    "    cv = 2, scoring='accuracy', n_jobs=-1, verbose=4\n",
    ")\n",
    "gridmodel.fit(xtrain,ytrain)"
   ]
  },
  {
   "cell_type": "code",
   "execution_count": 22,
   "metadata": {},
   "outputs": [
    {
     "data": {
      "text/plain": [
       "{'warm_start': 'r',\n",
       " 'solver': 'saga',\n",
       " 'penalty': 'l2',\n",
       " 'max_iter': 1180,\n",
       " 'C': 14228304.57214352}"
      ]
     },
     "execution_count": 22,
     "metadata": {},
     "output_type": "execute_result"
    }
   ],
   "source": [
    "gridmodel.best_params_"
   ]
  },
  {
   "cell_type": "code",
   "execution_count": 23,
   "metadata": {},
   "outputs": [
    {
     "data": {
      "text/plain": [
       "LogisticRegression(C=14228304.57214352, max_iter=1180, solver='saga',\n",
       "                   warm_start='r')"
      ]
     },
     "execution_count": 23,
     "metadata": {},
     "output_type": "execute_result"
    }
   ],
   "source": [
    "gridmodel.best_estimator_"
   ]
  },
  {
   "cell_type": "code",
   "execution_count": 25,
   "metadata": {},
   "outputs": [
    {
     "name": "stdout",
     "output_type": "stream",
     "text": [
      "Confusion matrix: \n",
      " [[635 229]\n",
      " [225 536]]\n",
      "Accuracy score 0.7206153846153847\n",
      "F1 score [0.73665893 0.70249017]\n"
     ]
    },
    {
     "data": {
      "image/png": "[encoded data removed]",
      "text/plain": [
       "<Figure size 432x288 with 2 Axes>"
      ]
     },
     "metadata": {
      "needs_background": "light"
     },
     "output_type": "display_data"
    }
   ],
   "source": [
    "# Naive bayes\n",
    "from sklearn import naive_bayes\n",
    "from sklearn.naive_bayes import GaussianNB\n",
    "nbmodel = naive_bayes.GaussianNB()\n",
    "xtrain,xtest,ytrain,ytest = train_test_split(X,Y, test_size= 0.20, random_state=2)\n",
    "nbmodel.fit(xtrain,ytrain)\n",
    "ypred = nbmodel.predict(xtest)\n",
    "plot_confusion_matrix(nbmodel, xtest, ytest) \n",
    "print('Confusion matrix: \\n', confusion_matrix(ypred, ytest))\n",
    "print('Accuracy score', accuracy_score(ytest, ypred))\n",
    "print('F1 score', f1_score(ypred, ytest, average= None))"
   ]
  },
  {
   "cell_type": "code",
   "execution_count": 26,
   "metadata": {},
   "outputs": [
    {
     "data": {
      "text/plain": [
       "<sklearn.metrics._plot.confusion_matrix.ConfusionMatrixDisplay at 0x2b46dfa28b0>"
      ]
     },
     "execution_count": 26,
     "metadata": {},
     "output_type": "execute_result"
    },
    {
     "data": {
      "image/png": "[encoded data removed]",
      "text/plain": [
       "<Figure size 432x288 with 2 Axes>"
      ]
     },
     "metadata": {
      "needs_background": "light"
     },
     "output_type": "display_data"
    }
   ],
   "source": [
    "from sklearn import metrics\n",
    "metrics.plot_confusion_matrix(nbmodel,xtrain,ytrain)"
   ]
  },
  {
   "cell_type": "code",
   "execution_count": 27,
   "metadata": {},
   "outputs": [
    {
     "data": {
      "text/plain": [
       "0.7173806006893155"
      ]
     },
     "execution_count": 27,
     "metadata": {},
     "output_type": "execute_result"
    }
   ],
   "source": [
    "import warnings\n",
    "warnings.filterwarnings(action='ignore')\n",
    "cv = cross_val_score(\n",
    "    nbmodel, X,Y, scoring='accuracy', cv = 3\n",
    ")\n",
    "cv.mean()"
   ]
  },
  {
   "cell_type": "code",
   "execution_count": null,
   "metadata": {},
   "outputs": [],
   "source": [
    "GaussianNB?"
   ]
  },
  {
   "cell_type": "code",
   "execution_count": 110,
   "metadata": {},
   "outputs": [
    {
     "data": {
      "text/plain": [
       "dict_keys(['priors', 'var_smoothing'])"
      ]
     },
     "execution_count": 110,
     "metadata": {},
     "output_type": "execute_result"
    }
   ],
   "source": [
    "naive_bayes.GaussianNB().get_params().keys()"
   ]
  },
  {
   "cell_type": "code",
   "execution_count": null,
   "metadata": {},
   "outputs": [],
   "source": [
    "grid = naive_bayes.GaussianNB()\n",
    "gridmodel = RandomizedSearchCV(\n",
    "    grid,\n",
    "    param_distributions={\n",
    "    'priors' : 'None',\n",
    "    'var_smoothing' : '2e-09',\n",
    "    'fit_prior' : 'True'\n",
    "    },\n",
    "    cv =3, scoring = 'accuracy', n_jobs=-1\n",
    ")\n",
    "gridmodel.fit(xtrain,ytrain)"
   ]
  },
  {
   "cell_type": "code",
   "execution_count": null,
   "metadata": {},
   "outputs": [],
   "source": [
    "namodel = naive_bayes.GaussianNB()\n",
    "xtrain,xtest,ytrain,ytest = train_test_split(X,Y, test_size=0.25, random_state=3)\n",
    "namodel.fit(xtrain,ytrain)\n",
    "namodel.predict(xtest)\n",
    "plot_confusion_matrix(namodel,xtest,ytest)\n",
    "print('acc', accuracy_score(ytest,ypred))\n"
   ]
  },
  {
   "cell_type": "code",
   "execution_count": 30,
   "metadata": {},
   "outputs": [
    {
     "name": "stderr",
     "output_type": "stream",
     "text": [
      "C:\\Users\\user\\AppData\\Local\\Programs\\Python\\Python39\\lib\\site-packages\\sklearn\\neighbors\\_classification.py:179: DataConversionWarning: A column-vector y was passed when a 1d array was expected. Please change the shape of y to (n_samples,), for example using ravel().\n",
      "  return self._fit(X, y)\n"
     ]
    },
    {
     "name": "stdout",
     "output_type": "stream",
     "text": [
      "accuracy score 0.9020187099950763\n",
      "Confusion Matrix: \n",
      " [[1071  199]\n",
      " [   0  761]]\n",
      "F1 Score 0.884369552585706\n"
     ]
    },
    {
     "data": {
      "image/png": "[encoded data removed]",
      "text/plain": [
       "<Figure size 432x288 with 2 Axes>"
      ]
     },
     "metadata": {
      "needs_background": "light"
     },
     "output_type": "display_data"
    }
   ],
   "source": [
    "# KNN classifier\n",
    "from sklearn.neighbors import KNeighborsClassifier\n",
    "knmodel = KNeighborsClassifier()\n",
    "xtrain,xtest,ytrain,ytest = train_test_split(X,Y, test_size=0.25, random_state=3)\n",
    "knmodel.fit(xtrain,ytrain)\n",
    "ypred = knmodel.predict(xtest)\n",
    "plot_confusion_matrix(knmodel,xtrain,ytrain)\n",
    "print('accuracy score', accuracy_score(ypred, ytest))\n",
    "print('Confusion Matrix: \\n', confusion_matrix(ypred, ytest))\n",
    "print('F1 Score', f1_score(ypred, ytest))"
   ]
  },
  {
   "cell_type": "code",
   "execution_count": 31,
   "metadata": {},
   "outputs": [
    {
     "name": "stdout",
     "output_type": "stream",
     "text": [
      "Fitting 4 folds for each of 1728 candidates, totalling 6912 fits\n"
     ]
    },
    {
     "name": "stderr",
     "output_type": "stream",
     "text": [
      "C:\\Users\\user\\AppData\\Local\\Programs\\Python\\Python39\\lib\\site-packages\\sklearn\\neighbors\\_classification.py:179: DataConversionWarning: A column-vector y was passed when a 1d array was expected. Please change the shape of y to (n_samples,), for example using ravel().\n",
      "  return self._fit(X, y)\n"
     ]
    },
    {
     "data": {
      "text/plain": [
       "GridSearchCV(cv=4, estimator=KNeighborsClassifier(), n_jobs=-1,\n",
       "             param_grid={'algorithm': ['auto', 'ball_tree', 'kd_tree', 'brute'],\n",
       "                         'leaf_size': [10, 15, 20, 25, 30, 35, 40, 45, 50, 55,\n",
       "                                       60, 65, 70, 75, 80, 85, 90, 95],\n",
       "                         'n_neighbors': [2, 6, 10, 14, 18, 22, 26, 30, 34, 38,\n",
       "                                         42, 46],\n",
       "                         'weights': ['uniform', 'distance']},\n",
       "             scoring='accuracy', verbose=2)"
      ]
     },
     "execution_count": 31,
     "metadata": {},
     "output_type": "execute_result"
    }
   ],
   "source": [
    "from sklearn.model_selection import GridSearchCV\n",
    "from sklearn import neighbors\n",
    "grid = neighbors.KNeighborsClassifier()\n",
    "gridmodel = GridSearchCV(\n",
    "    grid,\n",
    "    param_grid={\n",
    "       'n_neighbors' : list(range(2,50,4)),\n",
    "       'weights': ['uniform', 'distance'],\n",
    "       'algorithm': ['auto','ball_tree','kd_tree', 'brute'],\n",
    "       'leaf_size': list(range(10,100,5))\n",
    "    },\n",
    "    cv = 4, scoring='accuracy', verbose=2, n_jobs=-1\n",
    ")\n",
    "gridmodel.fit(xtrain,ytrain)"
   ]
  },
  {
   "cell_type": "code",
   "execution_count": 36,
   "metadata": {},
   "outputs": [
    {
     "name": "stderr",
     "output_type": "stream",
     "text": [
      "C:\\Users\\user\\AppData\\Local\\Programs\\Python\\Python39\\lib\\site-packages\\sklearn\\neighbors\\_classification.py:179: DataConversionWarning: A column-vector y was passed when a 1d array was expected. Please change the shape of y to (n_samples,), for example using ravel().\n",
      "  return self._fit(X, y)\n",
      "C:\\Users\\user\\AppData\\Local\\Programs\\Python\\Python39\\lib\\site-packages\\sklearn\\neighbors\\_classification.py:179: DataConversionWarning: A column-vector y was passed when a 1d array was expected. Please change the shape of y to (n_samples,), for example using ravel().\n",
      "  return self._fit(X, y)\n",
      "C:\\Users\\user\\AppData\\Local\\Programs\\Python\\Python39\\lib\\site-packages\\sklearn\\neighbors\\_classification.py:179: DataConversionWarning: A column-vector y was passed when a 1d array was expected. Please change the shape of y to (n_samples,), for example using ravel().\n",
      "  return self._fit(X, y)\n"
     ]
    },
    {
     "data": {
      "text/plain": [
       "0.792220580994584"
      ]
     },
     "execution_count": 36,
     "metadata": {},
     "output_type": "execute_result"
    }
   ],
   "source": [
    "from sklearn.model_selection import cross_val_score\n",
    "knmodel = neighbors.KNeighborsClassifier()\n",
    "cv = cross_val_score(\n",
    "    knmodel, X,Y, cv =3, scoring = 'accuracy'\n",
    ")\n",
    "cv.mean()"
   ]
  },
  {
   "cell_type": "code",
   "execution_count": 33,
   "metadata": {},
   "outputs": [
    {
     "data": {
      "text/plain": [
       "{'algorithm': 'auto',\n",
       " 'leaf_size': 10,\n",
       " 'n_neighbors': 14,\n",
       " 'weights': 'distance'}"
      ]
     },
     "execution_count": 33,
     "metadata": {},
     "output_type": "execute_result"
    }
   ],
   "source": [
    "gridmodel.best_params_"
   ]
  },
  {
   "cell_type": "code",
   "execution_count": 125,
   "metadata": {},
   "outputs": [
    {
     "data": {
      "text/plain": [
       "KNeighborsClassifier(leaf_size=10, n_neighbors=14, weights='distance')"
      ]
     },
     "execution_count": 125,
     "metadata": {},
     "output_type": "execute_result"
    }
   ],
   "source": [
    "gridmodel.best_estimator_"
   ]
  },
  {
   "cell_type": "code",
   "execution_count": 27,
   "metadata": {},
   "outputs": [
    {
     "name": "stdout",
     "output_type": "stream",
     "text": [
      "Accuracy score 0.9113737075332349\n",
      "Confusion matrix \n",
      " [[1083  180]\n",
      " [   0  768]]\n",
      "F1 score 0.8951048951048951\n"
     ]
    },
    {
     "data": {
      "image/png": "[encoded data removed]",
      "text/plain": [
       "<Figure size 432x288 with 2 Axes>"
      ]
     },
     "metadata": {
      "needs_background": "light"
     },
     "output_type": "display_data"
    }
   ],
   "source": [
    "# decision tree classifier\n",
    "from sklearn import tree\n",
    "xtrain,xtest,ytrain, ytest = train_test_split(X,Y, test_size= 0.25,random_state=2)\n",
    "dtree = tree.DecisionTreeClassifier()\n",
    "dtree.fit(xtrain,ytrain)\n",
    "ypred = dtree.predict(xtest)\n",
    "plot_confusion_matrix(dtree,xtrain,ytrain)\n",
    "print('Accuracy score', accuracy_score(ypred, ytest))\n",
    "print('Confusion matrix \\n', confusion_matrix(ypred, ytest))\n",
    "print('F1 score', f1_score(ypred,ytest))\n"
   ]
  },
  {
   "cell_type": "code",
   "execution_count": 28,
   "metadata": {},
   "outputs": [
    {
     "data": {
      "text/plain": [
       "0.8749384539635647"
      ]
     },
     "execution_count": 28,
     "metadata": {},
     "output_type": "execute_result"
    }
   ],
   "source": [
    "from sklearn.model_selection import cross_val_score\n",
    "dtree = tree.DecisionTreeClassifier()\n",
    "cv = cross_val_score(\n",
    "    dtree,X, Y, cv = 3, scoring='accuracy'\n",
    ")\n",
    "cv.mean()"
   ]
  },
  {
   "cell_type": "code",
   "execution_count": 29,
   "metadata": {},
   "outputs": [
    {
     "data": {
      "text/plain": [
       "dict_keys(['ccp_alpha', 'class_weight', 'criterion', 'max_depth', 'max_features', 'max_leaf_nodes', 'min_impurity_decrease', 'min_impurity_split', 'min_samples_leaf', 'min_samples_split', 'min_weight_fraction_leaf', 'random_state', 'splitter'])"
      ]
     },
     "execution_count": 29,
     "metadata": {},
     "output_type": "execute_result"
    }
   ],
   "source": [
    "tree.DecisionTreeClassifier().get_params().keys()"
   ]
  },
  {
   "cell_type": "code",
   "execution_count": 30,
   "metadata": {},
   "outputs": [
    {
     "data": {
      "text/plain": [
       "RandomizedSearchCV(cv=3, estimator=DecisionTreeClassifier(), n_iter=9,\n",
       "                   n_jobs=-1,\n",
       "                   param_distributions={'criterion': ['gini', 'entropy'],\n",
       "                                        'max_depth': [2, 5, 8, 11, 14, 17, 20,\n",
       "                                                      23, 26, 29, 32, 35, 38,\n",
       "                                                      41, 44, 47],\n",
       "                                        'max_features': ['auto', 'sqrt', 'log2',\n",
       "                                                         None],\n",
       "                                        'max_leaf_nodes': [3, 6, 9, 12, 15, 18,\n",
       "                                                           21, 24, 27, 30, 33,\n",
       "                                                           36, 39, 42, 45, 48,\n",
       "                                                           51, 54],\n",
       "                                        'min_samples_split': [4, 7, 10, 13, 16,\n",
       "                                                              19, 22, 25, 28,\n",
       "                                                              31, 34, 37, 40,\n",
       "                                                              43, 46, 49],\n",
       "                                        'splitter': ['best', 'random']},\n",
       "                   scoring='accuracy')"
      ]
     },
     "execution_count": 30,
     "metadata": {},
     "output_type": "execute_result"
    }
   ],
   "source": [
    "from sklearn.model_selection import RandomizedSearchCV\n",
    "dtree = tree.DecisionTreeClassifier()\n",
    "gridtree = RandomizedSearchCV(\n",
    "    dtree,\n",
    "    param_distributions={\n",
    "        'criterion' : ['gini', 'entropy'],\n",
    "        'splitter' : ['best', 'random'], \n",
    "        'max_depth' : list(range(2,50,3)),\n",
    "        'max_leaf_nodes' : list(range(3,55,3)),\n",
    "        'min_samples_split' : list(range(4,50,3)),\n",
    "        'max_features' : ['auto','sqrt','log2',None]\n",
    "\n",
    "\n",
    "    },\n",
    "    cv = 3, scoring='accuracy', n_jobs=-1, n_iter=9\n",
    ")\n",
    "gridtree.fit(xtrain,ytrain)"
   ]
  },
  {
   "cell_type": "code",
   "execution_count": 31,
   "metadata": {},
   "outputs": [
    {
     "data": {
      "text/plain": [
       "DecisionTreeClassifier(max_depth=32, max_features='sqrt', max_leaf_nodes=24,\n",
       "                       min_samples_split=22)"
      ]
     },
     "execution_count": 31,
     "metadata": {},
     "output_type": "execute_result"
    }
   ],
   "source": [
    "gridtree.best_estimator_"
   ]
  },
  {
   "cell_type": "code",
   "execution_count": 32,
   "metadata": {},
   "outputs": [
    {
     "data": {
      "text/plain": [
       "{'splitter': 'best',\n",
       " 'min_samples_split': 22,\n",
       " 'max_leaf_nodes': 24,\n",
       " 'max_features': 'sqrt',\n",
       " 'max_depth': 32,\n",
       " 'criterion': 'gini'}"
      ]
     },
     "execution_count": 32,
     "metadata": {},
     "output_type": "execute_result"
    }
   ],
   "source": [
    "gridtree.best_params_"
   ]
  },
  {
   "cell_type": "code",
   "execution_count": 33,
   "metadata": {},
   "outputs": [
    {
     "data": {
      "text/plain": [
       "RandomizedSearchCV(cv=3, estimator=DecisionTreeClassifier(), n_iter=5,\n",
       "                   n_jobs=-1,\n",
       "                   param_distributions={'criterion': ['gini', 'entropy'],\n",
       "                                        'max_depth': [3, 6, 9, 12, 15, 18, 21,\n",
       "                                                      24, 27, 30, 33, 36, 39,\n",
       "                                                      42, 45, 48],\n",
       "                                        'max_features': ['auto', 'sqrt', 'log2',\n",
       "                                                         None],\n",
       "                                        'min_impurity_split': [3, 7, 11, 15, 19,\n",
       "                                                               23, 27, 31, 35,\n",
       "                                                               39, 43, 47, 51,\n",
       "                                                               55, 59],\n",
       "                                        'min_samples_split': [2, 5, 8, 11, 14,\n",
       "                                                              17],\n",
       "                                        'splitter': ['best', 'random']},\n",
       "                   scoring='accuracy')"
      ]
     },
     "execution_count": 33,
     "metadata": {},
     "output_type": "execute_result"
    }
   ],
   "source": [
    "dtree = tree.DecisionTreeClassifier()\n",
    "gridtree1 = RandomizedSearchCV(\n",
    "    dtree,\n",
    "    param_distributions={\n",
    "        'criterion' : ['gini', 'entropy'],\n",
    "        'splitter' : ['best', 'random'], \n",
    "        'max_depth' : list(range(3,50,3)),\n",
    "        'min_samples_split' : list(range(4,50,3)),\n",
    "        'max_features' : ['auto','sqrt','log2',None],\n",
    "        'min_impurity_split' : list(range(3,60,4)),\n",
    "        'min_samples_split' : list(range(2,20,3))\n",
    "    },\n",
    "    cv =3, scoring='accuracy', n_jobs=-1, n_iter=5\n",
    ")\n",
    "gridtree1.fit(xtrain,ytrain)"
   ]
  },
  {
   "cell_type": "code",
   "execution_count": 34,
   "metadata": {},
   "outputs": [
    {
     "data": {
      "text/plain": [
       "DecisionTreeClassifier(max_depth=30, max_features='sqrt', min_impurity_split=59,\n",
       "                       min_samples_split=11)"
      ]
     },
     "execution_count": 34,
     "metadata": {},
     "output_type": "execute_result"
    }
   ],
   "source": [
    "gridtree1.best_estimator_"
   ]
  },
  {
   "cell_type": "code",
   "execution_count": 35,
   "metadata": {},
   "outputs": [
    {
     "data": {
      "text/plain": [
       "{'splitter': 'best',\n",
       " 'min_samples_split': 11,\n",
       " 'min_impurity_split': 59,\n",
       " 'max_features': 'sqrt',\n",
       " 'max_depth': 30,\n",
       " 'criterion': 'gini'}"
      ]
     },
     "execution_count": 35,
     "metadata": {},
     "output_type": "execute_result"
    }
   ],
   "source": [
    "gridtree1.best_params_"
   ]
  },
  {
   "cell_type": "code",
   "execution_count": 37,
   "metadata": {},
   "outputs": [
    {
     "name": "stdout",
     "output_type": "stream",
     "text": [
      "confusion_matrix \n",
      " [[1083  180]\n",
      " [   0  768]]\n",
      "Accuracy score 0.9113737075332349\n",
      "F1 score 0.8951048951048951\n"
     ]
    },
    {
     "data": {
      "image/png": "[encoded data removed]",
      "text/plain": [
       "<Figure size 432x288 with 2 Axes>"
      ]
     },
     "metadata": {
      "needs_background": "light"
     },
     "output_type": "display_data"
    }
   ],
   "source": [
    "# Random Forest \n",
    "from sklearn import ensemble\n",
    "from sklearn.ensemble import RandomForestClassifier\n",
    "rfmodel = ensemble.RandomForestClassifier()\n",
    "xtrain,xtest,ytrain,ytest = train_test_split(X,Y, test_size=0.25, random_state=2)\n",
    "rfmodel.fit(xtrain,ytrain)\n",
    "ypred = rfmodel.predict(xtest)\n",
    "plot_confusion_matrix(rfmodel,xtrain,ytrain)\n",
    "print('confusion_matrix \\n', confusion_matrix(ypred,ytest))\n",
    "print('Accuracy score', accuracy_score(ypred,ytest))\n",
    "print('F1 score', f1_score(ypred, ytest))"
   ]
  },
  {
   "cell_type": "code",
   "execution_count": 39,
   "metadata": {},
   "outputs": [
    {
     "data": {
      "text/plain": [
       "0.8749384539635647"
      ]
     },
     "execution_count": 39,
     "metadata": {},
     "output_type": "execute_result"
    }
   ],
   "source": [
    "from sklearn.model_selection import cross_val_score\n",
    "rfmodel = ensemble.RandomForestClassifier()\n",
    "cv = cross_val_score(\n",
    "    rfmodel, X, Y, scoring= 'accuracy', cv = 3\n",
    ")\n",
    "cv.mean()"
   ]
  },
  {
   "cell_type": "code",
   "execution_count": 40,
   "metadata": {},
   "outputs": [
    {
     "data": {
      "text/plain": [
       "dict_keys(['bootstrap', 'ccp_alpha', 'class_weight', 'criterion', 'max_depth', 'max_features', 'max_leaf_nodes', 'max_samples', 'min_impurity_decrease', 'min_impurity_split', 'min_samples_leaf', 'min_samples_split', 'min_weight_fraction_leaf', 'n_estimators', 'n_jobs', 'oob_score', 'random_state', 'verbose', 'warm_start'])"
      ]
     },
     "execution_count": 40,
     "metadata": {},
     "output_type": "execute_result"
    }
   ],
   "source": [
    "ensemble.RandomForestClassifier().get_params().keys()"
   ]
  },
  {
   "cell_type": "code",
   "execution_count": 41,
   "metadata": {},
   "outputs": [
    {
     "name": "stdout",
     "output_type": "stream",
     "text": [
      "Fitting 3 folds for each of 10 candidates, totalling 30 fits\n"
     ]
    },
    {
     "data": {
      "text/plain": [
       "RandomizedSearchCV(cv=3, estimator=RandomForestClassifier(), n_jobs=-1,\n",
       "                   param_distributions={'criterion': ['gini', 'entropy'],\n",
       "                                        'max_depth': [2, 5, 8, 11, 14, 17, 20,\n",
       "                                                      23, 26, 29, 32, 35, 38,\n",
       "                                                      41, 44, 47, 50, 53],\n",
       "                                        'max_features': ['auto', 'sqrt', 'log2',\n",
       "                                                         None],\n",
       "                                        'max_leaf_nodes': [3, 6, 9, 12, 15, 18,\n",
       "                                                           21, 24, 27, 30, 33,\n",
       "                                                           36, 39, 42, 45, 48,\n",
       "                                                           51, 54, 57],\n",
       "                                        'min_samples_split': [2, 6, 10, 14, 18,\n",
       "                                                              22, 26, 30, 34,\n",
       "                                                              38, 42, 46, 50,\n",
       "                                                              54, 58, 62, 66],\n",
       "                                        'n_estimators': [3, 5, 7, 9, 11, 13, 15,\n",
       "                                                         17, 19, 21, 23, 25, 27,\n",
       "                                                         29, 31, 33, 35, 37, 39,\n",
       "                                                         41, 43, 45, 47],\n",
       "                                        'oob_score': [True, False],\n",
       "                                        'warm_start': [True, False]},\n",
       "                   scoring='accuracy', verbose=2)"
      ]
     },
     "execution_count": 41,
     "metadata": {},
     "output_type": "execute_result"
    }
   ],
   "source": [
    "from sklearn.model_selection import RandomizedSearchCV\n",
    "rfmodel = ensemble.RandomForestClassifier()\n",
    "gridmodel = RandomizedSearchCV(\n",
    "    rfmodel, \n",
    "    param_distributions={\n",
    "        'criterion' : ['gini', 'entropy'],\n",
    "        'max_depth' : list(range(2,55,3)), \n",
    "        'max_features' : ['auto','sqrt','log2', None],\n",
    "        'min_samples_split' : list(range(2,70,4)),\n",
    "        'max_leaf_nodes' : list(range(3,60,3)),\n",
    "        'oob_score' : [True, False],\n",
    "        'warm_start' : [True, False],\n",
    "        'n_estimators' : list(range(3,48,2))\n",
    "    },\n",
    "    cv = 3, scoring=\"accuracy\", n_jobs=-1, verbose=2\n",
    "\n",
    ")\n",
    "gridmodel.fit(xtrain, ytrain)"
   ]
  },
  {
   "cell_type": "code",
   "execution_count": 42,
   "metadata": {},
   "outputs": [
    {
     "data": {
      "text/plain": [
       "RandomForestClassifier(max_depth=14, max_leaf_nodes=48, min_samples_split=50,\n",
       "                       n_estimators=13)"
      ]
     },
     "execution_count": 42,
     "metadata": {},
     "output_type": "execute_result"
    }
   ],
   "source": [
    "gridmodel.best_estimator_"
   ]
  },
  {
   "cell_type": "code",
   "execution_count": 43,
   "metadata": {},
   "outputs": [
    {
     "data": {
      "text/plain": [
       "{'warm_start': False,\n",
       " 'oob_score': False,\n",
       " 'n_estimators': 13,\n",
       " 'min_samples_split': 50,\n",
       " 'max_leaf_nodes': 48,\n",
       " 'max_features': 'auto',\n",
       " 'max_depth': 14,\n",
       " 'criterion': 'gini'}"
      ]
     },
     "execution_count": 43,
     "metadata": {},
     "output_type": "execute_result"
    }
   ],
   "source": [
    "gridmodel.best_params_"
   ]
  },
  {
   "cell_type": "code",
   "execution_count": 23,
   "metadata": {},
   "outputs": [
    {
     "name": "stderr",
     "output_type": "stream",
     "text": [
      "C:\\Users\\user\\AppData\\Local\\Programs\\Python\\Python39\\lib\\site-packages\\sklearn\\utils\\validation.py:63: DataConversionWarning: A column-vector y was passed when a 1d array was expected. Please change the shape of y to (n_samples, ), for example using ravel().\n",
      "  return f(*args, **kwargs)\n"
     ]
    },
    {
     "name": "stdout",
     "output_type": "stream",
     "text": [
      "Confusion Matrix \n",
      " [[899 243]\n",
      " [172 717]]\n",
      "Accuracy Score 0.7956671590349581\n",
      "F1 score 0.7755543537047053\n"
     ]
    },
    {
     "data": {
      "image/png": "[encoded data removed]",
      "text/plain": [
       "<Figure size 432x288 with 2 Axes>"
      ]
     },
     "metadata": {
      "needs_background": "light"
     },
     "output_type": "display_data"
    }
   ],
   "source": [
    "# SVM algorithm\n",
    "from sklearn import svm\n",
    "xtrain, xtest,ytrain, ytest =  train_test_split(X,Y, test_size=0.25, random_state=3)\n",
    "svm_cls = svm.SVC(kernel='poly')\n",
    "svm_cls.fit(xtrain,ytrain)\n",
    "ypred = svm_cls.predict(xtest)\n",
    "plot_confusion_matrix(svm_cls,xtrain,ytrain)\n",
    "print('Confusion Matrix \\n', confusion_matrix(ypred, ytest))\n",
    "print('Accuracy Score', accuracy_score(ypred,ytest))\n",
    "print('F1 score', f1_score(ypred, ytest))"
   ]
  },
  {
   "cell_type": "code",
   "execution_count": 24,
   "metadata": {},
   "outputs": [
    {
     "name": "stderr",
     "output_type": "stream",
     "text": [
      "C:\\Users\\user\\AppData\\Local\\Programs\\Python\\Python39\\lib\\site-packages\\sklearn\\utils\\validation.py:63: DataConversionWarning: A column-vector y was passed when a 1d array was expected. Please change the shape of y to (n_samples, ), for example using ravel().\n",
      "  return f(*args, **kwargs)\n"
     ]
    },
    {
     "name": "stdout",
     "output_type": "stream",
     "text": [
      "Confusion Matrix \n",
      " [[866 327]\n",
      " [205 633]]\n",
      "Accuracy score 0.7380600689315608\n",
      "F1 score 0.7041156840934372\n"
     ]
    },
    {
     "data": {
      "image/png": "[encoded data removed]",
      "text/plain": [
       "<Figure size 432x288 with 2 Axes>"
      ]
     },
     "metadata": {
      "needs_background": "light"
     },
     "output_type": "display_data"
    }
   ],
   "source": [
    "svm_cls1 = svm.SVC(kernel='linear')\n",
    "svm_cls1.fit(xtrain,ytrain)\n",
    "ypred = svm_cls1.predict(xtest)\n",
    "plot_confusion_matrix(svm_cls1, xtrain, ytrain)\n",
    "print('Confusion Matrix \\n', confusion_matrix(ypred, ytest))\n",
    "print('Accuracy score', accuracy_score(ypred, ytest))\n",
    "print('F1 score', f1_score(ypred, ytest))"
   ]
  },
  {
   "cell_type": "code",
   "execution_count": 26,
   "metadata": {},
   "outputs": [
    {
     "name": "stderr",
     "output_type": "stream",
     "text": [
      "C:\\Users\\user\\AppData\\Local\\Programs\\Python\\Python39\\lib\\site-packages\\sklearn\\utils\\validation.py:63: DataConversionWarning: A column-vector y was passed when a 1d array was expected. Please change the shape of y to (n_samples, ), for example using ravel().\n",
      "  return f(*args, **kwargs)\n"
     ]
    },
    {
     "name": "stdout",
     "output_type": "stream",
     "text": [
      "Confusion Matrix \n",
      " [[1065  233]\n",
      " [   6  727]]\n",
      "Accuracy score 0.8823239783357951\n",
      "F1 Score 0.858830478440638\n"
     ]
    },
    {
     "data": {
      "image/png": "[encoded data removed]",
      "text/plain": [
       "<Figure size 432x288 with 2 Axes>"
      ]
     },
     "metadata": {
      "needs_background": "light"
     },
     "output_type": "display_data"
    }
   ],
   "source": [
    "svm_cls2 = svm.SVC(kernel='rbf')\n",
    "svm_cls2.fit(xtrain,ytrain)\n",
    "ypred = svm_cls2.predict(xtest)\n",
    "plot_confusion_matrix(svm_cls2,xtrain, ytrain)\n",
    "print('Confusion Matrix \\n', confusion_matrix(ypred, ytest))\n",
    "print('Accuracy score', accuracy_score(ypred, ytest))\n",
    "print('F1 Score', f1_score(ypred, ytest))"
   ]
  },
  {
   "cell_type": "code",
   "execution_count": 28,
   "metadata": {},
   "outputs": [
    {
     "name": "stderr",
     "output_type": "stream",
     "text": [
      "C:\\Users\\user\\AppData\\Local\\Programs\\Python\\Python39\\lib\\site-packages\\sklearn\\utils\\validation.py:63: DataConversionWarning: A column-vector y was passed when a 1d array was expected. Please change the shape of y to (n_samples, ), for example using ravel().\n",
      "  return f(*args, **kwargs)\n",
      "C:\\Users\\user\\AppData\\Local\\Programs\\Python\\Python39\\lib\\site-packages\\sklearn\\utils\\validation.py:63: DataConversionWarning: A column-vector y was passed when a 1d array was expected. Please change the shape of y to (n_samples, ), for example using ravel().\n",
      "  return f(*args, **kwargs)\n",
      "C:\\Users\\user\\AppData\\Local\\Programs\\Python\\Python39\\lib\\site-packages\\sklearn\\utils\\validation.py:63: DataConversionWarning: A column-vector y was passed when a 1d array was expected. Please change the shape of y to (n_samples, ), for example using ravel().\n",
      "  return f(*args, **kwargs)\n"
     ]
    },
    {
     "data": {
      "text/plain": [
       "0.7785573609059577"
      ]
     },
     "execution_count": 28,
     "metadata": {},
     "output_type": "execute_result"
    }
   ],
   "source": [
    "from sklearn.model_selection import cross_val_score\n",
    "cv = cross_val_score(\n",
    "    svm_cls, X, Y, cv =3, scoring='accuracy'\n",
    ")\n",
    "cv.mean()"
   ]
  },
  {
   "cell_type": "code",
   "execution_count": 36,
   "metadata": {},
   "outputs": [
    {
     "data": {
      "text/plain": [
       "0.6682668636139832"
      ]
     },
     "execution_count": 36,
     "metadata": {},
     "output_type": "execute_result"
    }
   ],
   "source": [
    "cv1 = cross_val_score(\n",
    "    svm_cls1, X,Y, cv = 2, scoring='accuracy'\n",
    ")\n",
    "cv1.mean()"
   ]
  },
  {
   "cell_type": "code",
   "execution_count": 29,
   "metadata": {},
   "outputs": [
    {
     "name": "stderr",
     "output_type": "stream",
     "text": [
      "C:\\Users\\user\\AppData\\Local\\Programs\\Python\\Python39\\lib\\site-packages\\sklearn\\utils\\validation.py:63: DataConversionWarning: A column-vector y was passed when a 1d array was expected. Please change the shape of y to (n_samples, ), for example using ravel().\n",
      "  return f(*args, **kwargs)\n",
      "C:\\Users\\user\\AppData\\Local\\Programs\\Python\\Python39\\lib\\site-packages\\sklearn\\utils\\validation.py:63: DataConversionWarning: A column-vector y was passed when a 1d array was expected. Please change the shape of y to (n_samples, ), for example using ravel().\n",
      "  return f(*args, **kwargs)\n"
     ]
    },
    {
     "data": {
      "text/plain": [
       "0.8589364844903988"
      ]
     },
     "execution_count": 29,
     "metadata": {},
     "output_type": "execute_result"
    }
   ],
   "source": [
    "cv2 = cross_val_score(\n",
    "    svm_cls2, X,Y, cv = 2, scoring='accuracy'\n",
    ")\n",
    "cv2.mean()"
   ]
  },
  {
   "cell_type": "code",
   "execution_count": 40,
   "metadata": {},
   "outputs": [
    {
     "data": {
      "text/plain": [
       "dict_keys(['C', 'break_ties', 'cache_size', 'class_weight', 'coef0', 'decision_function_shape', 'degree', 'gamma', 'kernel', 'max_iter', 'probability', 'random_state', 'shrinking', 'tol', 'verbose'])"
      ]
     },
     "execution_count": 40,
     "metadata": {},
     "output_type": "execute_result"
    }
   ],
   "source": [
    "svm.SVC().get_params().keys()"
   ]
  },
  {
   "cell_type": "code",
   "execution_count": null,
   "metadata": {},
   "outputs": [],
   "source": [
    "from sklearn.model_selection import RandomizedSearchCV\n",
    "svm_model = svm.SVC()\n",
    "gridmodel =  RandomizedSearchCV(\n",
    "    svm_model,\n",
    "    param_distributions={\n",
    "        'C' : list(range(3,int(np.sqrt(150)),3)),\n",
    "        'kernel' : ['linear', 'poly','rbf','sigmoid', 'precomputed'],\n",
    "        'degree' : [2,3,4,5,6,7],\n",
    "        'gamma' : ['scale', 'auto'],\n",
    "        #'shrinking' : [True, False],\n",
    "        #'probability' : [True, False],\n",
    "        'max_iter' : list(range(50,200,40)),\n",
    "        'decision_function_shape' : ['ovo','ovr']\n",
    "\n",
    "    },\n",
    "    cv =3, scoring = 'accuracy', n_jobs= -1, verbose= 2\n",
    ")\n",
    "gridmodel.fit(xtrain,ytrain)"
   ]
  },
  {
   "cell_type": "code",
   "execution_count": 46,
   "metadata": {},
   "outputs": [
    {
     "name": "stdout",
     "output_type": "stream",
     "text": [
      "Fitting 5 folds for each of 10 candidates, totalling 50 fits\n"
     ]
    },
    {
     "data": {
      "text/plain": [
       "RandomizedSearchCV(cv=5, estimator=SVC(), n_jobs=-1,\n",
       "                   param_distributions={'C': [3, 6, 9],\n",
       "                                        'decision_function_shape': ['ovr',\n",
       "                                                                    'ovo'],\n",
       "                                        'degree': [2, 3, 4, 5, 6],\n",
       "                                        'gamma': ['scale', 'auto'],\n",
       "                                        'kernel': ['linear', 'rbf', 'poly'],\n",
       "                                        'max_iter': [100, 200, 300, 400, 500,\n",
       "                                                     600, 700, 800, 900, 1000,\n",
       "                                                     1100, 1200, 1300, 1400,\n",
       "                                                     1500, 1600, 1700, 1800,\n",
       "                                                     1900, 2000, 2100, 2200,\n",
       "                                                     2300, 2400, 2500, 2600,\n",
       "                                                     2700, 2800, 2900],\n",
       "                                        'probability': [True, False],\n",
       "                                        'shrinking': [True, False]},\n",
       "                   scoring='accuracy', verbose=3)"
      ]
     },
     "execution_count": 46,
     "metadata": {},
     "output_type": "execute_result"
    }
   ],
   "source": [
    "from sklearn.model_selection import RandomizedSearchCV\n",
    "svm_model = svm.SVC()\n",
    "model = RandomizedSearchCV(\n",
    "    svm_model,\n",
    "    param_distributions={\n",
    "        'C': list(range(3,int(np.sqrt(150)),3)),\n",
    "        'max_iter':list(range(100,3000, 100)),\n",
    "        'kernel':['linear','rbf', 'poly'],\n",
    "        'degree': [2,3,4,5,6],\n",
    "        'shrinking' : [True, False],\n",
    "        'probability' : [True, False],\n",
    "        'gamma': ['scale', 'auto'],\n",
    "        'decision_function_shape': ['ovr', 'ovo']\n",
    "\n",
    "    },\n",
    "    cv = 5, scoring ='accuracy', n_jobs=-1, verbose=3\n",
    ")\n",
    "model.fit(xtrain,ytrain)"
   ]
  },
  {
   "cell_type": "code",
   "execution_count": 47,
   "metadata": {},
   "outputs": [
    {
     "data": {
      "text/plain": [
       "SVC(C=6, decision_function_shape='ovo', degree=4, gamma='auto', max_iter=1500,\n",
       "    shrinking=False)"
      ]
     },
     "execution_count": 47,
     "metadata": {},
     "output_type": "execute_result"
    }
   ],
   "source": [
    "model.best_estimator_"
   ]
  },
  {
   "cell_type": "code",
   "execution_count": 48,
   "metadata": {},
   "outputs": [
    {
     "data": {
      "text/plain": [
       "{'shrinking': False,\n",
       " 'probability': False,\n",
       " 'max_iter': 1500,\n",
       " 'kernel': 'rbf',\n",
       " 'gamma': 'auto',\n",
       " 'degree': 4,\n",
       " 'decision_function_shape': 'ovo',\n",
       " 'C': 6}"
      ]
     },
     "execution_count": 48,
     "metadata": {},
     "output_type": "execute_result"
    }
   ],
   "source": [
    "model.best_params_"
   ]
  },
  {
   "cell_type": "code",
   "execution_count": 38,
   "metadata": {},
   "outputs": [
    {
     "ename": "ValueError",
     "evalue": "X has 1 features, but KMeans is expecting 2 features as input.",
     "output_type": "error",
     "traceback": [
      "\u001b[1;31m---------------------------------------------------------------------------\u001b[0m",
      "\u001b[1;31mValueError\u001b[0m                                Traceback (most recent call last)",
      "\u001b[1;32m~\\AppData\\Local\\Temp/ipykernel_10176/4065964480.py\u001b[0m in \u001b[0;36m<module>\u001b[1;34m\u001b[0m\n\u001b[0;32m      4\u001b[0m \u001b[0mkmodel\u001b[0m \u001b[1;33m=\u001b[0m \u001b[0mKMeans\u001b[0m\u001b[1;33m(\u001b[0m\u001b[1;33m)\u001b[0m\u001b[1;33m\u001b[0m\u001b[1;33m\u001b[0m\u001b[0m\n\u001b[0;32m      5\u001b[0m \u001b[0mkmodel\u001b[0m\u001b[1;33m.\u001b[0m\u001b[0mfit\u001b[0m\u001b[1;33m(\u001b[0m\u001b[0mxtrain\u001b[0m\u001b[1;33m,\u001b[0m\u001b[0mytrain\u001b[0m\u001b[1;33m)\u001b[0m\u001b[1;33m\u001b[0m\u001b[1;33m\u001b[0m\u001b[0m\n\u001b[1;32m----> 6\u001b[1;33m \u001b[0mypred\u001b[0m \u001b[1;33m=\u001b[0m \u001b[0mkmodel\u001b[0m\u001b[1;33m.\u001b[0m\u001b[0mpredict\u001b[0m\u001b[1;33m(\u001b[0m\u001b[0mxtest\u001b[0m\u001b[1;33m)\u001b[0m\u001b[1;33m\u001b[0m\u001b[1;33m\u001b[0m\u001b[0m\n\u001b[0m\u001b[0;32m      7\u001b[0m \u001b[0mprint\u001b[0m\u001b[1;33m(\u001b[0m\u001b[1;34m'confusion_matrix'\u001b[0m\u001b[1;33m,\u001b[0m \u001b[0mconfusion_matrix\u001b[0m\u001b[1;33m(\u001b[0m\u001b[0mypred\u001b[0m\u001b[1;33m,\u001b[0m \u001b[0mytest\u001b[0m\u001b[1;33m)\u001b[0m\u001b[1;33m)\u001b[0m\u001b[1;33m\u001b[0m\u001b[1;33m\u001b[0m\u001b[0m\n",
      "\u001b[1;32m~\\AppData\\Local\\Programs\\Python\\Python39\\lib\\site-packages\\sklearn\\cluster\\_kmeans.py\u001b[0m in \u001b[0;36mpredict\u001b[1;34m(self, X, sample_weight)\u001b[0m\n\u001b[0;32m   1154\u001b[0m         \u001b[0mcheck_is_fitted\u001b[0m\u001b[1;33m(\u001b[0m\u001b[0mself\u001b[0m\u001b[1;33m)\u001b[0m\u001b[1;33m\u001b[0m\u001b[1;33m\u001b[0m\u001b[0m\n\u001b[0;32m   1155\u001b[0m \u001b[1;33m\u001b[0m\u001b[0m\n\u001b[1;32m-> 1156\u001b[1;33m         \u001b[0mX\u001b[0m \u001b[1;33m=\u001b[0m \u001b[0mself\u001b[0m\u001b[1;33m.\u001b[0m\u001b[0m_check_test_data\u001b[0m\u001b[1;33m(\u001b[0m\u001b[0mX\u001b[0m\u001b[1;33m)\u001b[0m\u001b[1;33m\u001b[0m\u001b[1;33m\u001b[0m\u001b[0m\n\u001b[0m\u001b[0;32m   1157\u001b[0m         \u001b[0mx_squared_norms\u001b[0m \u001b[1;33m=\u001b[0m \u001b[0mrow_norms\u001b[0m\u001b[1;33m(\u001b[0m\u001b[0mX\u001b[0m\u001b[1;33m,\u001b[0m \u001b[0msquared\u001b[0m\u001b[1;33m=\u001b[0m\u001b[1;32mTrue\u001b[0m\u001b[1;33m)\u001b[0m\u001b[1;33m\u001b[0m\u001b[1;33m\u001b[0m\u001b[0m\n\u001b[0;32m   1158\u001b[0m         \u001b[0msample_weight\u001b[0m \u001b[1;33m=\u001b[0m \u001b[0m_check_sample_weight\u001b[0m\u001b[1;33m(\u001b[0m\u001b[0msample_weight\u001b[0m\u001b[1;33m,\u001b[0m \u001b[0mX\u001b[0m\u001b[1;33m,\u001b[0m \u001b[0mdtype\u001b[0m\u001b[1;33m=\u001b[0m\u001b[0mX\u001b[0m\u001b[1;33m.\u001b[0m\u001b[0mdtype\u001b[0m\u001b[1;33m)\u001b[0m\u001b[1;33m\u001b[0m\u001b[1;33m\u001b[0m\u001b[0m\n",
      "\u001b[1;32m~\\AppData\\Local\\Programs\\Python\\Python39\\lib\\site-packages\\sklearn\\cluster\\_kmeans.py\u001b[0m in \u001b[0;36m_check_test_data\u001b[1;34m(self, X)\u001b[0m\n\u001b[0;32m    856\u001b[0m \u001b[1;33m\u001b[0m\u001b[0m\n\u001b[0;32m    857\u001b[0m     \u001b[1;32mdef\u001b[0m \u001b[0m_check_test_data\u001b[0m\u001b[1;33m(\u001b[0m\u001b[0mself\u001b[0m\u001b[1;33m,\u001b[0m \u001b[0mX\u001b[0m\u001b[1;33m)\u001b[0m\u001b[1;33m:\u001b[0m\u001b[1;33m\u001b[0m\u001b[1;33m\u001b[0m\u001b[0m\n\u001b[1;32m--> 858\u001b[1;33m         X = self._validate_data(X, accept_sparse='csr', reset=False,\n\u001b[0m\u001b[0;32m    859\u001b[0m                                 \u001b[0mdtype\u001b[0m\u001b[1;33m=\u001b[0m\u001b[1;33m[\u001b[0m\u001b[0mnp\u001b[0m\u001b[1;33m.\u001b[0m\u001b[0mfloat64\u001b[0m\u001b[1;33m,\u001b[0m \u001b[0mnp\u001b[0m\u001b[1;33m.\u001b[0m\u001b[0mfloat32\u001b[0m\u001b[1;33m]\u001b[0m\u001b[1;33m,\u001b[0m\u001b[1;33m\u001b[0m\u001b[1;33m\u001b[0m\u001b[0m\n\u001b[0;32m    860\u001b[0m                                 order='C', accept_large_sparse=False)\n",
      "\u001b[1;32m~\\AppData\\Local\\Programs\\Python\\Python39\\lib\\site-packages\\sklearn\\base.py\u001b[0m in \u001b[0;36m_validate_data\u001b[1;34m(self, X, y, reset, validate_separately, **check_params)\u001b[0m\n\u001b[0;32m    435\u001b[0m \u001b[1;33m\u001b[0m\u001b[0m\n\u001b[0;32m    436\u001b[0m         \u001b[1;32mif\u001b[0m \u001b[0mcheck_params\u001b[0m\u001b[1;33m.\u001b[0m\u001b[0mget\u001b[0m\u001b[1;33m(\u001b[0m\u001b[1;34m'ensure_2d'\u001b[0m\u001b[1;33m,\u001b[0m \u001b[1;32mTrue\u001b[0m\u001b[1;33m)\u001b[0m\u001b[1;33m:\u001b[0m\u001b[1;33m\u001b[0m\u001b[1;33m\u001b[0m\u001b[0m\n\u001b[1;32m--> 437\u001b[1;33m             \u001b[0mself\u001b[0m\u001b[1;33m.\u001b[0m\u001b[0m_check_n_features\u001b[0m\u001b[1;33m(\u001b[0m\u001b[0mX\u001b[0m\u001b[1;33m,\u001b[0m \u001b[0mreset\u001b[0m\u001b[1;33m=\u001b[0m\u001b[0mreset\u001b[0m\u001b[1;33m)\u001b[0m\u001b[1;33m\u001b[0m\u001b[1;33m\u001b[0m\u001b[0m\n\u001b[0m\u001b[0;32m    438\u001b[0m \u001b[1;33m\u001b[0m\u001b[0m\n\u001b[0;32m    439\u001b[0m         \u001b[1;32mreturn\u001b[0m \u001b[0mout\u001b[0m\u001b[1;33m\u001b[0m\u001b[1;33m\u001b[0m\u001b[0m\n",
      "\u001b[1;32m~\\AppData\\Local\\Programs\\Python\\Python39\\lib\\site-packages\\sklearn\\base.py\u001b[0m in \u001b[0;36m_check_n_features\u001b[1;34m(self, X, reset)\u001b[0m\n\u001b[0;32m    363\u001b[0m \u001b[1;33m\u001b[0m\u001b[0m\n\u001b[0;32m    364\u001b[0m         \u001b[1;32mif\u001b[0m \u001b[0mn_features\u001b[0m \u001b[1;33m!=\u001b[0m \u001b[0mself\u001b[0m\u001b[1;33m.\u001b[0m\u001b[0mn_features_in_\u001b[0m\u001b[1;33m:\u001b[0m\u001b[1;33m\u001b[0m\u001b[1;33m\u001b[0m\u001b[0m\n\u001b[1;32m--> 365\u001b[1;33m             raise ValueError(\n\u001b[0m\u001b[0;32m    366\u001b[0m                 \u001b[1;34mf\"X has {n_features} features, but {self.__class__.__name__} \"\u001b[0m\u001b[1;33m\u001b[0m\u001b[1;33m\u001b[0m\u001b[0m\n\u001b[0;32m    367\u001b[0m                 f\"is expecting {self.n_features_in_} features as input.\")\n",
      "\u001b[1;31mValueError\u001b[0m: X has 1 features, but KMeans is expecting 2 features as input."
     ]
    }
   ],
   "source": [
    "# K-means cluster\n",
    "from sklearn.cluster import KMeans\n",
    "xtrain,ytrain,xtest,ytest = train_test_split(X,Y, test_size=0.25, random_state=3)\n",
    "kmodel = KMeans()\n",
    "kmodel.fit(xtrain,ytrain)\n",
    "ypred = kmodel.predict(xtest)\n",
    "print('confusion_matrix', confusion_matrix(ypred, ytest))\n"
   ]
  }
 ],
 "metadata": {
  "interpreter": {
   "hash": "247ab06e135bb35fa78c5eff31b2a9a0050dcb5fb773c2631d2a29ac689eeccb"
  },
  "kernelspec": {
   "display_name": "Python 3.9.5 64-bit",
   "language": "python",
   "name": "python3"
  },
  "language_info": {
   "codemirror_mode": {
    "name": "ipython",
    "version": 3
   },
   "file_extension": ".py",
   "mimetype": "text/x-python",
   "name": "python",
   "nbconvert_exporter": "python",
   "pygments_lexer": "ipython3",
   "version": "3.9.5"
  },
  "orig_nbformat": 4
 },
 "nbformat": 4,
 "nbformat_minor": 2
}
