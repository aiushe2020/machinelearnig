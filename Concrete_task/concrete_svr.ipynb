{
 "cells": [
  {
   "cell_type": "code",
   "execution_count": 1,
   "metadata": {},
   "outputs": [],
   "source": [
    "import numpy as np\n",
    "import pandas as pd\n",
    "import seaborn as sns\n",
    "import matplotlib.pyplot as plt\n",
    "%matplotlib inline"
   ]
  },
  {
   "cell_type": "code",
   "execution_count": null,
   "metadata": {},
   "outputs": [],
   "source": [
    "data = pd.read_excel('C:\\\\Users\\\\user\\\\Downloads\\\\Concrete_Data.xls')"
   ]
  },
  {
   "cell_type": "code",
   "execution_count": 3,
   "metadata": {},
   "outputs": [],
   "source": [
    "data.columns = ['Cement',\n",
    "       'Blast_Furnace_Slag',\n",
    "       'Fly_Ash',\n",
    "       'Water',\n",
    "       'Superplasticizer',\n",
    "       'Coarse_Aggregate',\n",
    "       'Fine_Aggregate', 'Age',\n",
    "       'Concrete_compressive_strength']"
   ]
  },
  {
   "cell_type": "code",
   "execution_count": 4,
   "metadata": {},
   "outputs": [],
   "source": [
    "from sklearn.model_selection import train_test_split\n",
    "from sklearn.metrics import mean_absolute_percentage_error, mean_squared_error, r2_score"
   ]
  },
  {
   "cell_type": "code",
   "execution_count": 5,
   "metadata": {},
   "outputs": [
    {
     "name": "stdout",
     "output_type": "stream",
     "text": [
      "========== RBF ==============\n",
      "MSE:  179.07625527332934\n",
      "RS Score:  -1.1983956908230864\n",
      "========== Linear ==============\n",
      "MSE:  182.9572018596003\n",
      "RS Score:  -1.6150664776348083\n",
      "========== Polynomial ==============\n",
      "MSE:  178.83363734138246\n",
      "RS Score:  -1.1825520202950983\n"
     ]
    }
   ],
   "source": [
    "## Support Vector Regression\n",
    "# Data\n",
    "X = data[['Cement','Blast_Furnace_Slag']]\n",
    "Y = data[['Concrete_compressive_strength']]\n",
    "\n",
    "## Split\n",
    "from sklearn.model_selection import train_test_split\n",
    "xtrain, xtest, ytrain, ytest = train_test_split(X, Y, test_size=0.2, random_state=1)\n",
    "\n",
    "## Model Init\n",
    "from sklearn.svm import SVR\n",
    "\n",
    "svrR = SVR()\n",
    "svrL = SVR(kernel='linear', C=150, epsilon=8)\n",
    "svrP = SVR(kernel='poly', degree=1)\n",
    "## Training\n",
    "svrR.fit(xtrain, ytrain.values.ravel())\n",
    "svrL.fit(xtrain, ytrain.values.ravel())\n",
    "svrP.fit(xtrain, ytrain.values.ravel())\n",
    "\n",
    "## Test Prediction\n",
    "yhatR = svrR.predict(xtest)\n",
    "yhatL = svrL.predict(xtest)\n",
    "yhatP = svrP.predict(xtest)\n",
    "## Evaluation\n",
    "from sklearn.metrics import mean_squared_error, r2_score\n",
    "print(f\"========== RBF ==============\")\n",
    "print(\"MSE: \", mean_squared_error(yhatR,ytest.values.ravel()))\n",
    "print(\"RS Score: \", r2_score(yhatR, ytest.values.ravel()))\n",
    "print(f\"========== Linear ==============\")\n",
    "print(\"MSE: \", mean_squared_error(yhatL,ytest.values.ravel()))\n",
    "print(\"RS Score: \", r2_score(yhatL, ytest.values.ravel()))\n",
    "print(f\"========== Polynomial ==============\")\n",
    "print(\"MSE: \", mean_squared_error(yhatP,ytest.values.ravel()))\n",
    "print(\"RS Score: \", r2_score(yhatP, ytest.values.ravel()))"
   ]
  },
  {
   "cell_type": "code",
   "execution_count": null,
   "metadata": {},
   "outputs": [
    {
     "name": "stdout",
     "output_type": "stream",
     "text": [
      "Fitting 5 folds for each of 72 candidates, totalling 360 fits\n"
     ]
    }
   ],
   "source": [
    "## GridSearchCv\n",
    "from sklearn.model_selection import GridSearchCV\n",
    "svrL = SVR(kernel='linear')\n",
    "grid = GridSearchCV(\n",
    "    svrL,\n",
    "   param_grid={\n",
    "        'C':[1.1,5.4,160,180],\n",
    "        'epsilon': [0.0003, 0.007, 0.0109, 0.019, 0.14, 0.05],\n",
    "        \"gamma\":[\"auto\",\"scale\",0.1]\n",
    "    },\n",
    "    scoring=\"neg_mean_squared_error\",\n",
    "    refit=True,\n",
    "    verbose=1,\n",
    "    cv=5\n",
    ")\n",
    "\n",
    "# Fit\n",
    "grid.fit(xtrain[['Cement']], ytrain.values.ravel())\n",
    "\n",
    "\n",
    "# get best hyperparameter\n",
    "grid.best_params_"
   ]
  },
  {
   "cell_type": "code",
   "execution_count": null,
   "metadata": {},
   "outputs": [],
   "source": [
    "X = data[['Cement','Blast_Furnace_Slag']]\n",
    "Y = data[['Concrete_compressive_strength']]"
   ]
  },
  {
   "cell_type": "code",
   "execution_count": null,
   "metadata": {},
   "outputs": [],
   "source": [
    "# SVR Analyssis\n",
    "\n",
    "line1 = np.linspace(1, 500, 853).reshape(-1, 1)\n",
    "line2 = np.linspace(5, 350, 853).reshape(-1, 1)\n",
    "feature = pd.DataFrame(\n",
    "    {\n",
    "        \"C\": line1[:, 0],\n",
    "        \"B\": line2[:, 0]\n",
    "    }\n",
    ")\n",
    "from sklearn.model_selection import train_test_split\n",
    "xtrain, xtest, ytrain, ytest = train_test_split(X, Y, test_size=0.2, random_state=1)\n",
    "# 3D Plot\n",
    "fig = plt.figure()\n",
    "axes = plt.axes(projection=\"3d\")\n",
    "\n",
    "axes.scatter3D(xtrain[['Cement']],\n",
    "               xtrain[['Blast_Furnace_Slag']], ytrain.values.ravel())\n",
    "axes.plot3D(\n",
    "    feature[[\"C\"]].values.ravel(),\n",
    "    feature[['B']].values.ravel(),\n",
    "    svrL.predict(feature),\n",
    "    c=\"darkorange\",\n",
    "    label=\"SVR\"\n",
    ")\n",
    "axes.plot3D(\n",
    "    feature[[\"C\"]].values.ravel(),\n",
    "    feature[['B']].values.ravel(),\n",
    "    svrP.predict(feature),\n",
    "    c=\"purple\",\n",
    "    label=\"SVR POLY\"\n",
    ")\n",
    "axes.plot3D(\n",
    "    feature[[\"C\"]].values.ravel(),\n",
    "    feature[['B']].values.ravel(),\n",
    "    svrR.predict(feature),\n",
    "    c=\"green\",\n",
    "    label=\"SVR RBF\"\n",
    ")\n",
    "\n",
    "axes.set_xlabel(\"Cement\")\n",
    "axes.set_ylabel(\"Blast_Furnace_Slag\")\n",
    "axes.set_zlabel(\"Concrete_compressive_strength\")\n",
    "plt.legend()\n",
    "plt.show()\n"
   ]
  },
  {
   "cell_type": "code",
   "execution_count": null,
   "metadata": {},
   "outputs": [],
   "source": [
    "print(int(X[['Cement']].values.min()))\n",
    "print(int(X[['Cement']].values.max()))\n",
    "print(int(X[['Blast_Furnace_Slag']].values.min()))\n",
    "print(int(X[['Blast_Furnace_Slag']].values.max()))"
   ]
  },
  {
   "cell_type": "code",
   "execution_count": null,
   "metadata": {},
   "outputs": [],
   "source": [
    "import matplotlib.pyplot as plt\n",
    "\n",
    "## Model Init\n",
    "from sklearn.svm import SVR\n",
    "\n",
    "svrR = SVR( C=150, epsilon = 8, gamma= 'auto')\n",
    "svrL = SVR(kernel='linear', C=150, epsilon=8, gamma= 'auto')\n",
    "svrP = SVR(kernel='poly', C = 150, gamma = 'auto')\n",
    "## Training\n",
    "svrR.fit(xtrain[['Cement']], ytrain.values.ravel())\n",
    "svrL.fit(xtrain[['Cement']], ytrain.values.ravel())\n",
    "svrP.fit(xtrain[['Cement']], ytrain.values.ravel())\n",
    "\n",
    "## Test Prediction\n",
    "yhatR = svrR.predict(xtest[['Cement']])\n",
    "yhatL = svrL.predict(xtest[['Cement']])\n",
    "yhatP = svrP.predict(xtest[['Cement']])\n",
    "\n",
    "lineC = np.linspace(\n",
    "    int(X[['Cement']].values.min()),\n",
    "    int(X[['Cement']].values.max()),\n",
    "    800).reshape(-1,1)\n",
    "\n",
    "fig, axes = plt.subplots(1,1, figsize = (15,5))\n",
    "axes.scatter(xtrain[['Cement']].values, ytrain.values, c = 'hotpink', label = 'Data')\n",
    "axes.plot(lineC, svrR.predict(lineC), c= 'blue',label = 'Radial Base prediction', linewidth = 3)\n",
    "axes.plot(lineC, svrL.predict(lineC), c= 'orange',label = 'Linear', linewidth = 3)\n",
    "axes.plot(lineC, svrP.predict(lineC), c= 'green',label = 'Polynomial', linewidth = 3)\n",
    "axes.legend()\n",
    "axes.set_title('Prediction in different kernels')\n",
    "plt.show()"
   ]
  },
  {
   "cell_type": "code",
   "execution_count": null,
   "metadata": {},
   "outputs": [],
   "source": [
    "line1 = np.linspace(100, 550, 800).reshape(-1,1)\n",
    "line2 = np.linspace(1, 360, 800).reshape(-1,1)\n",
    "feature = pd.DataFrame(\n",
    "    {\n",
    "    'C': line1[:, 0],\n",
    "    'F': line2[:, 0]\n",
    "}\n",
    ")\n",
    "fig = plt.figure()\n",
    "axes = plt.axes(projection = '3d')\n",
    "\n",
    "axes.scatter3D(\n",
    "    xtrain[['Cement']], xtrain[['Blast_Furnace_Slag']], ytrain.values.ravel()\n",
    ")\n",
    "\n",
    "axes.plot3D(\n",
    "    feature[['C']].values.ravel(),\n",
    "    feature[['F']].values.ravel(), \n",
    "    svrR.predict(feature),\n",
    "    c = 'hotpink', label = 'RDF', linewidth = 2\n",
    "\n",
    ")\n",
    "\n",
    "axes.plot3D(\n",
    "    feature[['C']].values.ravel(),\n",
    "    feature[['F']].values.ravel(), \n",
    "    svrL.predict(feature),\n",
    "    c = 'green', label = 'Linear', linewidth = 2\n",
    ")\n",
    "\n",
    "axes.plot3D(\n",
    "    feature[['C']].values.ravel(),\n",
    "    feature[['F']].values.ravel(), \n",
    "    svrP.predict(feature),\n",
    "    c = 'blue', label = 'Polynomial', linewidth = 2\n",
    ")\n",
    "axes.set_xlabel('Cement')\n",
    "axes.set_ylabel('Blast_Furnace_Slag')\n",
    "axes.set_zlabel('Concrete_strength')\n",
    "axes.set_title('3D projection of Concrete strength')\n",
    "plt.legend()\n",
    "plt.show()"
   ]
  }
 ],
 "metadata": {
  "interpreter": {
   "hash": "247ab06e135bb35fa78c5eff31b2a9a0050dcb5fb773c2631d2a29ac689eeccb"
  },
  "kernelspec": {
   "display_name": "Python 3 (ipykernel)",
   "language": "python",
   "name": "python3"
  },
  "language_info": {
   "codemirror_mode": {
    "name": "ipython",
    "version": 3
   },
   "file_extension": ".py",
   "mimetype": "text/x-python",
   "name": "python",
   "nbconvert_exporter": "python",
   "pygments_lexer": "ipython3",
   "version": "3.9.5"
  }
 },
 "nbformat": 4,
 "nbformat_minor": 2
}
