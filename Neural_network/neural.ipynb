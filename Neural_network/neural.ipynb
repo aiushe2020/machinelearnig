{
 "cells": [
  {
   "cell_type": "code",
   "execution_count": 1,
   "metadata": {},
   "outputs": [],
   "source": [
    "import numpy as np\n",
    "import pandas as pd\n",
    "from skimage import io \n",
    "import os"
   ]
  },
  {
   "cell_type": "markdown",
   "metadata": {},
   "source": [
    "Data Loading"
   ]
  },
  {
   "cell_type": "code",
   "execution_count": 5,
   "metadata": {},
   "outputs": [],
   "source": [
    "files = os.listdir(r'C:\\\\Users\\\\user\\\\OneDrive\\\\Documents\\\\cropdisease\\\\processed_data')"
   ]
  },
  {
   "cell_type": "code",
   "execution_count": 6,
   "metadata": {},
   "outputs": [],
   "source": [
    "images = []\n",
    "labels = []\n",
    "files = os.listdir(r'C:\\\\Users\\\\user\\\\OneDrive\\\\Documents\\\\cropdisease\\\\processed_data')\n",
    "for pimage in files:\n",
    "    image = io.imread(f'C:\\\\Users\\\\user\\\\OneDrive\\\\Documents\\\\cropdisease\\\\processed_data\\\\{pimage}').ravel()/255\n",
    "    label = int(pimage.split('.')[0][-1])\n",
    "    images.append(image)\n",
    "    labels.append(label)\n"
   ]
  },
  {
   "cell_type": "code",
   "execution_count": 8,
   "metadata": {},
   "outputs": [],
   "source": [
    "from sklearn.model_selection import train_test_split\n",
    "x_train, x_test, y_train, y_test = train_test_split(images, labels, test_size=0.25, random_state=1)"
   ]
  },
  {
   "cell_type": "code",
   "execution_count": 11,
   "metadata": {},
   "outputs": [
    {
     "data": {
      "text/plain": [
       "array([0.89411765, 0.89803922, 0.89803922, ..., 0.89019608, 0.89019608,\n",
       "       0.89019608])"
      ]
     },
     "execution_count": 11,
     "metadata": {},
     "output_type": "execute_result"
    }
   ],
   "source": [
    "xtrain = np.array([image for image in x_train])\n",
    "ytrain = np.array(y_train)\n",
    "xtrain[0]"
   ]
  },
  {
   "cell_type": "code",
   "execution_count": 13,
   "metadata": {},
   "outputs": [
    {
     "data": {
      "text/plain": [
       "array([0.90588235, 0.90588235, 0.90588235, ..., 0.91372549, 0.91372549,\n",
       "       0.91372549])"
      ]
     },
     "execution_count": 13,
     "metadata": {},
     "output_type": "execute_result"
    }
   ],
   "source": [
    "xtest = np.array([image for image in x_test])\n",
    "ytest = np.array(y_test)\n",
    "xtest[0]"
   ]
  },
  {
   "cell_type": "markdown",
   "metadata": {},
   "source": [
    "Modelling"
   ]
  },
  {
   "cell_type": "code",
   "execution_count": 14,
   "metadata": {},
   "outputs": [
    {
     "name": "stdout",
     "output_type": "stream",
     "text": [
      "Iteration 1, loss = 1.13266712\n",
      "Iteration 2, loss = 1.57910493\n",
      "Iteration 3, loss = 1.41171805\n",
      "Iteration 4, loss = 1.21635536\n",
      "Iteration 5, loss = 1.10061774\n",
      "Iteration 6, loss = 1.14748281\n",
      "Iteration 7, loss = 1.24228106\n",
      "Iteration 8, loss = 1.25178883\n",
      "Iteration 9, loss = 1.19502633\n",
      "Iteration 10, loss = 1.13062631\n",
      "Iteration 11, loss = 1.09897406\n",
      "Iteration 12, loss = 1.10440636\n",
      "Iteration 13, loss = 1.12842402\n",
      "Iteration 14, loss = 1.14996191\n",
      "Iteration 15, loss = 1.15825125\n",
      "Iteration 16, loss = 1.15029895\n",
      "Iteration 17, loss = 1.13088958\n",
      "Iteration 18, loss = 1.11033730\n",
      "Iteration 19, loss = 1.09689501\n",
      "Iteration 20, loss = 1.09505237\n",
      "Iteration 21, loss = 1.10242913\n",
      "Iteration 22, loss = 1.11315804\n",
      "Iteration 23, loss = 1.11897737\n",
      "Iteration 24, loss = 1.11683854\n",
      "Iteration 25, loss = 1.10865276\n",
      "Iteration 26, loss = 1.09936491\n",
      "Iteration 27, loss = 1.09279515\n",
      "Iteration 28, loss = 1.09312342\n",
      "Iteration 29, loss = 1.09525936\n",
      "Iteration 30, loss = 1.10057478\n",
      "Iteration 31, loss = 1.10193056\n"
     ]
    },
    {
     "name": "stderr",
     "output_type": "stream",
     "text": [
      "C:\\Users\\user\\AppData\\Local\\Programs\\Python\\Python39\\lib\\site-packages\\sklearn\\neural_network\\_multilayer_perceptron.py:619: UserWarning: Training interrupted by user.\n",
      "  warnings.warn(\"Training interrupted by user.\")\n"
     ]
    },
    {
     "data": {
      "text/plain": [
       "MLPClassifier(activation='logistic', hidden_layer_sizes=(720, 210), verbose=2)"
      ]
     },
     "execution_count": 14,
     "metadata": {},
     "output_type": "execute_result"
    }
   ],
   "source": [
    "from sklearn.neural_network import MLPClassifier\n",
    "neural = MLPClassifier(hidden_layer_sizes=(720, 210), activation= 'logistic', verbose=2)\n",
    "neural.fit(xtrain, ytrain.ravel())"
   ]
  },
  {
   "cell_type": "code",
   "execution_count": 15,
   "metadata": {},
   "outputs": [
    {
     "data": {
      "text/plain": [
       "array([False, False,  True, False,  True, False, False, False, False,\n",
       "       False, False,  True, False,  True,  True,  True,  True,  True,\n",
       "       False, False,  True, False, False,  True, False, False,  True,\n",
       "        True,  True,  True])"
      ]
     },
     "execution_count": 15,
     "metadata": {},
     "output_type": "execute_result"
    }
   ],
   "source": [
    "ypred = neural.predict(xtest)\n",
    "ypred == ytest"
   ]
  },
  {
   "cell_type": "code",
   "execution_count": 16,
   "metadata": {},
   "outputs": [
    {
     "data": {
      "text/plain": [
       "<sklearn.metrics._plot.confusion_matrix.ConfusionMatrixDisplay at 0x2048384a1f0>"
      ]
     },
     "execution_count": 16,
     "metadata": {},
     "output_type": "execute_result"
    },
    {
     "data": {
      "image/png": "[encoded data removed]",
      "text/plain": [
       "<Figure size 432x288 with 2 Axes>"
      ]
     },
     "metadata": {
      "needs_background": "light"
     },
     "output_type": "display_data"
    }
   ],
   "source": [
    "from sklearn.metrics import plot_confusion_matrix\n",
    "plot_confusion_matrix(neural, xtrain, ytrain)"
   ]
  },
  {
   "cell_type": "code",
   "execution_count": null,
   "metadata": {},
   "outputs": [],
   "source": [
    "from skimage.feature import hog"
   ]
  }
 ],
 "metadata": {
  "interpreter": {
   "hash": "247ab06e135bb35fa78c5eff31b2a9a0050dcb5fb773c2631d2a29ac689eeccb"
  },
  "kernelspec": {
   "display_name": "Python 3.9.5 64-bit",
   "language": "python",
   "name": "python3"
  },
  "language_info": {
   "codemirror_mode": {
    "name": "ipython",
    "version": 3
   },
   "file_extension": ".py",
   "mimetype": "text/x-python",
   "name": "python",
   "nbconvert_exporter": "python",
   "pygments_lexer": "ipython3",
   "version": "3.9.5"
  },
  "orig_nbformat": 4
 },
 "nbformat": 4,
 "nbformat_minor": 2
}
